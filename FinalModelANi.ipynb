{
 "cells": [
  {
   "cell_type": "code",
   "execution_count": 1,
   "metadata": {},
   "outputs": [],
   "source": [
    "import pandas as pd\n",
    "import numpy as np\n",
    "import matplotlib.pyplot as plt\n",
    "import seaborn as sns\n",
    "%matplotlib inline"
   ]
  },
  {
   "cell_type": "code",
   "execution_count": 2,
   "metadata": {},
   "outputs": [
    {
     "data": {
      "text/html": [
       "<div>\n",
       "<style scoped>\n",
       "    .dataframe tbody tr th:only-of-type {\n",
       "        vertical-align: middle;\n",
       "    }\n",
       "\n",
       "    .dataframe tbody tr th {\n",
       "        vertical-align: top;\n",
       "    }\n",
       "\n",
       "    .dataframe thead th {\n",
       "        text-align: right;\n",
       "    }\n",
       "</style>\n",
       "<table border=\"1\" class=\"dataframe\">\n",
       "  <thead>\n",
       "    <tr style=\"text-align: right;\">\n",
       "      <th></th>\n",
       "      <th>Sno</th>\n",
       "      <th>Date</th>\n",
       "      <th>Time</th>\n",
       "      <th>State/UnionTerritory</th>\n",
       "      <th>ConfirmedIndianNational</th>\n",
       "      <th>ConfirmedForeignNational</th>\n",
       "      <th>Cured</th>\n",
       "      <th>Deaths</th>\n",
       "      <th>Confirmed</th>\n",
       "    </tr>\n",
       "  </thead>\n",
       "  <tbody>\n",
       "    <tr>\n",
       "      <th>0</th>\n",
       "      <td>1</td>\n",
       "      <td>2020-01-30</td>\n",
       "      <td>6:00 PM</td>\n",
       "      <td>Kerala</td>\n",
       "      <td>1</td>\n",
       "      <td>0</td>\n",
       "      <td>0</td>\n",
       "      <td>0</td>\n",
       "      <td>1</td>\n",
       "    </tr>\n",
       "    <tr>\n",
       "      <th>1</th>\n",
       "      <td>2</td>\n",
       "      <td>2020-01-31</td>\n",
       "      <td>6:00 PM</td>\n",
       "      <td>Kerala</td>\n",
       "      <td>1</td>\n",
       "      <td>0</td>\n",
       "      <td>0</td>\n",
       "      <td>0</td>\n",
       "      <td>1</td>\n",
       "    </tr>\n",
       "    <tr>\n",
       "      <th>2</th>\n",
       "      <td>3</td>\n",
       "      <td>2020-02-01</td>\n",
       "      <td>6:00 PM</td>\n",
       "      <td>Kerala</td>\n",
       "      <td>2</td>\n",
       "      <td>0</td>\n",
       "      <td>0</td>\n",
       "      <td>0</td>\n",
       "      <td>2</td>\n",
       "    </tr>\n",
       "    <tr>\n",
       "      <th>3</th>\n",
       "      <td>4</td>\n",
       "      <td>2020-02-02</td>\n",
       "      <td>6:00 PM</td>\n",
       "      <td>Kerala</td>\n",
       "      <td>3</td>\n",
       "      <td>0</td>\n",
       "      <td>0</td>\n",
       "      <td>0</td>\n",
       "      <td>3</td>\n",
       "    </tr>\n",
       "    <tr>\n",
       "      <th>4</th>\n",
       "      <td>5</td>\n",
       "      <td>2020-02-03</td>\n",
       "      <td>6:00 PM</td>\n",
       "      <td>Kerala</td>\n",
       "      <td>3</td>\n",
       "      <td>0</td>\n",
       "      <td>0</td>\n",
       "      <td>0</td>\n",
       "      <td>3</td>\n",
       "    </tr>\n",
       "  </tbody>\n",
       "</table>\n",
       "</div>"
      ],
      "text/plain": [
       "   Sno       Date     Time State/UnionTerritory ConfirmedIndianNational  \\\n",
       "0    1 2020-01-30  6:00 PM               Kerala                       1   \n",
       "1    2 2020-01-31  6:00 PM               Kerala                       1   \n",
       "2    3 2020-02-01  6:00 PM               Kerala                       2   \n",
       "3    4 2020-02-02  6:00 PM               Kerala                       3   \n",
       "4    5 2020-02-03  6:00 PM               Kerala                       3   \n",
       "\n",
       "  ConfirmedForeignNational  Cured  Deaths  Confirmed  \n",
       "0                        0      0       0          1  \n",
       "1                        0      0       0          1  \n",
       "2                        0      0       0          2  \n",
       "3                        0      0       0          3  \n",
       "4                        0      0       0          3  "
      ]
     },
     "execution_count": 2,
     "metadata": {},
     "output_type": "execute_result"
    }
   ],
   "source": [
    "df=pd.read_csv(\"covid_19_india.csv\",parse_dates=[\"Date\"],dayfirst=True)\n",
    "df.head()\n"
   ]
  },
  {
   "cell_type": "code",
   "execution_count": 3,
   "metadata": {},
   "outputs": [
    {
     "data": {
      "text/html": [
       "<div>\n",
       "<style scoped>\n",
       "    .dataframe tbody tr th:only-of-type {\n",
       "        vertical-align: middle;\n",
       "    }\n",
       "\n",
       "    .dataframe tbody tr th {\n",
       "        vertical-align: top;\n",
       "    }\n",
       "\n",
       "    .dataframe thead th {\n",
       "        text-align: right;\n",
       "    }\n",
       "</style>\n",
       "<table border=\"1\" class=\"dataframe\">\n",
       "  <thead>\n",
       "    <tr style=\"text-align: right;\">\n",
       "      <th></th>\n",
       "      <th>Sno</th>\n",
       "      <th>Date</th>\n",
       "      <th>Time</th>\n",
       "      <th>State/UnionTerritory</th>\n",
       "      <th>ConfirmedIndianNational</th>\n",
       "      <th>ConfirmedForeignNational</th>\n",
       "      <th>Cured</th>\n",
       "      <th>Deaths</th>\n",
       "      <th>Confirmed</th>\n",
       "    </tr>\n",
       "  </thead>\n",
       "  <tbody>\n",
       "    <tr>\n",
       "      <th>6171</th>\n",
       "      <td>6172</td>\n",
       "      <td>2020-09-11</td>\n",
       "      <td>8:00 AM</td>\n",
       "      <td>Telengana</td>\n",
       "      <td>-</td>\n",
       "      <td>-</td>\n",
       "      <td>119467</td>\n",
       "      <td>940</td>\n",
       "      <td>152602</td>\n",
       "    </tr>\n",
       "    <tr>\n",
       "      <th>6172</th>\n",
       "      <td>6173</td>\n",
       "      <td>2020-09-11</td>\n",
       "      <td>8:00 AM</td>\n",
       "      <td>Tripura</td>\n",
       "      <td>-</td>\n",
       "      <td>-</td>\n",
       "      <td>10255</td>\n",
       "      <td>173</td>\n",
       "      <td>17811</td>\n",
       "    </tr>\n",
       "    <tr>\n",
       "      <th>6173</th>\n",
       "      <td>6174</td>\n",
       "      <td>2020-09-11</td>\n",
       "      <td>8:00 AM</td>\n",
       "      <td>Uttarakhand</td>\n",
       "      <td>-</td>\n",
       "      <td>-</td>\n",
       "      <td>18783</td>\n",
       "      <td>377</td>\n",
       "      <td>28266</td>\n",
       "    </tr>\n",
       "    <tr>\n",
       "      <th>6174</th>\n",
       "      <td>6175</td>\n",
       "      <td>2020-09-11</td>\n",
       "      <td>8:00 AM</td>\n",
       "      <td>Uttar Pradesh</td>\n",
       "      <td>-</td>\n",
       "      <td>-</td>\n",
       "      <td>221506</td>\n",
       "      <td>4206</td>\n",
       "      <td>292029</td>\n",
       "    </tr>\n",
       "    <tr>\n",
       "      <th>6175</th>\n",
       "      <td>6176</td>\n",
       "      <td>2020-09-11</td>\n",
       "      <td>8:00 AM</td>\n",
       "      <td>West Bengal</td>\n",
       "      <td>-</td>\n",
       "      <td>-</td>\n",
       "      <td>166027</td>\n",
       "      <td>3771</td>\n",
       "      <td>193175</td>\n",
       "    </tr>\n",
       "  </tbody>\n",
       "</table>\n",
       "</div>"
      ],
      "text/plain": [
       "       Sno       Date     Time State/UnionTerritory ConfirmedIndianNational  \\\n",
       "6171  6172 2020-09-11  8:00 AM            Telengana                       -   \n",
       "6172  6173 2020-09-11  8:00 AM              Tripura                       -   \n",
       "6173  6174 2020-09-11  8:00 AM          Uttarakhand                       -   \n",
       "6174  6175 2020-09-11  8:00 AM        Uttar Pradesh                       -   \n",
       "6175  6176 2020-09-11  8:00 AM          West Bengal                       -   \n",
       "\n",
       "     ConfirmedForeignNational   Cured  Deaths  Confirmed  \n",
       "6171                        -  119467     940     152602  \n",
       "6172                        -   10255     173      17811  \n",
       "6173                        -   18783     377      28266  \n",
       "6174                        -  221506    4206     292029  \n",
       "6175                        -  166027    3771     193175  "
      ]
     },
     "execution_count": 3,
     "metadata": {},
     "output_type": "execute_result"
    }
   ],
   "source": [
    "df.tail()"
   ]
  },
  {
   "cell_type": "code",
   "execution_count": 4,
   "metadata": {},
   "outputs": [],
   "source": [
    "sns.set(rc={\"figure.figsize\":(25,20)})"
   ]
  },
  {
   "cell_type": "code",
   "execution_count": 5,
   "metadata": {},
   "outputs": [
    {
     "data": {
      "text/html": [
       "<div>\n",
       "<style scoped>\n",
       "    .dataframe tbody tr th:only-of-type {\n",
       "        vertical-align: middle;\n",
       "    }\n",
       "\n",
       "    .dataframe tbody tr th {\n",
       "        vertical-align: top;\n",
       "    }\n",
       "\n",
       "    .dataframe thead th {\n",
       "        text-align: right;\n",
       "    }\n",
       "</style>\n",
       "<table border=\"1\" class=\"dataframe\">\n",
       "  <thead>\n",
       "    <tr style=\"text-align: right;\">\n",
       "      <th></th>\n",
       "      <th>Sno</th>\n",
       "      <th>Date</th>\n",
       "      <th>Time</th>\n",
       "      <th>State/UnionTerritory</th>\n",
       "      <th>ConfirmedIndianNational</th>\n",
       "      <th>ConfirmedForeignNational</th>\n",
       "      <th>Cured</th>\n",
       "      <th>Deaths</th>\n",
       "      <th>Confirmed</th>\n",
       "    </tr>\n",
       "  </thead>\n",
       "  <tbody>\n",
       "    <tr>\n",
       "      <th>365</th>\n",
       "      <td>366</td>\n",
       "      <td>2020-03-26</td>\n",
       "      <td>6:00 PM</td>\n",
       "      <td>Andaman and Nicobar Islands</td>\n",
       "      <td>1</td>\n",
       "      <td>0</td>\n",
       "      <td>0</td>\n",
       "      <td>0</td>\n",
       "      <td>1</td>\n",
       "    </tr>\n",
       "    <tr>\n",
       "      <th>392</th>\n",
       "      <td>393</td>\n",
       "      <td>2020-03-27</td>\n",
       "      <td>10:00 AM</td>\n",
       "      <td>Andaman and Nicobar Islands</td>\n",
       "      <td>1</td>\n",
       "      <td>0</td>\n",
       "      <td>0</td>\n",
       "      <td>0</td>\n",
       "      <td>1</td>\n",
       "    </tr>\n",
       "    <tr>\n",
       "      <th>420</th>\n",
       "      <td>421</td>\n",
       "      <td>2020-03-28</td>\n",
       "      <td>6:00 PM</td>\n",
       "      <td>Andaman and Nicobar Islands</td>\n",
       "      <td>6</td>\n",
       "      <td>0</td>\n",
       "      <td>0</td>\n",
       "      <td>0</td>\n",
       "      <td>6</td>\n",
       "    </tr>\n",
       "    <tr>\n",
       "      <th>447</th>\n",
       "      <td>448</td>\n",
       "      <td>2020-03-29</td>\n",
       "      <td>7:30 PM</td>\n",
       "      <td>Andaman and Nicobar Islands</td>\n",
       "      <td>-</td>\n",
       "      <td>-</td>\n",
       "      <td>0</td>\n",
       "      <td>0</td>\n",
       "      <td>9</td>\n",
       "    </tr>\n",
       "    <tr>\n",
       "      <th>474</th>\n",
       "      <td>475</td>\n",
       "      <td>2020-03-30</td>\n",
       "      <td>9:30 PM</td>\n",
       "      <td>Andaman and Nicobar Islands</td>\n",
       "      <td>-</td>\n",
       "      <td>-</td>\n",
       "      <td>0</td>\n",
       "      <td>0</td>\n",
       "      <td>9</td>\n",
       "    </tr>\n",
       "  </tbody>\n",
       "</table>\n",
       "</div>"
      ],
      "text/plain": [
       "     Sno       Date      Time         State/UnionTerritory  \\\n",
       "365  366 2020-03-26   6:00 PM  Andaman and Nicobar Islands   \n",
       "392  393 2020-03-27  10:00 AM  Andaman and Nicobar Islands   \n",
       "420  421 2020-03-28   6:00 PM  Andaman and Nicobar Islands   \n",
       "447  448 2020-03-29   7:30 PM  Andaman and Nicobar Islands   \n",
       "474  475 2020-03-30   9:30 PM  Andaman and Nicobar Islands   \n",
       "\n",
       "    ConfirmedIndianNational ConfirmedForeignNational  Cured  Deaths  Confirmed  \n",
       "365                       1                        0      0       0          1  \n",
       "392                       1                        0      0       0          1  \n",
       "420                       6                        0      0       0          6  \n",
       "447                       -                        -      0       0          9  \n",
       "474                       -                        -      0       0          9  "
      ]
     },
     "execution_count": 5,
     "metadata": {},
     "output_type": "execute_result"
    }
   ],
   "source": [
    "df=df[df[\"State/UnionTerritory\"]=='Andaman and Nicobar Islands']\n",
    "df.head()"
   ]
  },
  {
   "cell_type": "code",
   "execution_count": 6,
   "metadata": {},
   "outputs": [
    {
     "data": {
      "text/html": [
       "<div>\n",
       "<style scoped>\n",
       "    .dataframe tbody tr th:only-of-type {\n",
       "        vertical-align: middle;\n",
       "    }\n",
       "\n",
       "    .dataframe tbody tr th {\n",
       "        vertical-align: top;\n",
       "    }\n",
       "\n",
       "    .dataframe thead th {\n",
       "        text-align: right;\n",
       "    }\n",
       "</style>\n",
       "<table border=\"1\" class=\"dataframe\">\n",
       "  <thead>\n",
       "    <tr style=\"text-align: right;\">\n",
       "      <th></th>\n",
       "      <th>Date</th>\n",
       "      <th>State/UnionTerritory</th>\n",
       "      <th>Cured</th>\n",
       "      <th>Deaths</th>\n",
       "      <th>Confirmed</th>\n",
       "    </tr>\n",
       "  </thead>\n",
       "  <tbody>\n",
       "    <tr>\n",
       "      <th>365</th>\n",
       "      <td>2020-03-26</td>\n",
       "      <td>Andaman and Nicobar Islands</td>\n",
       "      <td>0</td>\n",
       "      <td>0</td>\n",
       "      <td>1</td>\n",
       "    </tr>\n",
       "    <tr>\n",
       "      <th>392</th>\n",
       "      <td>2020-03-27</td>\n",
       "      <td>Andaman and Nicobar Islands</td>\n",
       "      <td>0</td>\n",
       "      <td>0</td>\n",
       "      <td>1</td>\n",
       "    </tr>\n",
       "    <tr>\n",
       "      <th>420</th>\n",
       "      <td>2020-03-28</td>\n",
       "      <td>Andaman and Nicobar Islands</td>\n",
       "      <td>0</td>\n",
       "      <td>0</td>\n",
       "      <td>6</td>\n",
       "    </tr>\n",
       "    <tr>\n",
       "      <th>447</th>\n",
       "      <td>2020-03-29</td>\n",
       "      <td>Andaman and Nicobar Islands</td>\n",
       "      <td>0</td>\n",
       "      <td>0</td>\n",
       "      <td>9</td>\n",
       "    </tr>\n",
       "    <tr>\n",
       "      <th>474</th>\n",
       "      <td>2020-03-30</td>\n",
       "      <td>Andaman and Nicobar Islands</td>\n",
       "      <td>0</td>\n",
       "      <td>0</td>\n",
       "      <td>9</td>\n",
       "    </tr>\n",
       "  </tbody>\n",
       "</table>\n",
       "</div>"
      ],
      "text/plain": [
       "          Date         State/UnionTerritory  Cured  Deaths  Confirmed\n",
       "365 2020-03-26  Andaman and Nicobar Islands      0       0          1\n",
       "392 2020-03-27  Andaman and Nicobar Islands      0       0          1\n",
       "420 2020-03-28  Andaman and Nicobar Islands      0       0          6\n",
       "447 2020-03-29  Andaman and Nicobar Islands      0       0          9\n",
       "474 2020-03-30  Andaman and Nicobar Islands      0       0          9"
      ]
     },
     "execution_count": 6,
     "metadata": {},
     "output_type": "execute_result"
    }
   ],
   "source": [
    "df1=df[[\"Date\",\"State/UnionTerritory\",\"Cured\",\"Deaths\",\"Confirmed\"]]\n",
    "df1.head()"
   ]
  },
  {
   "cell_type": "code",
   "execution_count": 7,
   "metadata": {},
   "outputs": [
    {
     "data": {
      "text/html": [
       "<div>\n",
       "<style scoped>\n",
       "    .dataframe tbody tr th:only-of-type {\n",
       "        vertical-align: middle;\n",
       "    }\n",
       "\n",
       "    .dataframe tbody tr th {\n",
       "        vertical-align: top;\n",
       "    }\n",
       "\n",
       "    .dataframe thead th {\n",
       "        text-align: right;\n",
       "    }\n",
       "</style>\n",
       "<table border=\"1\" class=\"dataframe\">\n",
       "  <thead>\n",
       "    <tr style=\"text-align: right;\">\n",
       "      <th></th>\n",
       "      <th>date</th>\n",
       "      <th>state</th>\n",
       "      <th>cured</th>\n",
       "      <th>deaths</th>\n",
       "      <th>confirmed</th>\n",
       "    </tr>\n",
       "  </thead>\n",
       "  <tbody>\n",
       "    <tr>\n",
       "      <th>365</th>\n",
       "      <td>2020-03-26</td>\n",
       "      <td>Andaman and Nicobar Islands</td>\n",
       "      <td>0</td>\n",
       "      <td>0</td>\n",
       "      <td>1</td>\n",
       "    </tr>\n",
       "    <tr>\n",
       "      <th>392</th>\n",
       "      <td>2020-03-27</td>\n",
       "      <td>Andaman and Nicobar Islands</td>\n",
       "      <td>0</td>\n",
       "      <td>0</td>\n",
       "      <td>1</td>\n",
       "    </tr>\n",
       "    <tr>\n",
       "      <th>420</th>\n",
       "      <td>2020-03-28</td>\n",
       "      <td>Andaman and Nicobar Islands</td>\n",
       "      <td>0</td>\n",
       "      <td>0</td>\n",
       "      <td>6</td>\n",
       "    </tr>\n",
       "    <tr>\n",
       "      <th>447</th>\n",
       "      <td>2020-03-29</td>\n",
       "      <td>Andaman and Nicobar Islands</td>\n",
       "      <td>0</td>\n",
       "      <td>0</td>\n",
       "      <td>9</td>\n",
       "    </tr>\n",
       "    <tr>\n",
       "      <th>474</th>\n",
       "      <td>2020-03-30</td>\n",
       "      <td>Andaman and Nicobar Islands</td>\n",
       "      <td>0</td>\n",
       "      <td>0</td>\n",
       "      <td>9</td>\n",
       "    </tr>\n",
       "  </tbody>\n",
       "</table>\n",
       "</div>"
      ],
      "text/plain": [
       "          date                        state  cured  deaths  confirmed\n",
       "365 2020-03-26  Andaman and Nicobar Islands      0       0          1\n",
       "392 2020-03-27  Andaman and Nicobar Islands      0       0          1\n",
       "420 2020-03-28  Andaman and Nicobar Islands      0       0          6\n",
       "447 2020-03-29  Andaman and Nicobar Islands      0       0          9\n",
       "474 2020-03-30  Andaman and Nicobar Islands      0       0          9"
      ]
     },
     "execution_count": 7,
     "metadata": {},
     "output_type": "execute_result"
    }
   ],
   "source": [
    "df1.columns=[\"date\",\"state\",\"cured\",\"deaths\",\"confirmed\"]\n",
    "df1.head()"
   ]
  },
  {
   "cell_type": "code",
   "execution_count": 8,
   "metadata": {},
   "outputs": [],
   "source": [
    "import datetime as dt"
   ]
  },
  {
   "cell_type": "code",
   "execution_count": 9,
   "metadata": {},
   "outputs": [
    {
     "name": "stderr",
     "output_type": "stream",
     "text": [
      "c:\\users\\dell\\appdata\\local\\programs\\python\\python38\\lib\\site-packages\\pandas\\core\\generic.py:5303: SettingWithCopyWarning: \n",
      "A value is trying to be set on a copy of a slice from a DataFrame.\n",
      "Try using .loc[row_indexer,col_indexer] = value instead\n",
      "\n",
      "See the caveats in the documentation: https://pandas.pydata.org/pandas-docs/stable/user_guide/indexing.html#returning-a-view-versus-a-copy\n",
      "  self[name] = value\n"
     ]
    },
    {
     "data": {
      "text/html": [
       "<div>\n",
       "<style scoped>\n",
       "    .dataframe tbody tr th:only-of-type {\n",
       "        vertical-align: middle;\n",
       "    }\n",
       "\n",
       "    .dataframe tbody tr th {\n",
       "        vertical-align: top;\n",
       "    }\n",
       "\n",
       "    .dataframe thead th {\n",
       "        text-align: right;\n",
       "    }\n",
       "</style>\n",
       "<table border=\"1\" class=\"dataframe\">\n",
       "  <thead>\n",
       "    <tr style=\"text-align: right;\">\n",
       "      <th></th>\n",
       "      <th>date</th>\n",
       "      <th>state</th>\n",
       "      <th>cured</th>\n",
       "      <th>deaths</th>\n",
       "      <th>confirmed</th>\n",
       "    </tr>\n",
       "  </thead>\n",
       "  <tbody>\n",
       "    <tr>\n",
       "      <th>365</th>\n",
       "      <td>737510</td>\n",
       "      <td>Andaman and Nicobar Islands</td>\n",
       "      <td>0</td>\n",
       "      <td>0</td>\n",
       "      <td>1</td>\n",
       "    </tr>\n",
       "    <tr>\n",
       "      <th>392</th>\n",
       "      <td>737511</td>\n",
       "      <td>Andaman and Nicobar Islands</td>\n",
       "      <td>0</td>\n",
       "      <td>0</td>\n",
       "      <td>1</td>\n",
       "    </tr>\n",
       "    <tr>\n",
       "      <th>420</th>\n",
       "      <td>737512</td>\n",
       "      <td>Andaman and Nicobar Islands</td>\n",
       "      <td>0</td>\n",
       "      <td>0</td>\n",
       "      <td>6</td>\n",
       "    </tr>\n",
       "    <tr>\n",
       "      <th>447</th>\n",
       "      <td>737513</td>\n",
       "      <td>Andaman and Nicobar Islands</td>\n",
       "      <td>0</td>\n",
       "      <td>0</td>\n",
       "      <td>9</td>\n",
       "    </tr>\n",
       "    <tr>\n",
       "      <th>474</th>\n",
       "      <td>737514</td>\n",
       "      <td>Andaman and Nicobar Islands</td>\n",
       "      <td>0</td>\n",
       "      <td>0</td>\n",
       "      <td>9</td>\n",
       "    </tr>\n",
       "  </tbody>\n",
       "</table>\n",
       "</div>"
      ],
      "text/plain": [
       "       date                        state  cured  deaths  confirmed\n",
       "365  737510  Andaman and Nicobar Islands      0       0          1\n",
       "392  737511  Andaman and Nicobar Islands      0       0          1\n",
       "420  737512  Andaman and Nicobar Islands      0       0          6\n",
       "447  737513  Andaman and Nicobar Islands      0       0          9\n",
       "474  737514  Andaman and Nicobar Islands      0       0          9"
      ]
     },
     "execution_count": 9,
     "metadata": {},
     "output_type": "execute_result"
    }
   ],
   "source": [
    "df1.date=df1.date.apply(dt.datetime.toordinal)\n",
    "df1.head()"
   ]
  },
  {
   "cell_type": "code",
   "execution_count": 10,
   "metadata": {},
   "outputs": [
    {
     "data": {
      "text/html": [
       "<div>\n",
       "<style scoped>\n",
       "    .dataframe tbody tr th:only-of-type {\n",
       "        vertical-align: middle;\n",
       "    }\n",
       "\n",
       "    .dataframe tbody tr th {\n",
       "        vertical-align: top;\n",
       "    }\n",
       "\n",
       "    .dataframe thead th {\n",
       "        text-align: right;\n",
       "    }\n",
       "</style>\n",
       "<table border=\"1\" class=\"dataframe\">\n",
       "  <thead>\n",
       "    <tr style=\"text-align: right;\">\n",
       "      <th></th>\n",
       "      <th>date</th>\n",
       "      <th>state</th>\n",
       "      <th>cured</th>\n",
       "      <th>deaths</th>\n",
       "      <th>confirmed</th>\n",
       "    </tr>\n",
       "  </thead>\n",
       "  <tbody>\n",
       "    <tr>\n",
       "      <th>6001</th>\n",
       "      <td>737675</td>\n",
       "      <td>Andaman and Nicobar Islands</td>\n",
       "      <td>2951</td>\n",
       "      <td>50</td>\n",
       "      <td>3332</td>\n",
       "    </tr>\n",
       "    <tr>\n",
       "      <th>6036</th>\n",
       "      <td>737676</td>\n",
       "      <td>Andaman and Nicobar Islands</td>\n",
       "      <td>2997</td>\n",
       "      <td>50</td>\n",
       "      <td>3359</td>\n",
       "    </tr>\n",
       "    <tr>\n",
       "      <th>6071</th>\n",
       "      <td>737677</td>\n",
       "      <td>Andaman and Nicobar Islands</td>\n",
       "      <td>3035</td>\n",
       "      <td>50</td>\n",
       "      <td>3392</td>\n",
       "    </tr>\n",
       "    <tr>\n",
       "      <th>6106</th>\n",
       "      <td>737678</td>\n",
       "      <td>Andaman and Nicobar Islands</td>\n",
       "      <td>3078</td>\n",
       "      <td>51</td>\n",
       "      <td>3426</td>\n",
       "    </tr>\n",
       "    <tr>\n",
       "      <th>6141</th>\n",
       "      <td>737679</td>\n",
       "      <td>Andaman and Nicobar Islands</td>\n",
       "      <td>3121</td>\n",
       "      <td>51</td>\n",
       "      <td>3465</td>\n",
       "    </tr>\n",
       "  </tbody>\n",
       "</table>\n",
       "</div>"
      ],
      "text/plain": [
       "        date                        state  cured  deaths  confirmed\n",
       "6001  737675  Andaman and Nicobar Islands   2951      50       3332\n",
       "6036  737676  Andaman and Nicobar Islands   2997      50       3359\n",
       "6071  737677  Andaman and Nicobar Islands   3035      50       3392\n",
       "6106  737678  Andaman and Nicobar Islands   3078      51       3426\n",
       "6141  737679  Andaman and Nicobar Islands   3121      51       3465"
      ]
     },
     "execution_count": 10,
     "metadata": {},
     "output_type": "execute_result"
    }
   ],
   "source": [
    "df1.tail()"
   ]
  },
  {
   "cell_type": "code",
   "execution_count": 11,
   "metadata": {},
   "outputs": [
    {
     "data": {
      "text/plain": [
       "<seaborn.axisgrid.PairGrid at 0x1ab5258f610>"
      ]
     },
     "execution_count": 11,
     "metadata": {},
     "output_type": "execute_result"
    },
    {
     "data": {
      "image/png": "[encoded data removed]",
      "text/plain": [
       "<Figure size 720x720 with 20 Axes>"
      ]
     },
     "metadata": {},
     "output_type": "display_data"
    }
   ],
   "source": [
    "sns.pairplot(df1[[\"date\",\"cured\",\"deaths\",\"confirmed\"]])"
   ]
  },
  {
   "cell_type": "code",
   "execution_count": 12,
   "metadata": {},
   "outputs": [
    {
     "data": {
      "text/plain": [
       "<matplotlib.collections.PathCollection at 0x1ab5502aa90>"
      ]
     },
     "execution_count": 12,
     "metadata": {},
     "output_type": "execute_result"
    },
    {
     "data": {
      "image/png": "[encoded data removed]",
      "text/plain": [
       "<Figure size 1800x1440 with 1 Axes>"
      ]
     },
     "metadata": {},
     "output_type": "display_data"
    }
   ],
   "source": [
    "plt.title(\"Plotof date v/s confirmed\")\n",
    "plt.xlabel(\"Date\")\n",
    "plt.ylabel(\"Confirmed cases\")\n",
    "plt.scatter(df1.date,df1.confirmed,marker=\".\")"
   ]
  },
  {
   "cell_type": "code",
   "execution_count": 13,
   "metadata": {},
   "outputs": [
    {
     "name": "stderr",
     "output_type": "stream",
     "text": [
      "<ipython-input-13-2bd8be1c1e6f>:1: SettingWithCopyWarning: \n",
      "A value is trying to be set on a copy of a slice from a DataFrame.\n",
      "Try using .loc[row_indexer,col_indexer] = value instead\n",
      "\n",
      "See the caveats in the documentation: https://pandas.pydata.org/pandas-docs/stable/user_guide/indexing.html#returning-a-view-versus-a-copy\n",
      "  df1[\"Transconf\"]=np.log(df1[\"confirmed\"])\n"
     ]
    },
    {
     "data": {
      "text/html": [
       "<div>\n",
       "<style scoped>\n",
       "    .dataframe tbody tr th:only-of-type {\n",
       "        vertical-align: middle;\n",
       "    }\n",
       "\n",
       "    .dataframe tbody tr th {\n",
       "        vertical-align: top;\n",
       "    }\n",
       "\n",
       "    .dataframe thead th {\n",
       "        text-align: right;\n",
       "    }\n",
       "</style>\n",
       "<table border=\"1\" class=\"dataframe\">\n",
       "  <thead>\n",
       "    <tr style=\"text-align: right;\">\n",
       "      <th></th>\n",
       "      <th>date</th>\n",
       "      <th>state</th>\n",
       "      <th>cured</th>\n",
       "      <th>deaths</th>\n",
       "      <th>confirmed</th>\n",
       "      <th>Transconf</th>\n",
       "    </tr>\n",
       "  </thead>\n",
       "  <tbody>\n",
       "    <tr>\n",
       "      <th>365</th>\n",
       "      <td>737510</td>\n",
       "      <td>Andaman and Nicobar Islands</td>\n",
       "      <td>0</td>\n",
       "      <td>0</td>\n",
       "      <td>1</td>\n",
       "      <td>0.000000</td>\n",
       "    </tr>\n",
       "    <tr>\n",
       "      <th>392</th>\n",
       "      <td>737511</td>\n",
       "      <td>Andaman and Nicobar Islands</td>\n",
       "      <td>0</td>\n",
       "      <td>0</td>\n",
       "      <td>1</td>\n",
       "      <td>0.000000</td>\n",
       "    </tr>\n",
       "    <tr>\n",
       "      <th>420</th>\n",
       "      <td>737512</td>\n",
       "      <td>Andaman and Nicobar Islands</td>\n",
       "      <td>0</td>\n",
       "      <td>0</td>\n",
       "      <td>6</td>\n",
       "      <td>1.791759</td>\n",
       "    </tr>\n",
       "    <tr>\n",
       "      <th>447</th>\n",
       "      <td>737513</td>\n",
       "      <td>Andaman and Nicobar Islands</td>\n",
       "      <td>0</td>\n",
       "      <td>0</td>\n",
       "      <td>9</td>\n",
       "      <td>2.197225</td>\n",
       "    </tr>\n",
       "    <tr>\n",
       "      <th>474</th>\n",
       "      <td>737514</td>\n",
       "      <td>Andaman and Nicobar Islands</td>\n",
       "      <td>0</td>\n",
       "      <td>0</td>\n",
       "      <td>9</td>\n",
       "      <td>2.197225</td>\n",
       "    </tr>\n",
       "  </tbody>\n",
       "</table>\n",
       "</div>"
      ],
      "text/plain": [
       "       date                        state  cured  deaths  confirmed  Transconf\n",
       "365  737510  Andaman and Nicobar Islands      0       0          1   0.000000\n",
       "392  737511  Andaman and Nicobar Islands      0       0          1   0.000000\n",
       "420  737512  Andaman and Nicobar Islands      0       0          6   1.791759\n",
       "447  737513  Andaman and Nicobar Islands      0       0          9   2.197225\n",
       "474  737514  Andaman and Nicobar Islands      0       0          9   2.197225"
      ]
     },
     "execution_count": 13,
     "metadata": {},
     "output_type": "execute_result"
    }
   ],
   "source": [
    "df1[\"Transconf\"]=np.log(df1[\"confirmed\"])\n",
    "df1.head()"
   ]
  },
  {
   "cell_type": "code",
   "execution_count": 14,
   "metadata": {},
   "outputs": [
    {
     "data": {
      "text/plain": [
       "<matplotlib.collections.PathCollection at 0x1ab550877f0>"
      ]
     },
     "execution_count": 14,
     "metadata": {},
     "output_type": "execute_result"
    },
    {
     "data": {
      "image/png": "[encoded data removed]",
      "text/plain": [
       "<Figure size 1800x1440 with 1 Axes>"
      ]
     },
     "metadata": {},
     "output_type": "display_data"
    }
   ],
   "source": [
    "plt.title(\"Plotof date v/s Transformedconfirmed\")\n",
    "plt.xlabel(\"Date\")\n",
    "plt.ylabel(\"Confirmed cases\")\n",
    "plt.scatter(df1.date,df1.Transconf,marker=\"*\",color=\"green\")"
   ]
  },
  {
   "cell_type": "code",
   "execution_count": 15,
   "metadata": {},
   "outputs": [
    {
     "data": {
      "text/html": [
       "<div>\n",
       "<style scoped>\n",
       "    .dataframe tbody tr th:only-of-type {\n",
       "        vertical-align: middle;\n",
       "    }\n",
       "\n",
       "    .dataframe tbody tr th {\n",
       "        vertical-align: top;\n",
       "    }\n",
       "\n",
       "    .dataframe thead th {\n",
       "        text-align: right;\n",
       "    }\n",
       "</style>\n",
       "<table border=\"1\" class=\"dataframe\">\n",
       "  <thead>\n",
       "    <tr style=\"text-align: right;\">\n",
       "      <th></th>\n",
       "      <th>date</th>\n",
       "      <th>state</th>\n",
       "      <th>cured</th>\n",
       "      <th>deaths</th>\n",
       "      <th>confirmed</th>\n",
       "      <th>Transconf</th>\n",
       "    </tr>\n",
       "  </thead>\n",
       "  <tbody>\n",
       "    <tr>\n",
       "      <th>365</th>\n",
       "      <td>737510</td>\n",
       "      <td>Andaman and Nicobar Islands</td>\n",
       "      <td>0</td>\n",
       "      <td>0</td>\n",
       "      <td>1</td>\n",
       "      <td>0.000000</td>\n",
       "    </tr>\n",
       "    <tr>\n",
       "      <th>392</th>\n",
       "      <td>737511</td>\n",
       "      <td>Andaman and Nicobar Islands</td>\n",
       "      <td>0</td>\n",
       "      <td>0</td>\n",
       "      <td>1</td>\n",
       "      <td>0.000000</td>\n",
       "    </tr>\n",
       "    <tr>\n",
       "      <th>420</th>\n",
       "      <td>737512</td>\n",
       "      <td>Andaman and Nicobar Islands</td>\n",
       "      <td>0</td>\n",
       "      <td>0</td>\n",
       "      <td>6</td>\n",
       "      <td>1.791759</td>\n",
       "    </tr>\n",
       "    <tr>\n",
       "      <th>447</th>\n",
       "      <td>737513</td>\n",
       "      <td>Andaman and Nicobar Islands</td>\n",
       "      <td>0</td>\n",
       "      <td>0</td>\n",
       "      <td>9</td>\n",
       "      <td>2.197225</td>\n",
       "    </tr>\n",
       "    <tr>\n",
       "      <th>474</th>\n",
       "      <td>737514</td>\n",
       "      <td>Andaman and Nicobar Islands</td>\n",
       "      <td>0</td>\n",
       "      <td>0</td>\n",
       "      <td>9</td>\n",
       "      <td>2.197225</td>\n",
       "    </tr>\n",
       "  </tbody>\n",
       "</table>\n",
       "</div>"
      ],
      "text/plain": [
       "       date                        state  cured  deaths  confirmed  Transconf\n",
       "365  737510  Andaman and Nicobar Islands      0       0          1   0.000000\n",
       "392  737511  Andaman and Nicobar Islands      0       0          1   0.000000\n",
       "420  737512  Andaman and Nicobar Islands      0       0          6   1.791759\n",
       "447  737513  Andaman and Nicobar Islands      0       0          9   2.197225\n",
       "474  737514  Andaman and Nicobar Islands      0       0          9   2.197225"
      ]
     },
     "execution_count": 15,
     "metadata": {},
     "output_type": "execute_result"
    }
   ],
   "source": [
    "\n",
    "df1.head()"
   ]
  },
  {
   "cell_type": "code",
   "execution_count": 16,
   "metadata": {},
   "outputs": [
    {
     "data": {
      "text/html": [
       "<div>\n",
       "<style scoped>\n",
       "    .dataframe tbody tr th:only-of-type {\n",
       "        vertical-align: middle;\n",
       "    }\n",
       "\n",
       "    .dataframe tbody tr th {\n",
       "        vertical-align: top;\n",
       "    }\n",
       "\n",
       "    .dataframe thead th {\n",
       "        text-align: right;\n",
       "    }\n",
       "</style>\n",
       "<table border=\"1\" class=\"dataframe\">\n",
       "  <thead>\n",
       "    <tr style=\"text-align: right;\">\n",
       "      <th></th>\n",
       "      <th>date</th>\n",
       "      <th>state</th>\n",
       "      <th>cured</th>\n",
       "      <th>deaths</th>\n",
       "      <th>confirmed</th>\n",
       "      <th>Transconf</th>\n",
       "    </tr>\n",
       "  </thead>\n",
       "  <tbody>\n",
       "    <tr>\n",
       "      <th>365</th>\n",
       "      <td>737510</td>\n",
       "      <td>Andaman and Nicobar Islands</td>\n",
       "      <td>0</td>\n",
       "      <td>0</td>\n",
       "      <td>1</td>\n",
       "      <td>0.000000</td>\n",
       "    </tr>\n",
       "    <tr>\n",
       "      <th>392</th>\n",
       "      <td>737511</td>\n",
       "      <td>Andaman and Nicobar Islands</td>\n",
       "      <td>0</td>\n",
       "      <td>0</td>\n",
       "      <td>1</td>\n",
       "      <td>0.000000</td>\n",
       "    </tr>\n",
       "    <tr>\n",
       "      <th>420</th>\n",
       "      <td>737512</td>\n",
       "      <td>Andaman and Nicobar Islands</td>\n",
       "      <td>0</td>\n",
       "      <td>0</td>\n",
       "      <td>6</td>\n",
       "      <td>1.791759</td>\n",
       "    </tr>\n",
       "    <tr>\n",
       "      <th>447</th>\n",
       "      <td>737513</td>\n",
       "      <td>Andaman and Nicobar Islands</td>\n",
       "      <td>0</td>\n",
       "      <td>0</td>\n",
       "      <td>9</td>\n",
       "      <td>2.197225</td>\n",
       "    </tr>\n",
       "    <tr>\n",
       "      <th>474</th>\n",
       "      <td>737514</td>\n",
       "      <td>Andaman and Nicobar Islands</td>\n",
       "      <td>0</td>\n",
       "      <td>0</td>\n",
       "      <td>9</td>\n",
       "      <td>2.197225</td>\n",
       "    </tr>\n",
       "  </tbody>\n",
       "</table>\n",
       "</div>"
      ],
      "text/plain": [
       "       date                        state  cured  deaths  confirmed  Transconf\n",
       "365  737510  Andaman and Nicobar Islands      0       0          1   0.000000\n",
       "392  737511  Andaman and Nicobar Islands      0       0          1   0.000000\n",
       "420  737512  Andaman and Nicobar Islands      0       0          6   1.791759\n",
       "447  737513  Andaman and Nicobar Islands      0       0          9   2.197225\n",
       "474  737514  Andaman and Nicobar Islands      0       0          9   2.197225"
      ]
     },
     "execution_count": 16,
     "metadata": {},
     "output_type": "execute_result"
    }
   ],
   "source": [
    "df1.head()"
   ]
  },
  {
   "cell_type": "code",
   "execution_count": 17,
   "metadata": {},
   "outputs": [
    {
     "data": {
      "text/plain": [
       "170"
      ]
     },
     "execution_count": 17,
     "metadata": {},
     "output_type": "execute_result"
    }
   ],
   "source": [
    "x=df1[[\"date\"]]\n",
    "y=df1[[\"Transconf\"]]\n",
    "len(x)"
   ]
  },
  {
   "cell_type": "code",
   "execution_count": 18,
   "metadata": {},
   "outputs": [
    {
     "data": {
      "text/plain": [
       "170"
      ]
     },
     "execution_count": 18,
     "metadata": {},
     "output_type": "execute_result"
    }
   ],
   "source": [
    "len(y)"
   ]
  },
  {
   "cell_type": "code",
   "execution_count": 19,
   "metadata": {},
   "outputs": [],
   "source": [
    "from sklearn.model_selection import train_test_split\n",
    "xtrain,xtest,ytrain,ytest=train_test_split(x,y,test_size=0.2)"
   ]
  },
  {
   "cell_type": "code",
   "execution_count": 20,
   "metadata": {},
   "outputs": [
    {
     "data": {
      "text/plain": [
       "136"
      ]
     },
     "execution_count": 20,
     "metadata": {},
     "output_type": "execute_result"
    }
   ],
   "source": [
    "len(xtrain)"
   ]
  },
  {
   "cell_type": "code",
   "execution_count": 21,
   "metadata": {},
   "outputs": [
    {
     "data": {
      "text/plain": [
       "34"
      ]
     },
     "execution_count": 21,
     "metadata": {},
     "output_type": "execute_result"
    }
   ],
   "source": [
    "len(xtest)"
   ]
  },
  {
   "cell_type": "code",
   "execution_count": 22,
   "metadata": {},
   "outputs": [
    {
     "data": {
      "text/plain": [
       "<matplotlib.collections.PathCollection at 0x1ab5541e520>"
      ]
     },
     "execution_count": 22,
     "metadata": {},
     "output_type": "execute_result"
    },
    {
     "data": {
      "image/png": "[encoded data removed]",
      "text/plain": [
       "<Figure size 1800x1440 with 1 Axes>"
      ]
     },
     "metadata": {},
     "output_type": "display_data"
    }
   ],
   "source": [
    "plt.title(\"Plotof tranining set\")\n",
    "plt.xlabel(\"Date\")\n",
    "plt.ylabel(\"Confirmed cases\")\n",
    "plt.scatter(xtrain,ytrain,marker=\"*\",color=\"green\")"
   ]
  },
  {
   "cell_type": "code",
   "execution_count": 23,
   "metadata": {},
   "outputs": [
    {
     "data": {
      "text/plain": [
       "<matplotlib.collections.PathCollection at 0x1ab54dd9400>"
      ]
     },
     "execution_count": 23,
     "metadata": {},
     "output_type": "execute_result"
    },
    {
     "data": {
      "image/png": "[encoded data removed]",
      "text/plain": [
       "<Figure size 1800x1440 with 1 Axes>"
      ]
     },
     "metadata": {},
     "output_type": "display_data"
    }
   ],
   "source": [
    "plt.title(\"Plotof test set\")\n",
    "plt.xlabel(\"Date\")\n",
    "plt.ylabel(\"Confirmed cases\")\n",
    "plt.scatter(xtrain,ytrain,marker=\"*\",color=\"blue\")"
   ]
  },
  {
   "cell_type": "code",
   "execution_count": 24,
   "metadata": {},
   "outputs": [],
   "source": [
    "from sklearn.linear_model import LinearRegression\n",
    "model1=LinearRegression()"
   ]
  },
  {
   "cell_type": "code",
   "execution_count": 25,
   "metadata": {},
   "outputs": [
    {
     "data": {
      "text/plain": [
       "LinearRegression()"
      ]
     },
     "execution_count": 25,
     "metadata": {},
     "output_type": "execute_result"
    }
   ],
   "source": [
    "model1.fit(xtrain,ytrain)"
   ]
  },
  {
   "cell_type": "code",
   "execution_count": 26,
   "metadata": {},
   "outputs": [
    {
     "data": {
      "text/plain": [
       "array([[5.16515923],\n",
       "       [5.08752876],\n",
       "       [3.45728899],\n",
       "       [4.58293074],\n",
       "       [5.90264865],\n",
       "       [3.34084329],\n",
       "       [4.35003934],\n",
       "       [5.47568109],\n",
       "       [5.98027911],\n",
       "       [4.23359364],\n",
       "       [3.72899562],\n",
       "       [5.35923539],\n",
       "       [2.05994061],\n",
       "       [2.17638631],\n",
       "       [6.64013807],\n",
       "       [3.88425655],\n",
       "       [1.55534259],\n",
       "       [3.61254992],\n",
       "       [7.72696458],\n",
       "       [2.71979957],\n",
       "       [5.59212678],\n",
       "       [6.52369237],\n",
       "       [2.9915062 ],\n",
       "       [1.59415782],\n",
       "       [5.51449632],\n",
       "       [3.37965852],\n",
       "       [6.13554004],\n",
       "       [7.41644272],\n",
       "       [3.1079519 ],\n",
       "       [7.22236656],\n",
       "       [7.33881225],\n",
       "       [5.94146388],\n",
       "       [6.48487714],\n",
       "       [7.53288842]])"
      ]
     },
     "execution_count": 26,
     "metadata": {},
     "output_type": "execute_result"
    }
   ],
   "source": [
    "ypred1=model1.predict(xtest)\n",
    "ypred1"
   ]
  },
  {
   "cell_type": "code",
   "execution_count": 27,
   "metadata": {},
   "outputs": [
    {
     "data": {
      "text/plain": [
       "<matplotlib.collections.PathCollection at 0x1ab569ed910>"
      ]
     },
     "execution_count": 27,
     "metadata": {},
     "output_type": "execute_result"
    },
    {
     "data": {
      "image/png": "[encoded data removed]",
      "text/plain": [
       "<Figure size 1800x1440 with 2 Axes>"
      ]
     },
     "metadata": {},
     "output_type": "display_data"
    }
   ],
   "source": [
    "plt.subplot(1,2,1)\n",
    "plt.title(\"Plot of predicted v/s actual set for Model1.Red=Predicted,Blue=Actual \")\n",
    "plt.xlabel(\"Date\")\n",
    "plt.ylabel(\"Number of predicted and actual cases\")\n",
    "plt.scatter(xtest,ypred1,marker=\"*\",color=\"red\")\n",
    "plt.subplot(1,2,2)\n",
    "plt.xlabel(\"Date\")\n",
    "plt.scatter(xtest,ytest,marker=\"+\",color=\"blue\")"
   ]
  },
  {
   "cell_type": "code",
   "execution_count": 28,
   "metadata": {},
   "outputs": [
    {
     "data": {
      "text/plain": [
       "0.9123126914793865"
      ]
     },
     "execution_count": 28,
     "metadata": {},
     "output_type": "execute_result"
    }
   ],
   "source": [
    "m1score=model1.score(x,y)\n",
    "m1score"
   ]
  },
  {
   "cell_type": "code",
   "execution_count": 29,
   "metadata": {},
   "outputs": [],
   "source": [
    "import math"
   ]
  },
  {
   "cell_type": "code",
   "execution_count": 30,
   "metadata": {},
   "outputs": [
    {
     "data": {
      "text/plain": [
       "0.28433493132734694"
      ]
     },
     "execution_count": 30,
     "metadata": {},
     "output_type": "execute_result"
    }
   ],
   "source": [
    "from sklearn.metrics import mean_squared_error\n",
    "mse1=mean_squared_error(ytest,ypred1)\n",
    "mse1"
   ]
  },
  {
   "cell_type": "code",
   "execution_count": 31,
   "metadata": {},
   "outputs": [
    {
     "data": {
      "text/plain": [
       "0.533230654902123"
      ]
     },
     "execution_count": 31,
     "metadata": {},
     "output_type": "execute_result"
    }
   ],
   "source": [
    "rmse1=math.sqrt(mse1)\n",
    "rmse1"
   ]
  },
  {
   "cell_type": "code",
   "execution_count": 32,
   "metadata": {},
   "outputs": [
    {
     "data": {
      "text/plain": [
       "0.4872655366965836"
      ]
     },
     "execution_count": 32,
     "metadata": {},
     "output_type": "execute_result"
    }
   ],
   "source": [
    "from sklearn.metrics import mean_absolute_error\n",
    "mae1=mean_absolute_error(ytest,ypred1)\n",
    "mae1"
   ]
  },
  {
   "cell_type": "code",
   "execution_count": 33,
   "metadata": {},
   "outputs": [
    {
     "data": {
      "text/plain": [
       "array([[ 175.06533126],\n",
       "       [ 161.98905326],\n",
       "       [  31.73083717],\n",
       "       [  97.80060236],\n",
       "       [ 366.00560443],\n",
       "       [  28.2429337 ],\n",
       "       [  77.48151101],\n",
       "       [ 238.813064  ],\n",
       "       [ 395.55075541],\n",
       "       [  68.96462158],\n",
       "       [  41.63726744],\n",
       "       [ 212.56235677],\n",
       "       [   7.84550389],\n",
       "       [   8.81439616],\n",
       "       [ 765.20063401],\n",
       "       [  48.6307744 ],\n",
       "       [   4.736709  ],\n",
       "       [  37.06043358],\n",
       "       [2268.70526538],\n",
       "       [  15.17727995],\n",
       "       [ 268.30564171],\n",
       "       [ 681.08857802],\n",
       "       [  19.91565683],\n",
       "       [   4.92418029],\n",
       "       [ 248.26489957],\n",
       "       [  29.36074342],\n",
       "       [ 461.98851977],\n",
       "       [1663.10683415],\n",
       "       [  22.37517076],\n",
       "       [1369.72676283],\n",
       "       [1538.88322485],\n",
       "       [ 380.49151543],\n",
       "       [ 655.15846362],\n",
       "       [1868.49470832]])"
      ]
     },
     "execution_count": 33,
     "metadata": {},
     "output_type": "execute_result"
    }
   ],
   "source": [
    "ypredf1=np.exp(ypred1)\n",
    "ypredf1"
   ]
  },
  {
   "cell_type": "code",
   "execution_count": 34,
   "metadata": {},
   "outputs": [
    {
     "data": {
      "text/html": [
       "<div>\n",
       "<style scoped>\n",
       "    .dataframe tbody tr th:only-of-type {\n",
       "        vertical-align: middle;\n",
       "    }\n",
       "\n",
       "    .dataframe tbody tr th {\n",
       "        vertical-align: top;\n",
       "    }\n",
       "\n",
       "    .dataframe thead th {\n",
       "        text-align: right;\n",
       "    }\n",
       "</style>\n",
       "<table border=\"1\" class=\"dataframe\">\n",
       "  <thead>\n",
       "    <tr style=\"text-align: right;\">\n",
       "      <th></th>\n",
       "      <th>Transconf</th>\n",
       "    </tr>\n",
       "  </thead>\n",
       "  <tbody>\n",
       "    <tr>\n",
       "      <th>3603</th>\n",
       "      <td>97.0</td>\n",
       "    </tr>\n",
       "    <tr>\n",
       "      <th>3531</th>\n",
       "      <td>76.0</td>\n",
       "    </tr>\n",
       "    <tr>\n",
       "      <th>2034</th>\n",
       "      <td>33.0</td>\n",
       "    </tr>\n",
       "    <tr>\n",
       "      <th>3063</th>\n",
       "      <td>41.0</td>\n",
       "    </tr>\n",
       "    <tr>\n",
       "      <th>4286</th>\n",
       "      <td>203.0</td>\n",
       "    </tr>\n",
       "    <tr>\n",
       "      <th>1935</th>\n",
       "      <td>33.0</td>\n",
       "    </tr>\n",
       "    <tr>\n",
       "      <th>2846</th>\n",
       "      <td>33.0</td>\n",
       "    </tr>\n",
       "    <tr>\n",
       "      <th>3891</th>\n",
       "      <td>149.0</td>\n",
       "    </tr>\n",
       "    <tr>\n",
       "      <th>4356</th>\n",
       "      <td>212.0</td>\n",
       "    </tr>\n",
       "    <tr>\n",
       "      <th>2738</th>\n",
       "      <td>33.0</td>\n",
       "    </tr>\n",
       "    <tr>\n",
       "      <th>2271</th>\n",
       "      <td>33.0</td>\n",
       "    </tr>\n",
       "    <tr>\n",
       "      <th>3783</th>\n",
       "      <td>125.0</td>\n",
       "    </tr>\n",
       "    <tr>\n",
       "      <th>864</th>\n",
       "      <td>11.0</td>\n",
       "    </tr>\n",
       "    <tr>\n",
       "      <th>959</th>\n",
       "      <td>11.0</td>\n",
       "    </tr>\n",
       "    <tr>\n",
       "      <th>4951</th>\n",
       "      <td>1222.0</td>\n",
       "    </tr>\n",
       "    <tr>\n",
       "      <th>2414</th>\n",
       "      <td>33.0</td>\n",
       "    </tr>\n",
       "    <tr>\n",
       "      <th>474</th>\n",
       "      <td>9.0</td>\n",
       "    </tr>\n",
       "    <tr>\n",
       "      <th>2168</th>\n",
       "      <td>33.0</td>\n",
       "    </tr>\n",
       "    <tr>\n",
       "      <th>5931</th>\n",
       "      <td>3257.0</td>\n",
       "    </tr>\n",
       "    <tr>\n",
       "      <th>1414</th>\n",
       "      <td>33.0</td>\n",
       "    </tr>\n",
       "    <tr>\n",
       "      <th>3999</th>\n",
       "      <td>163.0</td>\n",
       "    </tr>\n",
       "    <tr>\n",
       "      <th>4846</th>\n",
       "      <td>928.0</td>\n",
       "    </tr>\n",
       "    <tr>\n",
       "      <th>1638</th>\n",
       "      <td>33.0</td>\n",
       "    </tr>\n",
       "    <tr>\n",
       "      <th>502</th>\n",
       "      <td>10.0</td>\n",
       "    </tr>\n",
       "    <tr>\n",
       "      <th>3927</th>\n",
       "      <td>151.0</td>\n",
       "    </tr>\n",
       "    <tr>\n",
       "      <th>1968</th>\n",
       "      <td>33.0</td>\n",
       "    </tr>\n",
       "    <tr>\n",
       "      <th>4496</th>\n",
       "      <td>290.0</td>\n",
       "    </tr>\n",
       "    <tr>\n",
       "      <th>5651</th>\n",
       "      <td>3018.0</td>\n",
       "    </tr>\n",
       "    <tr>\n",
       "      <th>1737</th>\n",
       "      <td>33.0</td>\n",
       "    </tr>\n",
       "    <tr>\n",
       "      <th>5476</th>\n",
       "      <td>2808.0</td>\n",
       "    </tr>\n",
       "    <tr>\n",
       "      <th>5581</th>\n",
       "      <td>2945.0</td>\n",
       "    </tr>\n",
       "    <tr>\n",
       "      <th>4321</th>\n",
       "      <td>207.0</td>\n",
       "    </tr>\n",
       "    <tr>\n",
       "      <th>4811</th>\n",
       "      <td>830.0</td>\n",
       "    </tr>\n",
       "    <tr>\n",
       "      <th>5756</th>\n",
       "      <td>3104.0</td>\n",
       "    </tr>\n",
       "  </tbody>\n",
       "</table>\n",
       "</div>"
      ],
      "text/plain": [
       "      Transconf\n",
       "3603       97.0\n",
       "3531       76.0\n",
       "2034       33.0\n",
       "3063       41.0\n",
       "4286      203.0\n",
       "1935       33.0\n",
       "2846       33.0\n",
       "3891      149.0\n",
       "4356      212.0\n",
       "2738       33.0\n",
       "2271       33.0\n",
       "3783      125.0\n",
       "864        11.0\n",
       "959        11.0\n",
       "4951     1222.0\n",
       "2414       33.0\n",
       "474         9.0\n",
       "2168       33.0\n",
       "5931     3257.0\n",
       "1414       33.0\n",
       "3999      163.0\n",
       "4846      928.0\n",
       "1638       33.0\n",
       "502        10.0\n",
       "3927      151.0\n",
       "1968       33.0\n",
       "4496      290.0\n",
       "5651     3018.0\n",
       "1737       33.0\n",
       "5476     2808.0\n",
       "5581     2945.0\n",
       "4321      207.0\n",
       "4811      830.0\n",
       "5756     3104.0"
      ]
     },
     "execution_count": 34,
     "metadata": {},
     "output_type": "execute_result"
    }
   ],
   "source": [
    "ytestf=np.exp(ytest)\n",
    "ytestf"
   ]
  },
  {
   "cell_type": "code",
   "execution_count": 35,
   "metadata": {},
   "outputs": [
    {
     "data": {
      "text/plain": [
       "<matplotlib.collections.PathCollection at 0x1ab57113df0>"
      ]
     },
     "execution_count": 35,
     "metadata": {},
     "output_type": "execute_result"
    },
    {
     "data": {
      "image/png": "[encoded data removed]",
      "text/plain": [
       "<Figure size 1800x1440 with 2 Axes>"
      ]
     },
     "metadata": {},
     "output_type": "display_data"
    }
   ],
   "source": [
    "plt.subplot(1,2,1)\n",
    "plt.title(\"Plot of predicted v/s actual set for Model1\")\n",
    "plt.xlabel(\"Date\")\n",
    "plt.ylabel(\"Number of cases in original form\")\n",
    "plt.scatter(xtest,ypredf1,marker=\"*\",color=\"red\")\n",
    "plt.subplot(1,2,2)\n",
    "\n",
    "plt.xlabel(\"Date\")\n",
    "plt.scatter(xtest,ytestf,marker=\"+\",color=\"blue\")"
   ]
  },
  {
   "cell_type": "code",
   "execution_count": 36,
   "metadata": {},
   "outputs": [
    {
     "data": {
      "text/plain": [
       "260652.18817601577"
      ]
     },
     "execution_count": 36,
     "metadata": {},
     "output_type": "execute_result"
    }
   ],
   "source": [
    "mean_squared_error(ytestf,ypredf1)"
   ]
  },
  {
   "cell_type": "code",
   "execution_count": 37,
   "metadata": {},
   "outputs": [],
   "source": [
    "from sklearn.tree import DecisionTreeRegressor"
   ]
  },
  {
   "cell_type": "code",
   "execution_count": 38,
   "metadata": {},
   "outputs": [
    {
     "data": {
      "text/plain": [
       "DecisionTreeRegressor()"
      ]
     },
     "execution_count": 38,
     "metadata": {},
     "output_type": "execute_result"
    }
   ],
   "source": [
    "model2=DecisionTreeRegressor()\n",
    "model2.fit(xtrain,ytrain)"
   ]
  },
  {
   "cell_type": "code",
   "execution_count": 39,
   "metadata": {},
   "outputs": [
    {
     "data": {
      "text/plain": [
       "array([4.49980967, 4.27666612, 3.49650756, 3.63758616, 5.28826703,\n",
       "       3.49650756, 3.49650756, 4.99043259, 5.3981627 , 3.49650756,\n",
       "       3.49650756, 4.77912349, 2.39789527, 2.39789527, 7.02375895,\n",
       "       3.49650756, 2.19722458, 3.49650756, 8.07806788, 3.49650756,\n",
       "       5.04985601, 6.93439721, 3.49650756, 2.30258509, 5.04985601,\n",
       "       3.49650756, 5.55682806, 8.00135503, 3.49650756, 7.91826469,\n",
       "       7.97384438, 5.28826703, 6.59850903, 8.0330095 ])"
      ]
     },
     "execution_count": 39,
     "metadata": {},
     "output_type": "execute_result"
    }
   ],
   "source": [
    "ypred2=model2.predict(xtest)\n",
    "ypred2"
   ]
  },
  {
   "cell_type": "code",
   "execution_count": 40,
   "metadata": {},
   "outputs": [
    {
     "data": {
      "text/plain": [
       "<matplotlib.collections.PathCollection at 0x1ab5733f340>"
      ]
     },
     "execution_count": 40,
     "metadata": {},
     "output_type": "execute_result"
    },
    {
     "data": {
      "image/png": "[encoded data removed]",
      "text/plain": [
       "<Figure size 1800x1440 with 2 Axes>"
      ]
     },
     "metadata": {},
     "output_type": "display_data"
    }
   ],
   "source": [
    "plt.subplot(1,2,1)\n",
    "plt.title(\"Plot of predicted v/s actual set for Model2\")\n",
    "plt.xlabel(\"Date\")\n",
    "plt.ylabel(\"estimated and actual cases\")\n",
    "plt.scatter(xtest,ypred2,marker=\"*\",color=\"red\")\n",
    "plt.subplot(1,2,2)\n",
    "\n",
    "plt.xlabel(\"Date\")\n",
    "plt.scatter(xtest,ytest,marker=\"+\",color=\"blue\")"
   ]
  },
  {
   "cell_type": "code",
   "execution_count": 41,
   "metadata": {},
   "outputs": [
    {
     "data": {
      "text/plain": [
       "0.9998946406029102"
      ]
     },
     "execution_count": 41,
     "metadata": {},
     "output_type": "execute_result"
    }
   ],
   "source": [
    "m2score=model2.score(x,y)\n",
    "m2score"
   ]
  },
  {
   "cell_type": "code",
   "execution_count": 42,
   "metadata": {},
   "outputs": [
    {
     "data": {
      "text/plain": [
       "0.0020732781788798497"
      ]
     },
     "execution_count": 42,
     "metadata": {},
     "output_type": "execute_result"
    }
   ],
   "source": [
    "mse2=mean_squared_error(ytest,ypred2)\n",
    "mse2"
   ]
  },
  {
   "cell_type": "code",
   "execution_count": 43,
   "metadata": {},
   "outputs": [
    {
     "data": {
      "text/plain": [
       "0.04553326453132753"
      ]
     },
     "execution_count": 43,
     "metadata": {},
     "output_type": "execute_result"
    }
   ],
   "source": [
    "rmse2=math.sqrt(mse2)\n",
    "rmse2"
   ]
  },
  {
   "cell_type": "code",
   "execution_count": 44,
   "metadata": {},
   "outputs": [
    {
     "data": {
      "text/plain": [
       "0.02770072988196568"
      ]
     },
     "execution_count": 44,
     "metadata": {},
     "output_type": "execute_result"
    }
   ],
   "source": [
    "mae2=mean_absolute_error(ytest,ypred2)\n",
    "mae2"
   ]
  },
  {
   "cell_type": "code",
   "execution_count": 45,
   "metadata": {},
   "outputs": [
    {
     "data": {
      "text/plain": [
       "array([4.49980967, 4.27666612, 3.49650756, 3.63758616, 5.28826703,\n",
       "       3.49650756, 3.49650756, 4.99043259, 5.3981627 , 3.49650756,\n",
       "       3.49650756, 4.77912349, 2.39789527, 2.39789527, 7.02375895,\n",
       "       3.49650756, 2.19722458, 3.49650756, 8.07806788, 3.49650756,\n",
       "       5.04985601, 6.93439721, 3.49650756, 2.30258509, 5.04985601,\n",
       "       3.49650756, 5.55682806, 8.00135503, 3.49650756, 7.91826469,\n",
       "       7.97384438, 5.28826703, 6.59850903, 8.0330095 ])"
      ]
     },
     "execution_count": 45,
     "metadata": {},
     "output_type": "execute_result"
    }
   ],
   "source": [
    "ypredf2=np.exp(ypred2)\n",
    "ypred2"
   ]
  },
  {
   "cell_type": "code",
   "execution_count": 46,
   "metadata": {},
   "outputs": [
    {
     "data": {
      "text/plain": [
       "<matplotlib.collections.PathCollection at 0x1ab57a2cd30>"
      ]
     },
     "execution_count": 46,
     "metadata": {},
     "output_type": "execute_result"
    },
    {
     "data": {
      "image/png": "[encoded data removed]",
      "text/plain": [
       "<Figure size 1800x1440 with 1 Axes>"
      ]
     },
     "metadata": {},
     "output_type": "display_data"
    }
   ],
   "source": [
    "plt.title(\"Plot of predicted v/s actual set for Model2\")\n",
    "plt.xlabel(\"Date\")\n",
    "plt.ylabel(\"estimated cases\")\n",
    "plt.scatter(xtest,ypredf2,marker=\"*\",color=\"red\")\n",
    "plt.scatter(xtest,ytestf,marker=\"+\",color=\"blue\")"
   ]
  },
  {
   "cell_type": "code",
   "execution_count": 47,
   "metadata": {},
   "outputs": [
    {
     "data": {
      "text/plain": [
       "1127.3529411764791"
      ]
     },
     "execution_count": 47,
     "metadata": {},
     "output_type": "execute_result"
    }
   ],
   "source": [
    "mean_squared_error(ytestf,ypredf2)"
   ]
  },
  {
   "cell_type": "code",
   "execution_count": 48,
   "metadata": {},
   "outputs": [
    {
     "data": {
      "text/plain": [
       "16.88235294117663"
      ]
     },
     "execution_count": 48,
     "metadata": {},
     "output_type": "execute_result"
    }
   ],
   "source": [
    "mean_absolute_error(ytestf,ypredf2)"
   ]
  },
  {
   "cell_type": "code",
   "execution_count": 49,
   "metadata": {},
   "outputs": [],
   "source": [
    "from sklearn.svm import SVR"
   ]
  },
  {
   "cell_type": "code",
   "execution_count": 50,
   "metadata": {},
   "outputs": [],
   "source": [
    "model3=SVR(C=150,epsilon=0.001)"
   ]
  },
  {
   "cell_type": "code",
   "execution_count": 51,
   "metadata": {},
   "outputs": [
    {
     "name": "stderr",
     "output_type": "stream",
     "text": [
      "c:\\users\\dell\\appdata\\local\\programs\\python\\python38\\lib\\site-packages\\sklearn\\utils\\validation.py:73: DataConversionWarning: A column-vector y was passed when a 1d array was expected. Please change the shape of y to (n_samples, ), for example using ravel().\n",
      "  return f(**kwargs)\n"
     ]
    },
    {
     "data": {
      "text/plain": [
       "SVR(C=150, epsilon=0.001)"
      ]
     },
     "execution_count": 51,
     "metadata": {},
     "output_type": "execute_result"
    }
   ],
   "source": [
    "model3.fit(xtrain,ytrain)"
   ]
  },
  {
   "cell_type": "code",
   "execution_count": 52,
   "metadata": {},
   "outputs": [
    {
     "data": {
      "text/plain": [
       "array([4.40484859, 4.31129232, 3.55074708, 3.74070382, 5.42982415,\n",
       "       3.56038721, 3.55570633, 4.78736734, 5.5741773 , 3.49640252,\n",
       "       3.48805613, 4.6408561 , 2.44746992, 2.56204359, 7.06277786,\n",
       "       3.45690185, 2.20001409, 3.51780272, 8.08235649, 3.21133402,\n",
       "       4.94222608, 6.79405978, 3.45285636, 2.20562304, 4.83783633,\n",
       "       3.55912968, 5.89160535, 8.05433523, 3.51475397, 7.96602295,\n",
       "       8.02983391, 5.5007765 , 6.70210565, 8.07172709])"
      ]
     },
     "execution_count": 52,
     "metadata": {},
     "output_type": "execute_result"
    }
   ],
   "source": [
    "ypred3=model3.predict(xtest)\n",
    "ypred3"
   ]
  },
  {
   "cell_type": "code",
   "execution_count": 53,
   "metadata": {},
   "outputs": [
    {
     "data": {
      "text/plain": [
       "0.9818841774556747"
      ]
     },
     "execution_count": 53,
     "metadata": {},
     "output_type": "execute_result"
    }
   ],
   "source": [
    "m3score=model3.score(x,y)\n",
    "m3score"
   ]
  },
  {
   "cell_type": "code",
   "execution_count": 54,
   "metadata": {},
   "outputs": [
    {
     "data": {
      "text/plain": [
       "0.013341365739536966"
      ]
     },
     "execution_count": 54,
     "metadata": {},
     "output_type": "execute_result"
    }
   ],
   "source": [
    "mse3=mean_squared_error(ytest,ypred3)\n",
    "mse3"
   ]
  },
  {
   "cell_type": "code",
   "execution_count": 55,
   "metadata": {},
   "outputs": [
    {
     "data": {
      "text/plain": [
       "0.11550482994029715"
      ]
     },
     "execution_count": 55,
     "metadata": {},
     "output_type": "execute_result"
    }
   ],
   "source": [
    "rmse3=math.sqrt(mse3)\n",
    "rmse3"
   ]
  },
  {
   "cell_type": "code",
   "execution_count": 56,
   "metadata": {},
   "outputs": [
    {
     "data": {
      "text/plain": [
       "0.08518730093254329"
      ]
     },
     "execution_count": 56,
     "metadata": {},
     "output_type": "execute_result"
    }
   ],
   "source": [
    "mae3=mean_absolute_error(ytest,ypred3)\n",
    "mae3"
   ]
  },
  {
   "cell_type": "code",
   "execution_count": 57,
   "metadata": {},
   "outputs": [
    {
     "data": {
      "text/plain": [
       "<matplotlib.collections.PathCollection at 0x1ab5815f430>"
      ]
     },
     "execution_count": 57,
     "metadata": {},
     "output_type": "execute_result"
    },
    {
     "data": {
      "image/png": "[encoded data removed]",
      "text/plain": [
       "<Figure size 1800x1440 with 2 Axes>"
      ]
     },
     "metadata": {},
     "output_type": "display_data"
    }
   ],
   "source": [
    "plt.subplot(1,2,1)\n",
    "plt.title(\"Plot of predicted v/s actual set for Model3\")\n",
    "plt.xlabel(\"Date\")\n",
    "plt.ylabel(\"estimated and actual cases\")\n",
    "plt.scatter(xtest,ypred3,marker=\"*\",color=\"red\")\n",
    "plt.subplot(1,2,2)\n",
    "plt.xlabel(\"Date\")\n",
    "plt.scatter(xtest,ytest,marker=\"+\",color=\"blue\")"
   ]
  },
  {
   "cell_type": "code",
   "execution_count": 58,
   "metadata": {},
   "outputs": [
    {
     "data": {
      "text/plain": [
       "array([  81.84674928,   74.53675215,   34.83933539,   42.12763016,\n",
       "        228.10912859,   35.17681546,   35.01254181,  119.98507202,\n",
       "        263.5326589 ,   32.99653379,   32.72227787,  103.63302934,\n",
       "         11.55906435,   12.96227989, 1167.6843336 ,   31.71855513,\n",
       "          9.0251407 ,   33.71027625, 3236.85186637,   24.81216404,\n",
       "        140.08173637,  892.52968661,   31.59049729,    9.07590444,\n",
       "        126.19601021,   35.13260734,  361.98593141, 3147.41019645,\n",
       "         33.60765833, 2881.37516566, 3071.2315218 ,  244.88200919,\n",
       "        814.11826916, 3202.62827044])"
      ]
     },
     "execution_count": 58,
     "metadata": {},
     "output_type": "execute_result"
    }
   ],
   "source": [
    "ypredf3=np.exp(ypred3)\n",
    "ypredf3"
   ]
  },
  {
   "cell_type": "code",
   "execution_count": 59,
   "metadata": {},
   "outputs": [
    {
     "data": {
      "text/plain": [
       "<matplotlib.collections.PathCollection at 0x1ab582130d0>"
      ]
     },
     "execution_count": 59,
     "metadata": {},
     "output_type": "execute_result"
    },
    {
     "data": {
      "image/png": "[encoded data removed]",
      "text/plain": [
       "<Figure size 1800x1440 with 2 Axes>"
      ]
     },
     "metadata": {},
     "output_type": "display_data"
    }
   ],
   "source": [
    "plt.subplot(1,2,1)\n",
    "plt.title(\"Plot of predicted v/s actual set for Model3\")\n",
    "plt.xlabel(\"Date\")\n",
    "plt.ylabel(\"estimated and actual cases\")\n",
    "plt.scatter(xtest,ypredf3,marker=\"*\",color=\"red\")\n",
    "plt.subplot(1,2,2)\n",
    "plt.xlabel(\"Date\")\n",
    "plt.scatter(xtest,ytestf,marker=\"+\",color=\"blue\")"
   ]
  },
  {
   "cell_type": "code",
   "execution_count": 60,
   "metadata": {},
   "outputs": [
    {
     "data": {
      "text/plain": [
       "1921.4044770405897"
      ]
     },
     "execution_count": 60,
     "metadata": {},
     "output_type": "execute_result"
    }
   ],
   "source": [
    "mean_squared_error(ytestf,ypredf3)"
   ]
  },
  {
   "cell_type": "code",
   "execution_count": 61,
   "metadata": {},
   "outputs": [
    {
     "data": {
      "text/plain": [
       "25.880258660485644"
      ]
     },
     "execution_count": 61,
     "metadata": {},
     "output_type": "execute_result"
    }
   ],
   "source": [
    "mean_absolute_error(ytestf,ypredf3)"
   ]
  },
  {
   "cell_type": "code",
   "execution_count": 62,
   "metadata": {},
   "outputs": [
    {
     "data": {
      "text/plain": [
       "array([[5.16515923],\n",
       "       [5.08752876],\n",
       "       [3.45728899],\n",
       "       [4.58293074],\n",
       "       [5.90264865],\n",
       "       [3.34084329],\n",
       "       [4.35003934],\n",
       "       [5.47568109],\n",
       "       [5.98027911],\n",
       "       [4.23359364],\n",
       "       [3.72899562],\n",
       "       [5.35923539],\n",
       "       [2.05994061],\n",
       "       [2.17638631],\n",
       "       [6.64013807],\n",
       "       [3.88425655],\n",
       "       [1.55534259],\n",
       "       [3.61254992],\n",
       "       [7.72696458],\n",
       "       [2.71979957],\n",
       "       [5.59212678],\n",
       "       [6.52369237],\n",
       "       [2.9915062 ],\n",
       "       [1.59415782],\n",
       "       [5.51449632],\n",
       "       [3.37965852],\n",
       "       [6.13554004],\n",
       "       [7.41644272],\n",
       "       [3.1079519 ],\n",
       "       [7.22236656],\n",
       "       [7.33881225],\n",
       "       [5.94146388],\n",
       "       [6.48487714],\n",
       "       [7.53288842]])"
      ]
     },
     "execution_count": 62,
     "metadata": {},
     "output_type": "execute_result"
    }
   ],
   "source": [
    "ypred1\n",
    "a1=np.array(ypred1)\n",
    "a1"
   ]
  },
  {
   "cell_type": "code",
   "execution_count": 63,
   "metadata": {},
   "outputs": [
    {
     "data": {
      "text/plain": [
       "array([4.49980967, 4.27666612, 3.49650756, 3.63758616, 5.28826703,\n",
       "       3.49650756, 3.49650756, 4.99043259, 5.3981627 , 3.49650756,\n",
       "       3.49650756, 4.77912349, 2.39789527, 2.39789527, 7.02375895,\n",
       "       3.49650756, 2.19722458, 3.49650756, 8.07806788, 3.49650756,\n",
       "       5.04985601, 6.93439721, 3.49650756, 2.30258509, 5.04985601,\n",
       "       3.49650756, 5.55682806, 8.00135503, 3.49650756, 7.91826469,\n",
       "       7.97384438, 5.28826703, 6.59850903, 8.0330095 ])"
      ]
     },
     "execution_count": 63,
     "metadata": {},
     "output_type": "execute_result"
    }
   ],
   "source": [
    "ypred2\n",
    "a2=np.array(ypred2)\n",
    "a2"
   ]
  },
  {
   "cell_type": "code",
   "execution_count": 64,
   "metadata": {},
   "outputs": [
    {
     "data": {
      "text/plain": [
       "array([4.40484859, 4.31129232, 3.55074708, 3.74070382, 5.42982415,\n",
       "       3.56038721, 3.55570633, 4.78736734, 5.5741773 , 3.49640252,\n",
       "       3.48805613, 4.6408561 , 2.44746992, 2.56204359, 7.06277786,\n",
       "       3.45690185, 2.20001409, 3.51780272, 8.08235649, 3.21133402,\n",
       "       4.94222608, 6.79405978, 3.45285636, 2.20562304, 4.83783633,\n",
       "       3.55912968, 5.89160535, 8.05433523, 3.51475397, 7.96602295,\n",
       "       8.02983391, 5.5007765 , 6.70210565, 8.07172709])"
      ]
     },
     "execution_count": 64,
     "metadata": {},
     "output_type": "execute_result"
    }
   ],
   "source": [
    "ypred3"
   ]
  },
  {
   "cell_type": "code",
   "execution_count": 65,
   "metadata": {},
   "outputs": [
    {
     "data": {
      "text/plain": [
       "array([[ 9.6649689 ],\n",
       "       [ 9.36419488],\n",
       "       [ 6.95379655],\n",
       "       [ 8.2205169 ],\n",
       "       [11.19091568],\n",
       "       [ 6.83735085],\n",
       "       [ 7.8465469 ],\n",
       "       [10.46611367],\n",
       "       [11.37844181],\n",
       "       [ 7.7301012 ],\n",
       "       [ 7.22550318],\n",
       "       [10.13835888],\n",
       "       [ 4.45783589],\n",
       "       [ 4.57428159],\n",
       "       [13.66389702],\n",
       "       [ 7.38076411],\n",
       "       [ 3.75256717],\n",
       "       [ 7.10905748],\n",
       "       [15.80503246],\n",
       "       [ 6.21630713],\n",
       "       [10.64198279],\n",
       "       [13.45808958],\n",
       "       [ 6.48801376],\n",
       "       [ 3.89674292],\n",
       "       [10.56435233],\n",
       "       [ 6.87616609],\n",
       "       [11.6923681 ],\n",
       "       [15.41779774],\n",
       "       [ 6.60445946],\n",
       "       [15.14063124],\n",
       "       [15.31265663],\n",
       "       [11.22973091],\n",
       "       [13.08338616],\n",
       "       [15.56589792]])"
      ]
     },
     "execution_count": 65,
     "metadata": {},
     "output_type": "execute_result"
    }
   ],
   "source": [
    "a=np.add(a1.reshape(-1,1),a2.reshape(-1,1))\n",
    "a"
   ]
  },
  {
   "cell_type": "code",
   "execution_count": 66,
   "metadata": {},
   "outputs": [
    {
     "name": "stdout",
     "output_type": "stream",
     "text": [
      "34\n",
      "34\n",
      "2\n",
      "2\n",
      "34\n",
      "34\n"
     ]
    }
   ],
   "source": [
    "print(len(a))\n",
    "print(len(ypred1))\n",
    "print(np.ndim(a))\n",
    "print(np.ndim(ypred1))\n",
    "print(np.size(a))\n",
    "print(np.size(ypred1))"
   ]
  },
  {
   "cell_type": "code",
   "execution_count": 67,
   "metadata": {},
   "outputs": [
    {
     "data": {
      "text/plain": [
       "array([[14.06981748],\n",
       "       [13.6754872 ],\n",
       "       [10.50454363],\n",
       "       [11.96122072],\n",
       "       [16.62073983],\n",
       "       [10.39773807],\n",
       "       [11.40225324],\n",
       "       [15.25348101],\n",
       "       [16.95261912],\n",
       "       [11.22650372],\n",
       "       [10.71355931],\n",
       "       [14.77921498],\n",
       "       [ 6.90530581],\n",
       "       [ 7.13632518],\n",
       "       [20.72667489],\n",
       "       [10.83766596],\n",
       "       [ 5.95258126],\n",
       "       [10.62686021],\n",
       "       [23.88738895],\n",
       "       [ 9.42764115],\n",
       "       [15.58420888],\n",
       "       [20.25214935],\n",
       "       [ 9.94087012],\n",
       "       [ 6.10236595],\n",
       "       [15.40218866],\n",
       "       [10.43529577],\n",
       "       [17.58397345],\n",
       "       [23.47213298],\n",
       "       [10.11921342],\n",
       "       [23.10665419],\n",
       "       [23.34249054],\n",
       "       [16.73050741],\n",
       "       [19.78549181],\n",
       "       [23.637625  ]])"
      ]
     },
     "execution_count": 67,
     "metadata": {},
     "output_type": "execute_result"
    }
   ],
   "source": [
    "a3=np.add(ypred3.reshape(-1,1),a.reshape(-1,1))\n",
    "a3"
   ]
  },
  {
   "cell_type": "code",
   "execution_count": 68,
   "metadata": {},
   "outputs": [
    {
     "data": {
      "text/plain": [
       "array([[4.68993916],\n",
       "       [4.55849573],\n",
       "       [3.50151454],\n",
       "       [3.98707357],\n",
       "       [5.54024661],\n",
       "       [3.46591269],\n",
       "       [3.80075108],\n",
       "       [5.08449367],\n",
       "       [5.65087304],\n",
       "       [3.74216791],\n",
       "       [3.57118644],\n",
       "       [4.92640499],\n",
       "       [2.3017686 ],\n",
       "       [2.37877506],\n",
       "       [6.90889163],\n",
       "       [3.61255532],\n",
       "       [1.98419375],\n",
       "       [3.54228674],\n",
       "       [7.96246298],\n",
       "       [3.14254705],\n",
       "       [5.19473629],\n",
       "       [6.75071645],\n",
       "       [3.31362337],\n",
       "       [2.03412198],\n",
       "       [5.13406289],\n",
       "       [3.47843192],\n",
       "       [5.86132448],\n",
       "       [7.82404433],\n",
       "       [3.37307114],\n",
       "       [7.70221806],\n",
       "       [7.78083018],\n",
       "       [5.5768358 ],\n",
       "       [6.59516394],\n",
       "       [7.87920833]])"
      ]
     },
     "execution_count": 68,
     "metadata": {},
     "output_type": "execute_result"
    }
   ],
   "source": [
    "a3=a3/3\n",
    "a3"
   ]
  },
  {
   "cell_type": "code",
   "execution_count": 69,
   "metadata": {},
   "outputs": [
    {
     "data": {
      "text/plain": [
       "0.033235278906408615"
      ]
     },
     "execution_count": 69,
     "metadata": {},
     "output_type": "execute_result"
    }
   ],
   "source": [
    "mean_squared_error(ytest,a3)"
   ]
  },
  {
   "cell_type": "code",
   "execution_count": 70,
   "metadata": {},
   "outputs": [
    {
     "data": {
      "text/plain": [
       "<matplotlib.collections.PathCollection at 0x1ab581a2970>"
      ]
     },
     "execution_count": 70,
     "metadata": {},
     "output_type": "execute_result"
    },
    {
     "data": {
      "image/png": "[encoded data removed]",
      "text/plain": [
       "<Figure size 1800x1440 with 1 Axes>"
      ]
     },
     "metadata": {},
     "output_type": "display_data"
    }
   ],
   "source": [
    "plt.scatter(xtest,ytest,marker=\"+\",color=\"g\")\n",
    "plt.scatter(xtest,a3,color=\"r\")"
   ]
  },
  {
   "cell_type": "code",
   "execution_count": 71,
   "metadata": {},
   "outputs": [
    {
     "data": {
      "text/html": [
       "<div>\n",
       "<style scoped>\n",
       "    .dataframe tbody tr th:only-of-type {\n",
       "        vertical-align: middle;\n",
       "    }\n",
       "\n",
       "    .dataframe tbody tr th {\n",
       "        vertical-align: top;\n",
       "    }\n",
       "\n",
       "    .dataframe thead th {\n",
       "        text-align: right;\n",
       "    }\n",
       "</style>\n",
       "<table border=\"1\" class=\"dataframe\">\n",
       "  <thead>\n",
       "    <tr style=\"text-align: right;\">\n",
       "      <th></th>\n",
       "      <th>Transconf</th>\n",
       "    </tr>\n",
       "  </thead>\n",
       "  <tbody>\n",
       "    <tr>\n",
       "      <th>3603</th>\n",
       "      <td>97.0</td>\n",
       "    </tr>\n",
       "    <tr>\n",
       "      <th>3531</th>\n",
       "      <td>76.0</td>\n",
       "    </tr>\n",
       "    <tr>\n",
       "      <th>2034</th>\n",
       "      <td>33.0</td>\n",
       "    </tr>\n",
       "    <tr>\n",
       "      <th>3063</th>\n",
       "      <td>41.0</td>\n",
       "    </tr>\n",
       "    <tr>\n",
       "      <th>4286</th>\n",
       "      <td>203.0</td>\n",
       "    </tr>\n",
       "    <tr>\n",
       "      <th>1935</th>\n",
       "      <td>33.0</td>\n",
       "    </tr>\n",
       "    <tr>\n",
       "      <th>2846</th>\n",
       "      <td>33.0</td>\n",
       "    </tr>\n",
       "    <tr>\n",
       "      <th>3891</th>\n",
       "      <td>149.0</td>\n",
       "    </tr>\n",
       "    <tr>\n",
       "      <th>4356</th>\n",
       "      <td>212.0</td>\n",
       "    </tr>\n",
       "    <tr>\n",
       "      <th>2738</th>\n",
       "      <td>33.0</td>\n",
       "    </tr>\n",
       "    <tr>\n",
       "      <th>2271</th>\n",
       "      <td>33.0</td>\n",
       "    </tr>\n",
       "    <tr>\n",
       "      <th>3783</th>\n",
       "      <td>125.0</td>\n",
       "    </tr>\n",
       "    <tr>\n",
       "      <th>864</th>\n",
       "      <td>11.0</td>\n",
       "    </tr>\n",
       "    <tr>\n",
       "      <th>959</th>\n",
       "      <td>11.0</td>\n",
       "    </tr>\n",
       "    <tr>\n",
       "      <th>4951</th>\n",
       "      <td>1222.0</td>\n",
       "    </tr>\n",
       "    <tr>\n",
       "      <th>2414</th>\n",
       "      <td>33.0</td>\n",
       "    </tr>\n",
       "    <tr>\n",
       "      <th>474</th>\n",
       "      <td>9.0</td>\n",
       "    </tr>\n",
       "    <tr>\n",
       "      <th>2168</th>\n",
       "      <td>33.0</td>\n",
       "    </tr>\n",
       "    <tr>\n",
       "      <th>5931</th>\n",
       "      <td>3257.0</td>\n",
       "    </tr>\n",
       "    <tr>\n",
       "      <th>1414</th>\n",
       "      <td>33.0</td>\n",
       "    </tr>\n",
       "    <tr>\n",
       "      <th>3999</th>\n",
       "      <td>163.0</td>\n",
       "    </tr>\n",
       "    <tr>\n",
       "      <th>4846</th>\n",
       "      <td>928.0</td>\n",
       "    </tr>\n",
       "    <tr>\n",
       "      <th>1638</th>\n",
       "      <td>33.0</td>\n",
       "    </tr>\n",
       "    <tr>\n",
       "      <th>502</th>\n",
       "      <td>10.0</td>\n",
       "    </tr>\n",
       "    <tr>\n",
       "      <th>3927</th>\n",
       "      <td>151.0</td>\n",
       "    </tr>\n",
       "    <tr>\n",
       "      <th>1968</th>\n",
       "      <td>33.0</td>\n",
       "    </tr>\n",
       "    <tr>\n",
       "      <th>4496</th>\n",
       "      <td>290.0</td>\n",
       "    </tr>\n",
       "    <tr>\n",
       "      <th>5651</th>\n",
       "      <td>3018.0</td>\n",
       "    </tr>\n",
       "    <tr>\n",
       "      <th>1737</th>\n",
       "      <td>33.0</td>\n",
       "    </tr>\n",
       "    <tr>\n",
       "      <th>5476</th>\n",
       "      <td>2808.0</td>\n",
       "    </tr>\n",
       "    <tr>\n",
       "      <th>5581</th>\n",
       "      <td>2945.0</td>\n",
       "    </tr>\n",
       "    <tr>\n",
       "      <th>4321</th>\n",
       "      <td>207.0</td>\n",
       "    </tr>\n",
       "    <tr>\n",
       "      <th>4811</th>\n",
       "      <td>830.0</td>\n",
       "    </tr>\n",
       "    <tr>\n",
       "      <th>5756</th>\n",
       "      <td>3104.0</td>\n",
       "    </tr>\n",
       "  </tbody>\n",
       "</table>\n",
       "</div>"
      ],
      "text/plain": [
       "      Transconf\n",
       "3603       97.0\n",
       "3531       76.0\n",
       "2034       33.0\n",
       "3063       41.0\n",
       "4286      203.0\n",
       "1935       33.0\n",
       "2846       33.0\n",
       "3891      149.0\n",
       "4356      212.0\n",
       "2738       33.0\n",
       "2271       33.0\n",
       "3783      125.0\n",
       "864        11.0\n",
       "959        11.0\n",
       "4951     1222.0\n",
       "2414       33.0\n",
       "474         9.0\n",
       "2168       33.0\n",
       "5931     3257.0\n",
       "1414       33.0\n",
       "3999      163.0\n",
       "4846      928.0\n",
       "1638       33.0\n",
       "502        10.0\n",
       "3927      151.0\n",
       "1968       33.0\n",
       "4496      290.0\n",
       "5651     3018.0\n",
       "1737       33.0\n",
       "5476     2808.0\n",
       "5581     2945.0\n",
       "4321      207.0\n",
       "4811      830.0\n",
       "5756     3104.0"
      ]
     },
     "execution_count": 71,
     "metadata": {},
     "output_type": "execute_result"
    }
   ],
   "source": [
    "ytestf"
   ]
  },
  {
   "cell_type": "code",
   "execution_count": 72,
   "metadata": {},
   "outputs": [
    {
     "data": {
      "text/plain": [
       "34"
      ]
     },
     "execution_count": 72,
     "metadata": {},
     "output_type": "execute_result"
    }
   ],
   "source": [
    "len(ytest)"
   ]
  },
  {
   "cell_type": "code",
   "execution_count": 73,
   "metadata": {},
   "outputs": [
    {
     "data": {
      "text/plain": [
       "array([[ 108.84655751],\n",
       "       [  95.4398049 ],\n",
       "       [  33.16564471],\n",
       "       [  53.89693292],\n",
       "       [ 254.74081294],\n",
       "       [  32.00565766],\n",
       "       [  44.73477122],\n",
       "       [ 161.49814712],\n",
       "       [ 284.53977161],\n",
       "       [  42.18935372],\n",
       "       [  35.5587563 ],\n",
       "       [ 137.88293008],\n",
       "       [   9.99183843],\n",
       "       [  10.7916756 ],\n",
       "       [1001.13699537],\n",
       "       [  37.06063364],\n",
       "       [   7.27318105],\n",
       "       [  34.5458261 ],\n",
       "       [2871.13581279],\n",
       "       [  23.16278856],\n",
       "       [ 180.32058452],\n",
       "       [ 854.67087318],\n",
       "       [  27.48453195],\n",
       "       [   7.64553628],\n",
       "       [ 169.70521241],\n",
       "       [  32.40886262],\n",
       "       [ 351.18898019],\n",
       "       [2499.99578835],\n",
       "       [  29.1679686 ],\n",
       "       [2213.25168326],\n",
       "       [2394.2616614 ],\n",
       "       [ 264.23419255],\n",
       "       [ 731.54880537],\n",
       "       [2641.78032367]])"
      ]
     },
     "execution_count": 73,
     "metadata": {},
     "output_type": "execute_result"
    }
   ],
   "source": [
    "a3f=np.exp(a3)\n",
    "a3f"
   ]
  },
  {
   "cell_type": "code",
   "execution_count": 74,
   "metadata": {},
   "outputs": [
    {
     "data": {
      "text/plain": [
       "<matplotlib.collections.PathCollection at 0x1ab581b4a30>"
      ]
     },
     "execution_count": 74,
     "metadata": {},
     "output_type": "execute_result"
    },
    {
     "data": {
      "image/png": "[encoded data removed]",
      "text/plain": [
       "<Figure size 1800x1440 with 1 Axes>"
      ]
     },
     "metadata": {},
     "output_type": "display_data"
    }
   ],
   "source": [
    "plt.scatter(xtest,ytestf,marker=\"+\",color=\"r\")\n",
    "plt.scatter(xtest,a3f,color=\"b\")"
   ]
  },
  {
   "cell_type": "code",
   "execution_count": 75,
   "metadata": {},
   "outputs": [
    {
     "data": {
      "text/plain": [
       "40257.97414689613"
      ]
     },
     "execution_count": 75,
     "metadata": {},
     "output_type": "execute_result"
    }
   ],
   "source": [
    "m1=mean_squared_error(ytestf,a3f)\n",
    "m1"
   ]
  },
  {
   "cell_type": "code",
   "execution_count": 76,
   "metadata": {},
   "outputs": [
    {
     "data": {
      "text/plain": [
       "200.6438988529084"
      ]
     },
     "execution_count": 76,
     "metadata": {},
     "output_type": "execute_result"
    }
   ],
   "source": [
    "m2=math.sqrt(m1)\n",
    "m2"
   ]
  },
  {
   "cell_type": "code",
   "execution_count": 77,
   "metadata": {},
   "outputs": [
    {
     "data": {
      "text/plain": [
       "97.28926259672981"
      ]
     },
     "execution_count": 77,
     "metadata": {},
     "output_type": "execute_result"
    }
   ],
   "source": [
    "m3=mean_absolute_error(ytestf,a3f)\n",
    "m3"
   ]
  },
  {
   "cell_type": "code",
   "execution_count": 78,
   "metadata": {},
   "outputs": [
    {
     "data": {
      "text/html": [
       "<div>\n",
       "<style scoped>\n",
       "    .dataframe tbody tr th:only-of-type {\n",
       "        vertical-align: middle;\n",
       "    }\n",
       "\n",
       "    .dataframe tbody tr th {\n",
       "        vertical-align: top;\n",
       "    }\n",
       "\n",
       "    .dataframe thead th {\n",
       "        text-align: right;\n",
       "    }\n",
       "</style>\n",
       "<table border=\"1\" class=\"dataframe\">\n",
       "  <thead>\n",
       "    <tr style=\"text-align: right;\">\n",
       "      <th></th>\n",
       "      <th>Mean Squared Error</th>\n",
       "      <th>Root MeanSquared Error</th>\n",
       "      <th>Mean Absolute Error</th>\n",
       "    </tr>\n",
       "  </thead>\n",
       "  <tbody>\n",
       "    <tr>\n",
       "      <th>1</th>\n",
       "      <td>40257.974147</td>\n",
       "      <td>200.643899</td>\n",
       "      <td>97.289263</td>\n",
       "    </tr>\n",
       "  </tbody>\n",
       "</table>\n",
       "</div>"
      ],
      "text/plain": [
       "   Mean Squared Error  Root MeanSquared Error  Mean Absolute Error\n",
       "1        40257.974147              200.643899            97.289263"
      ]
     },
     "execution_count": 78,
     "metadata": {},
     "output_type": "execute_result"
    }
   ],
   "source": [
    "Finres=pd.DataFrame({\"Mean Squared Error\":[m1],\"Root MeanSquared Error\":[m2],\"Mean Absolute Error\":[m3]},index=[1])\n",
    "Finres"
   ]
  },
  {
   "cell_type": "code",
   "execution_count": 79,
   "metadata": {},
   "outputs": [
    {
     "name": "stdout",
     "output_type": "stream",
     "text": [
      "2\n"
     ]
    }
   ],
   "source": [
    "a4=ypred3.reshape(-1,1)\n",
    "a4\n",
    "print(np.ndim(a4))"
   ]
  },
  {
   "cell_type": "code",
   "execution_count": 80,
   "metadata": {},
   "outputs": [
    {
     "data": {
      "text/html": [
       "<div>\n",
       "<style scoped>\n",
       "    .dataframe tbody tr th:only-of-type {\n",
       "        vertical-align: middle;\n",
       "    }\n",
       "\n",
       "    .dataframe tbody tr th {\n",
       "        vertical-align: top;\n",
       "    }\n",
       "\n",
       "    .dataframe thead th {\n",
       "        text-align: right;\n",
       "    }\n",
       "</style>\n",
       "<table border=\"1\" class=\"dataframe\">\n",
       "  <thead>\n",
       "    <tr style=\"text-align: right;\">\n",
       "      <th></th>\n",
       "      <th>Model</th>\n",
       "      <th>Accuracy_Score</th>\n",
       "      <th>Mean_Squared_Error</th>\n",
       "      <th>Rootmean_Squared_error</th>\n",
       "      <th>Mean_Absolute_Error</th>\n",
       "    </tr>\n",
       "  </thead>\n",
       "  <tbody>\n",
       "    <tr>\n",
       "      <th>1</th>\n",
       "      <td>Linear Regression</td>\n",
       "      <td>0.912313</td>\n",
       "      <td>0.284335</td>\n",
       "      <td>0.533231</td>\n",
       "      <td>0.487266</td>\n",
       "    </tr>\n",
       "    <tr>\n",
       "      <th>2</th>\n",
       "      <td>Decision Tree Regression</td>\n",
       "      <td>0.999895</td>\n",
       "      <td>0.002073</td>\n",
       "      <td>0.045533</td>\n",
       "      <td>0.027701</td>\n",
       "    </tr>\n",
       "    <tr>\n",
       "      <th>3</th>\n",
       "      <td>Support vector Regression</td>\n",
       "      <td>0.981884</td>\n",
       "      <td>0.013341</td>\n",
       "      <td>0.115505</td>\n",
       "      <td>0.085187</td>\n",
       "    </tr>\n",
       "  </tbody>\n",
       "</table>\n",
       "</div>"
      ],
      "text/plain": [
       "                       Model  Accuracy_Score  Mean_Squared_Error  \\\n",
       "1          Linear Regression        0.912313            0.284335   \n",
       "2   Decision Tree Regression        0.999895            0.002073   \n",
       "3  Support vector Regression        0.981884            0.013341   \n",
       "\n",
       "   Rootmean_Squared_error  Mean_Absolute_Error  \n",
       "1                0.533231             0.487266  \n",
       "2                0.045533             0.027701  \n",
       "3                0.115505             0.085187  "
      ]
     },
     "execution_count": 80,
     "metadata": {},
     "output_type": "execute_result"
    }
   ],
   "source": [
    "newdf=pd.DataFrame({\"Model\":[\"Linear Regression\",\"Decision Tree Regression\",\"Support vector Regression\"],\"Accuracy_Score\":[m1score,m2score,m3score],\"Mean_Squared_Error\":[mse1,mse2,mse3],\"Rootmean_Squared_error\":[rmse1,rmse2,rmse3],\"Mean_Absolute_Error\":[mae1,mae2,mae3]},index=[1,2,3])\n",
    "newdf"
   ]
  },
  {
   "cell_type": "code",
   "execution_count": 81,
   "metadata": {},
   "outputs": [],
   "source": [
    "newdf.to_csv(\"Results for FinalRegressionANiModels.csv\",index=False)"
   ]
  },
  {
   "cell_type": "code",
   "execution_count": 82,
   "metadata": {},
   "outputs": [
    {
     "data": {
      "text/html": [
       "<div>\n",
       "<style scoped>\n",
       "    .dataframe tbody tr th:only-of-type {\n",
       "        vertical-align: middle;\n",
       "    }\n",
       "\n",
       "    .dataframe tbody tr th {\n",
       "        vertical-align: top;\n",
       "    }\n",
       "\n",
       "    .dataframe thead th {\n",
       "        text-align: right;\n",
       "    }\n",
       "</style>\n",
       "<table border=\"1\" class=\"dataframe\">\n",
       "  <thead>\n",
       "    <tr style=\"text-align: right;\">\n",
       "      <th></th>\n",
       "      <th>Model</th>\n",
       "      <th>Accuracy_Score</th>\n",
       "      <th>Mean_Squared_Error</th>\n",
       "      <th>Rootmean_Squared_error</th>\n",
       "      <th>Mean_Absolute_Error</th>\n",
       "    </tr>\n",
       "  </thead>\n",
       "  <tbody>\n",
       "    <tr>\n",
       "      <th>0</th>\n",
       "      <td>Linear Regression</td>\n",
       "      <td>0.912313</td>\n",
       "      <td>0.284335</td>\n",
       "      <td>0.533231</td>\n",
       "      <td>0.487266</td>\n",
       "    </tr>\n",
       "    <tr>\n",
       "      <th>1</th>\n",
       "      <td>Decision Tree Regression</td>\n",
       "      <td>0.999895</td>\n",
       "      <td>0.002073</td>\n",
       "      <td>0.045533</td>\n",
       "      <td>0.027701</td>\n",
       "    </tr>\n",
       "    <tr>\n",
       "      <th>2</th>\n",
       "      <td>Support vector Regression</td>\n",
       "      <td>0.981884</td>\n",
       "      <td>0.013341</td>\n",
       "      <td>0.115505</td>\n",
       "      <td>0.085187</td>\n",
       "    </tr>\n",
       "  </tbody>\n",
       "</table>\n",
       "</div>"
      ],
      "text/plain": [
       "                       Model  Accuracy_Score  Mean_Squared_Error  \\\n",
       "0          Linear Regression        0.912313            0.284335   \n",
       "1   Decision Tree Regression        0.999895            0.002073   \n",
       "2  Support vector Regression        0.981884            0.013341   \n",
       "\n",
       "   Rootmean_Squared_error  Mean_Absolute_Error  \n",
       "0                0.533231             0.487266  \n",
       "1                0.045533             0.027701  \n",
       "2                0.115505             0.085187  "
      ]
     },
     "execution_count": 82,
     "metadata": {},
     "output_type": "execute_result"
    }
   ],
   "source": [
    "d2=pd.read_csv(\"Results for FinalRegressionANiModels.csv\")\n",
    "d2"
   ]
  },
  {
   "cell_type": "code",
   "execution_count": null,
   "metadata": {},
   "outputs": [],
   "source": []
  }
 ],
 "metadata": {
  "kernelspec": {
   "display_name": "Python 3",
   "language": "python",
   "name": "python3"
  },
  "language_info": {
   "codemirror_mode": {
    "name": "ipython",
    "version": 3
   },
   "file_extension": ".py",
   "mimetype": "text/x-python",
   "name": "python",
   "nbconvert_exporter": "python",
   "pygments_lexer": "ipython3",
   "version": "3.8.3rc1"
  }
 },
 "nbformat": 4,
 "nbformat_minor": 4
}
