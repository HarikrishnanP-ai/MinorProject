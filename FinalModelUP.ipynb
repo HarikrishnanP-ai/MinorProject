{
 "cells": [
  {
   "cell_type": "code",
   "execution_count": 1,
   "metadata": {},
   "outputs": [],
   "source": [
    "import pandas as pd\n",
    "import numpy as np\n",
    "import matplotlib.pyplot as plt\n",
    "import seaborn as sns\n",
    "%matplotlib inline"
   ]
  },
  {
   "cell_type": "code",
   "execution_count": 2,
   "metadata": {},
   "outputs": [
    {
     "data": {
      "text/html": [
       "<div>\n",
       "<style scoped>\n",
       "    .dataframe tbody tr th:only-of-type {\n",
       "        vertical-align: middle;\n",
       "    }\n",
       "\n",
       "    .dataframe tbody tr th {\n",
       "        vertical-align: top;\n",
       "    }\n",
       "\n",
       "    .dataframe thead th {\n",
       "        text-align: right;\n",
       "    }\n",
       "</style>\n",
       "<table border=\"1\" class=\"dataframe\">\n",
       "  <thead>\n",
       "    <tr style=\"text-align: right;\">\n",
       "      <th></th>\n",
       "      <th>Sno</th>\n",
       "      <th>Date</th>\n",
       "      <th>Time</th>\n",
       "      <th>State/UnionTerritory</th>\n",
       "      <th>ConfirmedIndianNational</th>\n",
       "      <th>ConfirmedForeignNational</th>\n",
       "      <th>Cured</th>\n",
       "      <th>Deaths</th>\n",
       "      <th>Confirmed</th>\n",
       "    </tr>\n",
       "  </thead>\n",
       "  <tbody>\n",
       "    <tr>\n",
       "      <th>0</th>\n",
       "      <td>1</td>\n",
       "      <td>2020-01-30</td>\n",
       "      <td>6:00 PM</td>\n",
       "      <td>Kerala</td>\n",
       "      <td>1</td>\n",
       "      <td>0</td>\n",
       "      <td>0</td>\n",
       "      <td>0</td>\n",
       "      <td>1</td>\n",
       "    </tr>\n",
       "    <tr>\n",
       "      <th>1</th>\n",
       "      <td>2</td>\n",
       "      <td>2020-01-31</td>\n",
       "      <td>6:00 PM</td>\n",
       "      <td>Kerala</td>\n",
       "      <td>1</td>\n",
       "      <td>0</td>\n",
       "      <td>0</td>\n",
       "      <td>0</td>\n",
       "      <td>1</td>\n",
       "    </tr>\n",
       "    <tr>\n",
       "      <th>2</th>\n",
       "      <td>3</td>\n",
       "      <td>2020-02-01</td>\n",
       "      <td>6:00 PM</td>\n",
       "      <td>Kerala</td>\n",
       "      <td>2</td>\n",
       "      <td>0</td>\n",
       "      <td>0</td>\n",
       "      <td>0</td>\n",
       "      <td>2</td>\n",
       "    </tr>\n",
       "    <tr>\n",
       "      <th>3</th>\n",
       "      <td>4</td>\n",
       "      <td>2020-02-02</td>\n",
       "      <td>6:00 PM</td>\n",
       "      <td>Kerala</td>\n",
       "      <td>3</td>\n",
       "      <td>0</td>\n",
       "      <td>0</td>\n",
       "      <td>0</td>\n",
       "      <td>3</td>\n",
       "    </tr>\n",
       "    <tr>\n",
       "      <th>4</th>\n",
       "      <td>5</td>\n",
       "      <td>2020-02-03</td>\n",
       "      <td>6:00 PM</td>\n",
       "      <td>Kerala</td>\n",
       "      <td>3</td>\n",
       "      <td>0</td>\n",
       "      <td>0</td>\n",
       "      <td>0</td>\n",
       "      <td>3</td>\n",
       "    </tr>\n",
       "  </tbody>\n",
       "</table>\n",
       "</div>"
      ],
      "text/plain": [
       "   Sno       Date     Time State/UnionTerritory ConfirmedIndianNational  \\\n",
       "0    1 2020-01-30  6:00 PM               Kerala                       1   \n",
       "1    2 2020-01-31  6:00 PM               Kerala                       1   \n",
       "2    3 2020-02-01  6:00 PM               Kerala                       2   \n",
       "3    4 2020-02-02  6:00 PM               Kerala                       3   \n",
       "4    5 2020-02-03  6:00 PM               Kerala                       3   \n",
       "\n",
       "  ConfirmedForeignNational  Cured  Deaths  Confirmed  \n",
       "0                        0      0       0          1  \n",
       "1                        0      0       0          1  \n",
       "2                        0      0       0          2  \n",
       "3                        0      0       0          3  \n",
       "4                        0      0       0          3  "
      ]
     },
     "execution_count": 2,
     "metadata": {},
     "output_type": "execute_result"
    }
   ],
   "source": [
    "df=pd.read_csv(\"covid_19_india.csv\",parse_dates=[\"Date\"],dayfirst=True)\n",
    "df.head()\n"
   ]
  },
  {
   "cell_type": "code",
   "execution_count": 3,
   "metadata": {},
   "outputs": [
    {
     "data": {
      "text/html": [
       "<div>\n",
       "<style scoped>\n",
       "    .dataframe tbody tr th:only-of-type {\n",
       "        vertical-align: middle;\n",
       "    }\n",
       "\n",
       "    .dataframe tbody tr th {\n",
       "        vertical-align: top;\n",
       "    }\n",
       "\n",
       "    .dataframe thead th {\n",
       "        text-align: right;\n",
       "    }\n",
       "</style>\n",
       "<table border=\"1\" class=\"dataframe\">\n",
       "  <thead>\n",
       "    <tr style=\"text-align: right;\">\n",
       "      <th></th>\n",
       "      <th>Sno</th>\n",
       "      <th>Date</th>\n",
       "      <th>Time</th>\n",
       "      <th>State/UnionTerritory</th>\n",
       "      <th>ConfirmedIndianNational</th>\n",
       "      <th>ConfirmedForeignNational</th>\n",
       "      <th>Cured</th>\n",
       "      <th>Deaths</th>\n",
       "      <th>Confirmed</th>\n",
       "    </tr>\n",
       "  </thead>\n",
       "  <tbody>\n",
       "    <tr>\n",
       "      <th>6171</th>\n",
       "      <td>6172</td>\n",
       "      <td>2020-09-11</td>\n",
       "      <td>8:00 AM</td>\n",
       "      <td>Telengana</td>\n",
       "      <td>-</td>\n",
       "      <td>-</td>\n",
       "      <td>119467</td>\n",
       "      <td>940</td>\n",
       "      <td>152602</td>\n",
       "    </tr>\n",
       "    <tr>\n",
       "      <th>6172</th>\n",
       "      <td>6173</td>\n",
       "      <td>2020-09-11</td>\n",
       "      <td>8:00 AM</td>\n",
       "      <td>Tripura</td>\n",
       "      <td>-</td>\n",
       "      <td>-</td>\n",
       "      <td>10255</td>\n",
       "      <td>173</td>\n",
       "      <td>17811</td>\n",
       "    </tr>\n",
       "    <tr>\n",
       "      <th>6173</th>\n",
       "      <td>6174</td>\n",
       "      <td>2020-09-11</td>\n",
       "      <td>8:00 AM</td>\n",
       "      <td>Uttarakhand</td>\n",
       "      <td>-</td>\n",
       "      <td>-</td>\n",
       "      <td>18783</td>\n",
       "      <td>377</td>\n",
       "      <td>28266</td>\n",
       "    </tr>\n",
       "    <tr>\n",
       "      <th>6174</th>\n",
       "      <td>6175</td>\n",
       "      <td>2020-09-11</td>\n",
       "      <td>8:00 AM</td>\n",
       "      <td>Uttar Pradesh</td>\n",
       "      <td>-</td>\n",
       "      <td>-</td>\n",
       "      <td>221506</td>\n",
       "      <td>4206</td>\n",
       "      <td>292029</td>\n",
       "    </tr>\n",
       "    <tr>\n",
       "      <th>6175</th>\n",
       "      <td>6176</td>\n",
       "      <td>2020-09-11</td>\n",
       "      <td>8:00 AM</td>\n",
       "      <td>West Bengal</td>\n",
       "      <td>-</td>\n",
       "      <td>-</td>\n",
       "      <td>166027</td>\n",
       "      <td>3771</td>\n",
       "      <td>193175</td>\n",
       "    </tr>\n",
       "  </tbody>\n",
       "</table>\n",
       "</div>"
      ],
      "text/plain": [
       "       Sno       Date     Time State/UnionTerritory ConfirmedIndianNational  \\\n",
       "6171  6172 2020-09-11  8:00 AM            Telengana                       -   \n",
       "6172  6173 2020-09-11  8:00 AM              Tripura                       -   \n",
       "6173  6174 2020-09-11  8:00 AM          Uttarakhand                       -   \n",
       "6174  6175 2020-09-11  8:00 AM        Uttar Pradesh                       -   \n",
       "6175  6176 2020-09-11  8:00 AM          West Bengal                       -   \n",
       "\n",
       "     ConfirmedForeignNational   Cured  Deaths  Confirmed  \n",
       "6171                        -  119467     940     152602  \n",
       "6172                        -   10255     173      17811  \n",
       "6173                        -   18783     377      28266  \n",
       "6174                        -  221506    4206     292029  \n",
       "6175                        -  166027    3771     193175  "
      ]
     },
     "execution_count": 3,
     "metadata": {},
     "output_type": "execute_result"
    }
   ],
   "source": [
    "df.tail()"
   ]
  },
  {
   "cell_type": "code",
   "execution_count": 4,
   "metadata": {},
   "outputs": [],
   "source": [
    "sns.set(rc={\"figure.figsize\":(25,20)})"
   ]
  },
  {
   "cell_type": "code",
   "execution_count": 5,
   "metadata": {},
   "outputs": [
    {
     "data": {
      "text/html": [
       "<div>\n",
       "<style scoped>\n",
       "    .dataframe tbody tr th:only-of-type {\n",
       "        vertical-align: middle;\n",
       "    }\n",
       "\n",
       "    .dataframe tbody tr th {\n",
       "        vertical-align: top;\n",
       "    }\n",
       "\n",
       "    .dataframe thead th {\n",
       "        text-align: right;\n",
       "    }\n",
       "</style>\n",
       "<table border=\"1\" class=\"dataframe\">\n",
       "  <thead>\n",
       "    <tr style=\"text-align: right;\">\n",
       "      <th></th>\n",
       "      <th>Sno</th>\n",
       "      <th>Date</th>\n",
       "      <th>Time</th>\n",
       "      <th>State/UnionTerritory</th>\n",
       "      <th>ConfirmedIndianNational</th>\n",
       "      <th>ConfirmedForeignNational</th>\n",
       "      <th>Cured</th>\n",
       "      <th>Deaths</th>\n",
       "      <th>Confirmed</th>\n",
       "    </tr>\n",
       "  </thead>\n",
       "  <tbody>\n",
       "    <tr>\n",
       "      <th>39</th>\n",
       "      <td>40</td>\n",
       "      <td>2020-03-04</td>\n",
       "      <td>6:00 PM</td>\n",
       "      <td>Uttar Pradesh</td>\n",
       "      <td>6</td>\n",
       "      <td>0</td>\n",
       "      <td>0</td>\n",
       "      <td>0</td>\n",
       "      <td>6</td>\n",
       "    </tr>\n",
       "    <tr>\n",
       "      <th>50</th>\n",
       "      <td>51</td>\n",
       "      <td>2020-03-05</td>\n",
       "      <td>6:00 PM</td>\n",
       "      <td>Uttar Pradesh</td>\n",
       "      <td>7</td>\n",
       "      <td>0</td>\n",
       "      <td>0</td>\n",
       "      <td>0</td>\n",
       "      <td>7</td>\n",
       "    </tr>\n",
       "    <tr>\n",
       "      <th>55</th>\n",
       "      <td>56</td>\n",
       "      <td>2020-03-06</td>\n",
       "      <td>6:00 PM</td>\n",
       "      <td>Uttar Pradesh</td>\n",
       "      <td>7</td>\n",
       "      <td>0</td>\n",
       "      <td>0</td>\n",
       "      <td>0</td>\n",
       "      <td>7</td>\n",
       "    </tr>\n",
       "    <tr>\n",
       "      <th>58</th>\n",
       "      <td>59</td>\n",
       "      <td>2020-03-07</td>\n",
       "      <td>6:00 PM</td>\n",
       "      <td>Uttar Pradesh</td>\n",
       "      <td>7</td>\n",
       "      <td>0</td>\n",
       "      <td>0</td>\n",
       "      <td>0</td>\n",
       "      <td>7</td>\n",
       "    </tr>\n",
       "    <tr>\n",
       "      <th>72</th>\n",
       "      <td>73</td>\n",
       "      <td>2020-03-08</td>\n",
       "      <td>6:00 PM</td>\n",
       "      <td>Uttar Pradesh</td>\n",
       "      <td>7</td>\n",
       "      <td>0</td>\n",
       "      <td>0</td>\n",
       "      <td>0</td>\n",
       "      <td>7</td>\n",
       "    </tr>\n",
       "  </tbody>\n",
       "</table>\n",
       "</div>"
      ],
      "text/plain": [
       "    Sno       Date     Time State/UnionTerritory ConfirmedIndianNational  \\\n",
       "39   40 2020-03-04  6:00 PM        Uttar Pradesh                       6   \n",
       "50   51 2020-03-05  6:00 PM        Uttar Pradesh                       7   \n",
       "55   56 2020-03-06  6:00 PM        Uttar Pradesh                       7   \n",
       "58   59 2020-03-07  6:00 PM        Uttar Pradesh                       7   \n",
       "72   73 2020-03-08  6:00 PM        Uttar Pradesh                       7   \n",
       "\n",
       "   ConfirmedForeignNational  Cured  Deaths  Confirmed  \n",
       "39                        0      0       0          6  \n",
       "50                        0      0       0          7  \n",
       "55                        0      0       0          7  \n",
       "58                        0      0       0          7  \n",
       "72                        0      0       0          7  "
      ]
     },
     "execution_count": 5,
     "metadata": {},
     "output_type": "execute_result"
    }
   ],
   "source": [
    "df=df[df[\"State/UnionTerritory\"]=='Uttar Pradesh']\n",
    "df.head()"
   ]
  },
  {
   "cell_type": "code",
   "execution_count": 6,
   "metadata": {},
   "outputs": [
    {
     "data": {
      "text/html": [
       "<div>\n",
       "<style scoped>\n",
       "    .dataframe tbody tr th:only-of-type {\n",
       "        vertical-align: middle;\n",
       "    }\n",
       "\n",
       "    .dataframe tbody tr th {\n",
       "        vertical-align: top;\n",
       "    }\n",
       "\n",
       "    .dataframe thead th {\n",
       "        text-align: right;\n",
       "    }\n",
       "</style>\n",
       "<table border=\"1\" class=\"dataframe\">\n",
       "  <thead>\n",
       "    <tr style=\"text-align: right;\">\n",
       "      <th></th>\n",
       "      <th>Date</th>\n",
       "      <th>State/UnionTerritory</th>\n",
       "      <th>Cured</th>\n",
       "      <th>Deaths</th>\n",
       "      <th>Confirmed</th>\n",
       "    </tr>\n",
       "  </thead>\n",
       "  <tbody>\n",
       "    <tr>\n",
       "      <th>39</th>\n",
       "      <td>2020-03-04</td>\n",
       "      <td>Uttar Pradesh</td>\n",
       "      <td>0</td>\n",
       "      <td>0</td>\n",
       "      <td>6</td>\n",
       "    </tr>\n",
       "    <tr>\n",
       "      <th>50</th>\n",
       "      <td>2020-03-05</td>\n",
       "      <td>Uttar Pradesh</td>\n",
       "      <td>0</td>\n",
       "      <td>0</td>\n",
       "      <td>7</td>\n",
       "    </tr>\n",
       "    <tr>\n",
       "      <th>55</th>\n",
       "      <td>2020-03-06</td>\n",
       "      <td>Uttar Pradesh</td>\n",
       "      <td>0</td>\n",
       "      <td>0</td>\n",
       "      <td>7</td>\n",
       "    </tr>\n",
       "    <tr>\n",
       "      <th>58</th>\n",
       "      <td>2020-03-07</td>\n",
       "      <td>Uttar Pradesh</td>\n",
       "      <td>0</td>\n",
       "      <td>0</td>\n",
       "      <td>7</td>\n",
       "    </tr>\n",
       "    <tr>\n",
       "      <th>72</th>\n",
       "      <td>2020-03-08</td>\n",
       "      <td>Uttar Pradesh</td>\n",
       "      <td>0</td>\n",
       "      <td>0</td>\n",
       "      <td>7</td>\n",
       "    </tr>\n",
       "  </tbody>\n",
       "</table>\n",
       "</div>"
      ],
      "text/plain": [
       "         Date State/UnionTerritory  Cured  Deaths  Confirmed\n",
       "39 2020-03-04        Uttar Pradesh      0       0          6\n",
       "50 2020-03-05        Uttar Pradesh      0       0          7\n",
       "55 2020-03-06        Uttar Pradesh      0       0          7\n",
       "58 2020-03-07        Uttar Pradesh      0       0          7\n",
       "72 2020-03-08        Uttar Pradesh      0       0          7"
      ]
     },
     "execution_count": 6,
     "metadata": {},
     "output_type": "execute_result"
    }
   ],
   "source": [
    "df1=df[[\"Date\",\"State/UnionTerritory\",\"Cured\",\"Deaths\",\"Confirmed\"]]\n",
    "df1.head()"
   ]
  },
  {
   "cell_type": "code",
   "execution_count": 7,
   "metadata": {},
   "outputs": [
    {
     "data": {
      "text/html": [
       "<div>\n",
       "<style scoped>\n",
       "    .dataframe tbody tr th:only-of-type {\n",
       "        vertical-align: middle;\n",
       "    }\n",
       "\n",
       "    .dataframe tbody tr th {\n",
       "        vertical-align: top;\n",
       "    }\n",
       "\n",
       "    .dataframe thead th {\n",
       "        text-align: right;\n",
       "    }\n",
       "</style>\n",
       "<table border=\"1\" class=\"dataframe\">\n",
       "  <thead>\n",
       "    <tr style=\"text-align: right;\">\n",
       "      <th></th>\n",
       "      <th>date</th>\n",
       "      <th>state</th>\n",
       "      <th>cured</th>\n",
       "      <th>deaths</th>\n",
       "      <th>confirmed</th>\n",
       "    </tr>\n",
       "  </thead>\n",
       "  <tbody>\n",
       "    <tr>\n",
       "      <th>39</th>\n",
       "      <td>2020-03-04</td>\n",
       "      <td>Uttar Pradesh</td>\n",
       "      <td>0</td>\n",
       "      <td>0</td>\n",
       "      <td>6</td>\n",
       "    </tr>\n",
       "    <tr>\n",
       "      <th>50</th>\n",
       "      <td>2020-03-05</td>\n",
       "      <td>Uttar Pradesh</td>\n",
       "      <td>0</td>\n",
       "      <td>0</td>\n",
       "      <td>7</td>\n",
       "    </tr>\n",
       "    <tr>\n",
       "      <th>55</th>\n",
       "      <td>2020-03-06</td>\n",
       "      <td>Uttar Pradesh</td>\n",
       "      <td>0</td>\n",
       "      <td>0</td>\n",
       "      <td>7</td>\n",
       "    </tr>\n",
       "    <tr>\n",
       "      <th>58</th>\n",
       "      <td>2020-03-07</td>\n",
       "      <td>Uttar Pradesh</td>\n",
       "      <td>0</td>\n",
       "      <td>0</td>\n",
       "      <td>7</td>\n",
       "    </tr>\n",
       "    <tr>\n",
       "      <th>72</th>\n",
       "      <td>2020-03-08</td>\n",
       "      <td>Uttar Pradesh</td>\n",
       "      <td>0</td>\n",
       "      <td>0</td>\n",
       "      <td>7</td>\n",
       "    </tr>\n",
       "  </tbody>\n",
       "</table>\n",
       "</div>"
      ],
      "text/plain": [
       "         date          state  cured  deaths  confirmed\n",
       "39 2020-03-04  Uttar Pradesh      0       0          6\n",
       "50 2020-03-05  Uttar Pradesh      0       0          7\n",
       "55 2020-03-06  Uttar Pradesh      0       0          7\n",
       "58 2020-03-07  Uttar Pradesh      0       0          7\n",
       "72 2020-03-08  Uttar Pradesh      0       0          7"
      ]
     },
     "execution_count": 7,
     "metadata": {},
     "output_type": "execute_result"
    }
   ],
   "source": [
    "df1.columns=[\"date\",\"state\",\"cured\",\"deaths\",\"confirmed\"]\n",
    "df1.head()"
   ]
  },
  {
   "cell_type": "code",
   "execution_count": 8,
   "metadata": {},
   "outputs": [],
   "source": [
    "import datetime as dt"
   ]
  },
  {
   "cell_type": "code",
   "execution_count": 9,
   "metadata": {},
   "outputs": [
    {
     "name": "stderr",
     "output_type": "stream",
     "text": [
      "c:\\users\\dell\\appdata\\local\\programs\\python\\python38\\lib\\site-packages\\pandas\\core\\generic.py:5303: SettingWithCopyWarning: \n",
      "A value is trying to be set on a copy of a slice from a DataFrame.\n",
      "Try using .loc[row_indexer,col_indexer] = value instead\n",
      "\n",
      "See the caveats in the documentation: https://pandas.pydata.org/pandas-docs/stable/user_guide/indexing.html#returning-a-view-versus-a-copy\n",
      "  self[name] = value\n"
     ]
    },
    {
     "data": {
      "text/html": [
       "<div>\n",
       "<style scoped>\n",
       "    .dataframe tbody tr th:only-of-type {\n",
       "        vertical-align: middle;\n",
       "    }\n",
       "\n",
       "    .dataframe tbody tr th {\n",
       "        vertical-align: top;\n",
       "    }\n",
       "\n",
       "    .dataframe thead th {\n",
       "        text-align: right;\n",
       "    }\n",
       "</style>\n",
       "<table border=\"1\" class=\"dataframe\">\n",
       "  <thead>\n",
       "    <tr style=\"text-align: right;\">\n",
       "      <th></th>\n",
       "      <th>date</th>\n",
       "      <th>state</th>\n",
       "      <th>cured</th>\n",
       "      <th>deaths</th>\n",
       "      <th>confirmed</th>\n",
       "    </tr>\n",
       "  </thead>\n",
       "  <tbody>\n",
       "    <tr>\n",
       "      <th>39</th>\n",
       "      <td>737488</td>\n",
       "      <td>Uttar Pradesh</td>\n",
       "      <td>0</td>\n",
       "      <td>0</td>\n",
       "      <td>6</td>\n",
       "    </tr>\n",
       "    <tr>\n",
       "      <th>50</th>\n",
       "      <td>737489</td>\n",
       "      <td>Uttar Pradesh</td>\n",
       "      <td>0</td>\n",
       "      <td>0</td>\n",
       "      <td>7</td>\n",
       "    </tr>\n",
       "    <tr>\n",
       "      <th>55</th>\n",
       "      <td>737490</td>\n",
       "      <td>Uttar Pradesh</td>\n",
       "      <td>0</td>\n",
       "      <td>0</td>\n",
       "      <td>7</td>\n",
       "    </tr>\n",
       "    <tr>\n",
       "      <th>58</th>\n",
       "      <td>737491</td>\n",
       "      <td>Uttar Pradesh</td>\n",
       "      <td>0</td>\n",
       "      <td>0</td>\n",
       "      <td>7</td>\n",
       "    </tr>\n",
       "    <tr>\n",
       "      <th>72</th>\n",
       "      <td>737492</td>\n",
       "      <td>Uttar Pradesh</td>\n",
       "      <td>0</td>\n",
       "      <td>0</td>\n",
       "      <td>7</td>\n",
       "    </tr>\n",
       "  </tbody>\n",
       "</table>\n",
       "</div>"
      ],
      "text/plain": [
       "      date          state  cured  deaths  confirmed\n",
       "39  737488  Uttar Pradesh      0       0          6\n",
       "50  737489  Uttar Pradesh      0       0          7\n",
       "55  737490  Uttar Pradesh      0       0          7\n",
       "58  737491  Uttar Pradesh      0       0          7\n",
       "72  737492  Uttar Pradesh      0       0          7"
      ]
     },
     "execution_count": 9,
     "metadata": {},
     "output_type": "execute_result"
    }
   ],
   "source": [
    "df1.date=df1.date.apply(dt.datetime.toordinal)\n",
    "df1.head()"
   ]
  },
  {
   "cell_type": "code",
   "execution_count": 10,
   "metadata": {},
   "outputs": [
    {
     "data": {
      "text/html": [
       "<div>\n",
       "<style scoped>\n",
       "    .dataframe tbody tr th:only-of-type {\n",
       "        vertical-align: middle;\n",
       "    }\n",
       "\n",
       "    .dataframe tbody tr th {\n",
       "        vertical-align: top;\n",
       "    }\n",
       "\n",
       "    .dataframe thead th {\n",
       "        text-align: right;\n",
       "    }\n",
       "</style>\n",
       "<table border=\"1\" class=\"dataframe\">\n",
       "  <thead>\n",
       "    <tr style=\"text-align: right;\">\n",
       "      <th></th>\n",
       "      <th>date</th>\n",
       "      <th>state</th>\n",
       "      <th>cured</th>\n",
       "      <th>deaths</th>\n",
       "      <th>confirmed</th>\n",
       "    </tr>\n",
       "  </thead>\n",
       "  <tbody>\n",
       "    <tr>\n",
       "      <th>6034</th>\n",
       "      <td>737675</td>\n",
       "      <td>Uttar Pradesh</td>\n",
       "      <td>200738</td>\n",
       "      <td>3920</td>\n",
       "      <td>266283</td>\n",
       "    </tr>\n",
       "    <tr>\n",
       "      <th>6069</th>\n",
       "      <td>737676</td>\n",
       "      <td>Uttar Pradesh</td>\n",
       "      <td>205731</td>\n",
       "      <td>3976</td>\n",
       "      <td>271851</td>\n",
       "    </tr>\n",
       "    <tr>\n",
       "      <th>6104</th>\n",
       "      <td>737677</td>\n",
       "      <td>Uttar Pradesh</td>\n",
       "      <td>211170</td>\n",
       "      <td>4047</td>\n",
       "      <td>278473</td>\n",
       "    </tr>\n",
       "    <tr>\n",
       "      <th>6139</th>\n",
       "      <td>737678</td>\n",
       "      <td>Uttar Pradesh</td>\n",
       "      <td>216901</td>\n",
       "      <td>4112</td>\n",
       "      <td>285041</td>\n",
       "    </tr>\n",
       "    <tr>\n",
       "      <th>6174</th>\n",
       "      <td>737679</td>\n",
       "      <td>Uttar Pradesh</td>\n",
       "      <td>221506</td>\n",
       "      <td>4206</td>\n",
       "      <td>292029</td>\n",
       "    </tr>\n",
       "  </tbody>\n",
       "</table>\n",
       "</div>"
      ],
      "text/plain": [
       "        date          state   cured  deaths  confirmed\n",
       "6034  737675  Uttar Pradesh  200738    3920     266283\n",
       "6069  737676  Uttar Pradesh  205731    3976     271851\n",
       "6104  737677  Uttar Pradesh  211170    4047     278473\n",
       "6139  737678  Uttar Pradesh  216901    4112     285041\n",
       "6174  737679  Uttar Pradesh  221506    4206     292029"
      ]
     },
     "execution_count": 10,
     "metadata": {},
     "output_type": "execute_result"
    }
   ],
   "source": [
    "df1.tail()"
   ]
  },
  {
   "cell_type": "code",
   "execution_count": 11,
   "metadata": {},
   "outputs": [
    {
     "data": {
      "text/plain": [
       "<seaborn.axisgrid.PairGrid at 0x2097c57d1c0>"
      ]
     },
     "execution_count": 11,
     "metadata": {},
     "output_type": "execute_result"
    },
    {
     "data": {
      "image/png": "[encoded data removed]",
      "text/plain": [
       "<Figure size 720x720 with 20 Axes>"
      ]
     },
     "metadata": {},
     "output_type": "display_data"
    }
   ],
   "source": [
    "sns.pairplot(df1[[\"date\",\"cured\",\"deaths\",\"confirmed\"]])"
   ]
  },
  {
   "cell_type": "code",
   "execution_count": 12,
   "metadata": {},
   "outputs": [
    {
     "data": {
      "text/plain": [
       "<matplotlib.collections.PathCollection at 0x2097f102760>"
      ]
     },
     "execution_count": 12,
     "metadata": {},
     "output_type": "execute_result"
    },
    {
     "data": {
      "image/png": "[encoded data removed]",
      "text/plain": [
       "<Figure size 1800x1440 with 1 Axes>"
      ]
     },
     "metadata": {},
     "output_type": "display_data"
    }
   ],
   "source": [
    "plt.title(\"Plotof date v/s confirmed\")\n",
    "plt.xlabel(\"Date\")\n",
    "plt.ylabel(\"Confirmed cases\")\n",
    "plt.scatter(df1.date,df1.confirmed,marker=\".\")"
   ]
  },
  {
   "cell_type": "code",
   "execution_count": 13,
   "metadata": {},
   "outputs": [
    {
     "name": "stderr",
     "output_type": "stream",
     "text": [
      "<ipython-input-13-2bd8be1c1e6f>:1: SettingWithCopyWarning: \n",
      "A value is trying to be set on a copy of a slice from a DataFrame.\n",
      "Try using .loc[row_indexer,col_indexer] = value instead\n",
      "\n",
      "See the caveats in the documentation: https://pandas.pydata.org/pandas-docs/stable/user_guide/indexing.html#returning-a-view-versus-a-copy\n",
      "  df1[\"Transconf\"]=np.log(df1[\"confirmed\"])\n"
     ]
    },
    {
     "data": {
      "text/html": [
       "<div>\n",
       "<style scoped>\n",
       "    .dataframe tbody tr th:only-of-type {\n",
       "        vertical-align: middle;\n",
       "    }\n",
       "\n",
       "    .dataframe tbody tr th {\n",
       "        vertical-align: top;\n",
       "    }\n",
       "\n",
       "    .dataframe thead th {\n",
       "        text-align: right;\n",
       "    }\n",
       "</style>\n",
       "<table border=\"1\" class=\"dataframe\">\n",
       "  <thead>\n",
       "    <tr style=\"text-align: right;\">\n",
       "      <th></th>\n",
       "      <th>date</th>\n",
       "      <th>state</th>\n",
       "      <th>cured</th>\n",
       "      <th>deaths</th>\n",
       "      <th>confirmed</th>\n",
       "      <th>Transconf</th>\n",
       "    </tr>\n",
       "  </thead>\n",
       "  <tbody>\n",
       "    <tr>\n",
       "      <th>39</th>\n",
       "      <td>737488</td>\n",
       "      <td>Uttar Pradesh</td>\n",
       "      <td>0</td>\n",
       "      <td>0</td>\n",
       "      <td>6</td>\n",
       "      <td>1.791759</td>\n",
       "    </tr>\n",
       "    <tr>\n",
       "      <th>50</th>\n",
       "      <td>737489</td>\n",
       "      <td>Uttar Pradesh</td>\n",
       "      <td>0</td>\n",
       "      <td>0</td>\n",
       "      <td>7</td>\n",
       "      <td>1.945910</td>\n",
       "    </tr>\n",
       "    <tr>\n",
       "      <th>55</th>\n",
       "      <td>737490</td>\n",
       "      <td>Uttar Pradesh</td>\n",
       "      <td>0</td>\n",
       "      <td>0</td>\n",
       "      <td>7</td>\n",
       "      <td>1.945910</td>\n",
       "    </tr>\n",
       "    <tr>\n",
       "      <th>58</th>\n",
       "      <td>737491</td>\n",
       "      <td>Uttar Pradesh</td>\n",
       "      <td>0</td>\n",
       "      <td>0</td>\n",
       "      <td>7</td>\n",
       "      <td>1.945910</td>\n",
       "    </tr>\n",
       "    <tr>\n",
       "      <th>72</th>\n",
       "      <td>737492</td>\n",
       "      <td>Uttar Pradesh</td>\n",
       "      <td>0</td>\n",
       "      <td>0</td>\n",
       "      <td>7</td>\n",
       "      <td>1.945910</td>\n",
       "    </tr>\n",
       "  </tbody>\n",
       "</table>\n",
       "</div>"
      ],
      "text/plain": [
       "      date          state  cured  deaths  confirmed  Transconf\n",
       "39  737488  Uttar Pradesh      0       0          6   1.791759\n",
       "50  737489  Uttar Pradesh      0       0          7   1.945910\n",
       "55  737490  Uttar Pradesh      0       0          7   1.945910\n",
       "58  737491  Uttar Pradesh      0       0          7   1.945910\n",
       "72  737492  Uttar Pradesh      0       0          7   1.945910"
      ]
     },
     "execution_count": 13,
     "metadata": {},
     "output_type": "execute_result"
    }
   ],
   "source": [
    "df1[\"Transconf\"]=np.log(df1[\"confirmed\"])\n",
    "df1.head()"
   ]
  },
  {
   "cell_type": "code",
   "execution_count": 14,
   "metadata": {},
   "outputs": [
    {
     "data": {
      "text/plain": [
       "<matplotlib.collections.PathCollection at 0x209006a4250>"
      ]
     },
     "execution_count": 14,
     "metadata": {},
     "output_type": "execute_result"
    },
    {
     "data": {
      "image/png": "[encoded data removed]",
      "text/plain": [
       "<Figure size 1800x1440 with 1 Axes>"
      ]
     },
     "metadata": {},
     "output_type": "display_data"
    }
   ],
   "source": [
    "plt.title(\"Plotof date v/s Transformedconfirmed\")\n",
    "plt.xlabel(\"Date\")\n",
    "plt.ylabel(\"Confirmed cases\")\n",
    "plt.scatter(df1.date,df1.Transconf,marker=\"*\",color=\"green\")"
   ]
  },
  {
   "cell_type": "code",
   "execution_count": 15,
   "metadata": {},
   "outputs": [
    {
     "data": {
      "text/html": [
       "<div>\n",
       "<style scoped>\n",
       "    .dataframe tbody tr th:only-of-type {\n",
       "        vertical-align: middle;\n",
       "    }\n",
       "\n",
       "    .dataframe tbody tr th {\n",
       "        vertical-align: top;\n",
       "    }\n",
       "\n",
       "    .dataframe thead th {\n",
       "        text-align: right;\n",
       "    }\n",
       "</style>\n",
       "<table border=\"1\" class=\"dataframe\">\n",
       "  <thead>\n",
       "    <tr style=\"text-align: right;\">\n",
       "      <th></th>\n",
       "      <th>date</th>\n",
       "      <th>state</th>\n",
       "      <th>cured</th>\n",
       "      <th>deaths</th>\n",
       "      <th>confirmed</th>\n",
       "      <th>Transconf</th>\n",
       "    </tr>\n",
       "  </thead>\n",
       "  <tbody>\n",
       "    <tr>\n",
       "      <th>39</th>\n",
       "      <td>737488</td>\n",
       "      <td>Uttar Pradesh</td>\n",
       "      <td>0</td>\n",
       "      <td>0</td>\n",
       "      <td>6</td>\n",
       "      <td>1.791759</td>\n",
       "    </tr>\n",
       "    <tr>\n",
       "      <th>50</th>\n",
       "      <td>737489</td>\n",
       "      <td>Uttar Pradesh</td>\n",
       "      <td>0</td>\n",
       "      <td>0</td>\n",
       "      <td>7</td>\n",
       "      <td>1.945910</td>\n",
       "    </tr>\n",
       "    <tr>\n",
       "      <th>55</th>\n",
       "      <td>737490</td>\n",
       "      <td>Uttar Pradesh</td>\n",
       "      <td>0</td>\n",
       "      <td>0</td>\n",
       "      <td>7</td>\n",
       "      <td>1.945910</td>\n",
       "    </tr>\n",
       "    <tr>\n",
       "      <th>58</th>\n",
       "      <td>737491</td>\n",
       "      <td>Uttar Pradesh</td>\n",
       "      <td>0</td>\n",
       "      <td>0</td>\n",
       "      <td>7</td>\n",
       "      <td>1.945910</td>\n",
       "    </tr>\n",
       "    <tr>\n",
       "      <th>72</th>\n",
       "      <td>737492</td>\n",
       "      <td>Uttar Pradesh</td>\n",
       "      <td>0</td>\n",
       "      <td>0</td>\n",
       "      <td>7</td>\n",
       "      <td>1.945910</td>\n",
       "    </tr>\n",
       "  </tbody>\n",
       "</table>\n",
       "</div>"
      ],
      "text/plain": [
       "      date          state  cured  deaths  confirmed  Transconf\n",
       "39  737488  Uttar Pradesh      0       0          6   1.791759\n",
       "50  737489  Uttar Pradesh      0       0          7   1.945910\n",
       "55  737490  Uttar Pradesh      0       0          7   1.945910\n",
       "58  737491  Uttar Pradesh      0       0          7   1.945910\n",
       "72  737492  Uttar Pradesh      0       0          7   1.945910"
      ]
     },
     "execution_count": 15,
     "metadata": {},
     "output_type": "execute_result"
    }
   ],
   "source": [
    "\n",
    "df1.head()"
   ]
  },
  {
   "cell_type": "code",
   "execution_count": 16,
   "metadata": {},
   "outputs": [
    {
     "data": {
      "text/html": [
       "<div>\n",
       "<style scoped>\n",
       "    .dataframe tbody tr th:only-of-type {\n",
       "        vertical-align: middle;\n",
       "    }\n",
       "\n",
       "    .dataframe tbody tr th {\n",
       "        vertical-align: top;\n",
       "    }\n",
       "\n",
       "    .dataframe thead th {\n",
       "        text-align: right;\n",
       "    }\n",
       "</style>\n",
       "<table border=\"1\" class=\"dataframe\">\n",
       "  <thead>\n",
       "    <tr style=\"text-align: right;\">\n",
       "      <th></th>\n",
       "      <th>date</th>\n",
       "      <th>state</th>\n",
       "      <th>cured</th>\n",
       "      <th>deaths</th>\n",
       "      <th>confirmed</th>\n",
       "      <th>Transconf</th>\n",
       "    </tr>\n",
       "  </thead>\n",
       "  <tbody>\n",
       "    <tr>\n",
       "      <th>39</th>\n",
       "      <td>737488</td>\n",
       "      <td>Uttar Pradesh</td>\n",
       "      <td>0</td>\n",
       "      <td>0</td>\n",
       "      <td>6</td>\n",
       "      <td>1.791759</td>\n",
       "    </tr>\n",
       "    <tr>\n",
       "      <th>50</th>\n",
       "      <td>737489</td>\n",
       "      <td>Uttar Pradesh</td>\n",
       "      <td>0</td>\n",
       "      <td>0</td>\n",
       "      <td>7</td>\n",
       "      <td>1.945910</td>\n",
       "    </tr>\n",
       "    <tr>\n",
       "      <th>55</th>\n",
       "      <td>737490</td>\n",
       "      <td>Uttar Pradesh</td>\n",
       "      <td>0</td>\n",
       "      <td>0</td>\n",
       "      <td>7</td>\n",
       "      <td>1.945910</td>\n",
       "    </tr>\n",
       "    <tr>\n",
       "      <th>58</th>\n",
       "      <td>737491</td>\n",
       "      <td>Uttar Pradesh</td>\n",
       "      <td>0</td>\n",
       "      <td>0</td>\n",
       "      <td>7</td>\n",
       "      <td>1.945910</td>\n",
       "    </tr>\n",
       "    <tr>\n",
       "      <th>72</th>\n",
       "      <td>737492</td>\n",
       "      <td>Uttar Pradesh</td>\n",
       "      <td>0</td>\n",
       "      <td>0</td>\n",
       "      <td>7</td>\n",
       "      <td>1.945910</td>\n",
       "    </tr>\n",
       "  </tbody>\n",
       "</table>\n",
       "</div>"
      ],
      "text/plain": [
       "      date          state  cured  deaths  confirmed  Transconf\n",
       "39  737488  Uttar Pradesh      0       0          6   1.791759\n",
       "50  737489  Uttar Pradesh      0       0          7   1.945910\n",
       "55  737490  Uttar Pradesh      0       0          7   1.945910\n",
       "58  737491  Uttar Pradesh      0       0          7   1.945910\n",
       "72  737492  Uttar Pradesh      0       0          7   1.945910"
      ]
     },
     "execution_count": 16,
     "metadata": {},
     "output_type": "execute_result"
    }
   ],
   "source": [
    "df1.head()"
   ]
  },
  {
   "cell_type": "code",
   "execution_count": 17,
   "metadata": {},
   "outputs": [
    {
     "data": {
      "text/plain": [
       "192"
      ]
     },
     "execution_count": 17,
     "metadata": {},
     "output_type": "execute_result"
    }
   ],
   "source": [
    "x=df1[[\"date\"]]\n",
    "y=df1[[\"Transconf\"]]\n",
    "len(x)"
   ]
  },
  {
   "cell_type": "code",
   "execution_count": 18,
   "metadata": {},
   "outputs": [
    {
     "data": {
      "text/plain": [
       "192"
      ]
     },
     "execution_count": 18,
     "metadata": {},
     "output_type": "execute_result"
    }
   ],
   "source": [
    "len(y)"
   ]
  },
  {
   "cell_type": "code",
   "execution_count": 19,
   "metadata": {},
   "outputs": [],
   "source": [
    "from sklearn.model_selection import train_test_split\n",
    "xtrain,xtest,ytrain,ytest=train_test_split(x,y,test_size=0.2)"
   ]
  },
  {
   "cell_type": "code",
   "execution_count": 20,
   "metadata": {},
   "outputs": [
    {
     "data": {
      "text/plain": [
       "153"
      ]
     },
     "execution_count": 20,
     "metadata": {},
     "output_type": "execute_result"
    }
   ],
   "source": [
    "len(xtrain)"
   ]
  },
  {
   "cell_type": "code",
   "execution_count": 21,
   "metadata": {},
   "outputs": [
    {
     "data": {
      "text/plain": [
       "39"
      ]
     },
     "execution_count": 21,
     "metadata": {},
     "output_type": "execute_result"
    }
   ],
   "source": [
    "len(xtest)"
   ]
  },
  {
   "cell_type": "code",
   "execution_count": 22,
   "metadata": {},
   "outputs": [
    {
     "data": {
      "text/plain": [
       "<matplotlib.collections.PathCollection at 0x209009c11f0>"
      ]
     },
     "execution_count": 22,
     "metadata": {},
     "output_type": "execute_result"
    },
    {
     "data": {
      "image/png": "[encoded data removed]",
      "text/plain": [
       "<Figure size 1800x1440 with 1 Axes>"
      ]
     },
     "metadata": {},
     "output_type": "display_data"
    }
   ],
   "source": [
    "plt.title(\"Plotof tranining set\")\n",
    "plt.xlabel(\"Date\")\n",
    "plt.ylabel(\"Confirmed cases\")\n",
    "plt.scatter(xtrain,ytrain,marker=\"*\",color=\"green\")"
   ]
  },
  {
   "cell_type": "code",
   "execution_count": 23,
   "metadata": {},
   "outputs": [
    {
     "data": {
      "text/plain": [
       "<matplotlib.collections.PathCollection at 0x20900a1c5b0>"
      ]
     },
     "execution_count": 23,
     "metadata": {},
     "output_type": "execute_result"
    },
    {
     "data": {
      "image/png": "[encoded data removed]",
      "text/plain": [
       "<Figure size 1800x1440 with 1 Axes>"
      ]
     },
     "metadata": {},
     "output_type": "display_data"
    }
   ],
   "source": [
    "plt.title(\"Plotof test set\")\n",
    "plt.xlabel(\"Date\")\n",
    "plt.ylabel(\"Confirmed cases\")\n",
    "plt.scatter(xtrain,ytrain,marker=\"*\",color=\"blue\")"
   ]
  },
  {
   "cell_type": "code",
   "execution_count": 24,
   "metadata": {},
   "outputs": [],
   "source": [
    "from sklearn.linear_model import LinearRegression\n",
    "model1=LinearRegression()"
   ]
  },
  {
   "cell_type": "code",
   "execution_count": 25,
   "metadata": {},
   "outputs": [
    {
     "data": {
      "text/plain": [
       "LinearRegression()"
      ]
     },
     "execution_count": 25,
     "metadata": {},
     "output_type": "execute_result"
    }
   ],
   "source": [
    "model1.fit(xtrain,ytrain)"
   ]
  },
  {
   "cell_type": "code",
   "execution_count": 26,
   "metadata": {},
   "outputs": [
    {
     "data": {
      "text/plain": [
       "array([[10.88696918],\n",
       "       [ 9.77699247],\n",
       "       [11.52124158],\n",
       "       [ 7.55703906],\n",
       "       [12.52550622],\n",
       "       [11.46838555],\n",
       "       [ 6.12992616],\n",
       "       [ 9.14272007],\n",
       "       [ 5.44279772],\n",
       "       [ 8.77272783],\n",
       "       [ 6.71134253],\n",
       "       [11.09839331],\n",
       "       [ 5.65422186],\n",
       "       [ 7.02847873],\n",
       "       [ 4.54424515],\n",
       "       [ 7.50418303],\n",
       "       [ 3.64569258],\n",
       "       [ 7.34561493],\n",
       "       [ 6.39420632],\n",
       "       [13.37120275],\n",
       "       [10.04127264],\n",
       "       [ 8.61415973],\n",
       "       [11.36267348],\n",
       "       [ 4.70281325],\n",
       "       [11.89123381],\n",
       "       [ 7.39847096],\n",
       "       [ 3.69854861],\n",
       "       [ 9.3541442 ],\n",
       "       [12.84264242],\n",
       "       [12.68407432],\n",
       "       [12.10265795],\n",
       "       [ 8.82558387],\n",
       "       [11.20410538],\n",
       "       [ 7.71560716],\n",
       "       [ 7.13419079],\n",
       "       [ 6.81705459],\n",
       "       [ 6.60563046],\n",
       "       [10.30555281],\n",
       "       [11.04553728]])"
      ]
     },
     "execution_count": 26,
     "metadata": {},
     "output_type": "execute_result"
    }
   ],
   "source": [
    "ypred1=model1.predict(xtest)\n",
    "ypred1"
   ]
  },
  {
   "cell_type": "code",
   "execution_count": 27,
   "metadata": {},
   "outputs": [
    {
     "data": {
      "text/plain": [
       "<matplotlib.collections.PathCollection at 0x20901963940>"
      ]
     },
     "execution_count": 27,
     "metadata": {},
     "output_type": "execute_result"
    },
    {
     "data": {
      "image/png": "[encoded data removed]",
      "text/plain": [
       "<Figure size 1800x1440 with 2 Axes>"
      ]
     },
     "metadata": {},
     "output_type": "display_data"
    }
   ],
   "source": [
    "plt.subplot(1,2,1)\n",
    "plt.title(\"Plot of predicted v/s actual set for Model1.Red=Predicted,Blue=Actual \")\n",
    "plt.xlabel(\"Date\")\n",
    "plt.ylabel(\"Number of predicted and actual cases\")\n",
    "plt.scatter(xtest,ypred1,marker=\"*\",color=\"red\")\n",
    "plt.subplot(1,2,2)\n",
    "plt.xlabel(\"Date\")\n",
    "plt.scatter(xtest,ytest,marker=\"+\",color=\"blue\")"
   ]
  },
  {
   "cell_type": "code",
   "execution_count": 28,
   "metadata": {},
   "outputs": [
    {
     "data": {
      "text/plain": [
       "0.92658071937776"
      ]
     },
     "execution_count": 28,
     "metadata": {},
     "output_type": "execute_result"
    }
   ],
   "source": [
    "m1score=model1.score(x,y)\n",
    "m1score"
   ]
  },
  {
   "cell_type": "code",
   "execution_count": 29,
   "metadata": {},
   "outputs": [],
   "source": [
    "import math"
   ]
  },
  {
   "cell_type": "code",
   "execution_count": 30,
   "metadata": {},
   "outputs": [
    {
     "data": {
      "text/plain": [
       "0.639808193772468"
      ]
     },
     "execution_count": 30,
     "metadata": {},
     "output_type": "execute_result"
    }
   ],
   "source": [
    "from sklearn.metrics import mean_squared_error\n",
    "mse1=mean_squared_error(ytest,ypred1)\n",
    "mse1"
   ]
  },
  {
   "cell_type": "code",
   "execution_count": 31,
   "metadata": {},
   "outputs": [
    {
     "data": {
      "text/plain": [
       "0.7998801121246033"
      ]
     },
     "execution_count": 31,
     "metadata": {},
     "output_type": "execute_result"
    }
   ],
   "source": [
    "rmse1=math.sqrt(mse1)\n",
    "rmse1"
   ]
  },
  {
   "cell_type": "code",
   "execution_count": 32,
   "metadata": {},
   "outputs": [
    {
     "data": {
      "text/plain": [
       "0.6602363778369971"
      ]
     },
     "execution_count": 32,
     "metadata": {},
     "output_type": "execute_result"
    }
   ],
   "source": [
    "from sklearn.metrics import mean_absolute_error\n",
    "mae1=mean_absolute_error(ytest,ypred1)\n",
    "mae1"
   ]
  },
  {
   "cell_type": "code",
   "execution_count": 33,
   "metadata": {},
   "outputs": [
    {
     "data": {
      "text/plain": [
       "array([[5.34749809e+04],\n",
       "       [1.76235697e+04],\n",
       "       [1.00835079e+05],\n",
       "       [1.91416938e+03],\n",
       "       [2.75269588e+05],\n",
       "       [9.56437419e+04],\n",
       "       [4.59402236e+02],\n",
       "       [9.34615277e+03],\n",
       "       [2.31087799e+02],\n",
       "       [6.45575871e+03],\n",
       "       [8.21673017e+02],\n",
       "       [6.60649290e+04],\n",
       "       [2.85494240e+02],\n",
       "       [1.12831283e+03],\n",
       "       [9.40893771e+01],\n",
       "       [1.81562135e+03],\n",
       "       [3.83092959e+01],\n",
       "       [1.54938744e+03],\n",
       "       [5.98368225e+02],\n",
       "       [6.41268005e+05],\n",
       "       [2.29545772e+04],\n",
       "       [5.50911754e+03],\n",
       "       [8.60491117e+04],\n",
       "       [1.10256917e+02],\n",
       "       [1.45981301e+05],\n",
       "       [1.63348486e+03],\n",
       "       [4.03886423e+01],\n",
       "       [1.15465758e+04],\n",
       "       [3.77997333e+05],\n",
       "       [3.22569636e+05],\n",
       "       [1.80350588e+05],\n",
       "       [6.80616343e+03],\n",
       "       [7.34312870e+04],\n",
       "       [2.24308440e+03],\n",
       "       [1.25412174e+03],\n",
       "       [9.13291031e+02],\n",
       "       [7.39245787e+02],\n",
       "       [2.98981776e+04],\n",
       "       [6.26636790e+04]])"
      ]
     },
     "execution_count": 33,
     "metadata": {},
     "output_type": "execute_result"
    }
   ],
   "source": [
    "ypredf1=np.exp(ypred1)\n",
    "ypredf1"
   ]
  },
  {
   "cell_type": "code",
   "execution_count": 34,
   "metadata": {},
   "outputs": [
    {
     "data": {
      "text/html": [
       "<div>\n",
       "<style scoped>\n",
       "    .dataframe tbody tr th:only-of-type {\n",
       "        vertical-align: middle;\n",
       "    }\n",
       "\n",
       "    .dataframe tbody tr th {\n",
       "        vertical-align: top;\n",
       "    }\n",
       "\n",
       "    .dataframe thead th {\n",
       "        text-align: right;\n",
       "    }\n",
       "</style>\n",
       "<table border=\"1\" class=\"dataframe\">\n",
       "  <thead>\n",
       "    <tr style=\"text-align: right;\">\n",
       "      <th></th>\n",
       "      <th>Transconf</th>\n",
       "    </tr>\n",
       "  </thead>\n",
       "  <tbody>\n",
       "    <tr>\n",
       "      <th>4354</th>\n",
       "      <td>51160.0</td>\n",
       "    </tr>\n",
       "    <tr>\n",
       "      <th>3600</th>\n",
       "      <td>22828.0</td>\n",
       "    </tr>\n",
       "    <tr>\n",
       "      <th>4774</th>\n",
       "      <td>89048.0</td>\n",
       "    </tr>\n",
       "    <tr>\n",
       "      <th>2098</th>\n",
       "      <td>4605.0</td>\n",
       "    </tr>\n",
       "    <tr>\n",
       "      <th>5439</th>\n",
       "      <td>172334.0</td>\n",
       "    </tr>\n",
       "    <tr>\n",
       "      <th>4739</th>\n",
       "      <td>85461.0</td>\n",
       "    </tr>\n",
       "    <tr>\n",
       "      <th>1220</th>\n",
       "      <td>1412.0</td>\n",
       "    </tr>\n",
       "    <tr>\n",
       "      <th>3168</th>\n",
       "      <td>14598.0</td>\n",
       "    </tr>\n",
       "    <tr>\n",
       "      <th>799</th>\n",
       "      <td>410.0</td>\n",
       "    </tr>\n",
       "    <tr>\n",
       "      <th>2916</th>\n",
       "      <td>11610.0</td>\n",
       "    </tr>\n",
       "    <tr>\n",
       "      <th>1572</th>\n",
       "      <td>2626.0</td>\n",
       "    </tr>\n",
       "    <tr>\n",
       "      <th>4494</th>\n",
       "      <td>60771.0</td>\n",
       "    </tr>\n",
       "    <tr>\n",
       "      <th>924</th>\n",
       "      <td>483.0</td>\n",
       "    </tr>\n",
       "    <tr>\n",
       "      <th>1768</th>\n",
       "      <td>3214.0</td>\n",
       "    </tr>\n",
       "    <tr>\n",
       "      <th>313</th>\n",
       "      <td>31.0</td>\n",
       "    </tr>\n",
       "    <tr>\n",
       "      <th>2065</th>\n",
       "      <td>4259.0</td>\n",
       "    </tr>\n",
       "    <tr>\n",
       "      <th>55</th>\n",
       "      <td>7.0</td>\n",
       "    </tr>\n",
       "    <tr>\n",
       "      <th>1966</th>\n",
       "      <td>3902.0</td>\n",
       "    </tr>\n",
       "    <tr>\n",
       "      <th>1380</th>\n",
       "      <td>1955.0</td>\n",
       "    </tr>\n",
       "    <tr>\n",
       "      <th>5999</th>\n",
       "      <td>259765.0</td>\n",
       "    </tr>\n",
       "    <tr>\n",
       "      <th>3780</th>\n",
       "      <td>26554.0</td>\n",
       "    </tr>\n",
       "    <tr>\n",
       "      <th>2807</th>\n",
       "      <td>10536.0</td>\n",
       "    </tr>\n",
       "    <tr>\n",
       "      <th>4669</th>\n",
       "      <td>77334.0</td>\n",
       "    </tr>\n",
       "    <tr>\n",
       "      <th>390</th>\n",
       "      <td>41.0</td>\n",
       "    </tr>\n",
       "    <tr>\n",
       "      <th>5019</th>\n",
       "      <td>118038.0</td>\n",
       "    </tr>\n",
       "    <tr>\n",
       "      <th>1999</th>\n",
       "      <td>4057.0</td>\n",
       "    </tr>\n",
       "    <tr>\n",
       "      <th>58</th>\n",
       "      <td>7.0</td>\n",
       "    </tr>\n",
       "    <tr>\n",
       "      <th>3312</th>\n",
       "      <td>17731.0</td>\n",
       "    </tr>\n",
       "    <tr>\n",
       "      <th>5649</th>\n",
       "      <td>203028.0</td>\n",
       "    </tr>\n",
       "    <tr>\n",
       "      <th>5544</th>\n",
       "      <td>187781.0</td>\n",
       "    </tr>\n",
       "    <tr>\n",
       "      <th>5159</th>\n",
       "      <td>136238.0</td>\n",
       "    </tr>\n",
       "    <tr>\n",
       "      <th>2952</th>\n",
       "      <td>12088.0</td>\n",
       "    </tr>\n",
       "    <tr>\n",
       "      <th>4564</th>\n",
       "      <td>66988.0</td>\n",
       "    </tr>\n",
       "    <tr>\n",
       "      <th>2199</th>\n",
       "      <td>5515.0</td>\n",
       "    </tr>\n",
       "    <tr>\n",
       "      <th>1834</th>\n",
       "      <td>3467.0</td>\n",
       "    </tr>\n",
       "    <tr>\n",
       "      <th>1636</th>\n",
       "      <td>2859.0</td>\n",
       "    </tr>\n",
       "    <tr>\n",
       "      <th>1508</th>\n",
       "      <td>2281.0</td>\n",
       "    </tr>\n",
       "    <tr>\n",
       "      <th>3960</th>\n",
       "      <td>32362.0</td>\n",
       "    </tr>\n",
       "    <tr>\n",
       "      <th>4459</th>\n",
       "      <td>58104.0</td>\n",
       "    </tr>\n",
       "  </tbody>\n",
       "</table>\n",
       "</div>"
      ],
      "text/plain": [
       "      Transconf\n",
       "4354    51160.0\n",
       "3600    22828.0\n",
       "4774    89048.0\n",
       "2098     4605.0\n",
       "5439   172334.0\n",
       "4739    85461.0\n",
       "1220     1412.0\n",
       "3168    14598.0\n",
       "799       410.0\n",
       "2916    11610.0\n",
       "1572     2626.0\n",
       "4494    60771.0\n",
       "924       483.0\n",
       "1768     3214.0\n",
       "313        31.0\n",
       "2065     4259.0\n",
       "55          7.0\n",
       "1966     3902.0\n",
       "1380     1955.0\n",
       "5999   259765.0\n",
       "3780    26554.0\n",
       "2807    10536.0\n",
       "4669    77334.0\n",
       "390        41.0\n",
       "5019   118038.0\n",
       "1999     4057.0\n",
       "58          7.0\n",
       "3312    17731.0\n",
       "5649   203028.0\n",
       "5544   187781.0\n",
       "5159   136238.0\n",
       "2952    12088.0\n",
       "4564    66988.0\n",
       "2199     5515.0\n",
       "1834     3467.0\n",
       "1636     2859.0\n",
       "1508     2281.0\n",
       "3960    32362.0\n",
       "4459    58104.0"
      ]
     },
     "execution_count": 34,
     "metadata": {},
     "output_type": "execute_result"
    }
   ],
   "source": [
    "ytestf=np.exp(ytest)\n",
    "ytestf"
   ]
  },
  {
   "cell_type": "code",
   "execution_count": 35,
   "metadata": {},
   "outputs": [
    {
     "data": {
      "text/plain": [
       "<matplotlib.collections.PathCollection at 0x20902085280>"
      ]
     },
     "execution_count": 35,
     "metadata": {},
     "output_type": "execute_result"
    },
    {
     "data": {
      "image/png": "[encoded data removed]",
      "text/plain": [
       "<Figure size 1800x1440 with 2 Axes>"
      ]
     },
     "metadata": {},
     "output_type": "display_data"
    }
   ],
   "source": [
    "plt.subplot(1,2,1)\n",
    "plt.title(\"Plot of predicted v/s actual set for Model1\")\n",
    "plt.xlabel(\"Date\")\n",
    "plt.ylabel(\"Number of cases in original form\")\n",
    "plt.scatter(xtest,ypredf1,marker=\"*\",color=\"red\")\n",
    "plt.subplot(1,2,2)\n",
    "\n",
    "plt.xlabel(\"Date\")\n",
    "plt.scatter(xtest,ytestf,marker=\"+\",color=\"blue\")"
   ]
  },
  {
   "cell_type": "code",
   "execution_count": 36,
   "metadata": {},
   "outputs": [
    {
     "data": {
      "text/plain": [
       "5341334174.077614"
      ]
     },
     "execution_count": 36,
     "metadata": {},
     "output_type": "execute_result"
    }
   ],
   "source": [
    "mean_squared_error(ytestf,ypredf1)"
   ]
  },
  {
   "cell_type": "code",
   "execution_count": 37,
   "metadata": {},
   "outputs": [],
   "source": [
    "from sklearn.tree import DecisionTreeRegressor"
   ]
  },
  {
   "cell_type": "code",
   "execution_count": 38,
   "metadata": {},
   "outputs": [
    {
     "data": {
      "text/plain": [
       "DecisionTreeRegressor()"
      ]
     },
     "execution_count": 38,
     "metadata": {},
     "output_type": "execute_result"
    }
   ],
   "source": [
    "model2=DecisionTreeRegressor()\n",
    "model2.fit(xtrain,ytrain)"
   ]
  },
  {
   "cell_type": "code",
   "execution_count": 39,
   "metadata": {},
   "outputs": [
    {
     "data": {
      "text/plain": [
       "array([10.80460373, 10.00545733, 11.43950495,  8.50228258, 12.02879833,\n",
       "       11.3026858 ,  7.16549348,  9.55329157,  5.83773045,  9.33565056,\n",
       "        7.75276481, 11.06259896,  6.11368218,  8.02975852,  3.29583687,\n",
       "        8.35655485,  1.94591015,  8.22389538,  7.51914996, 12.44183623,\n",
       "       10.15801349,  9.18327745, 11.21115799,  3.61091791, 11.63848265,\n",
       "        8.35655485,  1.94591015,  9.71679646, 12.19292661, 12.11424788,\n",
       "       11.78876013,  9.44272113, 11.06259896,  8.55159462,  8.12355784,\n",
       "        7.91644286,  7.69757535, 10.34676212, 10.92572263])"
      ]
     },
     "execution_count": 39,
     "metadata": {},
     "output_type": "execute_result"
    }
   ],
   "source": [
    "ypred2=model2.predict(xtest)\n",
    "ypred2"
   ]
  },
  {
   "cell_type": "code",
   "execution_count": 40,
   "metadata": {},
   "outputs": [
    {
     "data": {
      "text/plain": [
       "<matplotlib.collections.PathCollection at 0x20902904160>"
      ]
     },
     "execution_count": 40,
     "metadata": {},
     "output_type": "execute_result"
    },
    {
     "data": {
      "image/png": "[encoded data removed]",
      "text/plain": [
       "<Figure size 1800x1440 with 2 Axes>"
      ]
     },
     "metadata": {},
     "output_type": "display_data"
    }
   ],
   "source": [
    "plt.subplot(1,2,1)\n",
    "plt.title(\"Plot of predicted v/s actual set for Model2\")\n",
    "plt.xlabel(\"Date\")\n",
    "plt.ylabel(\"estimated and actual cases\")\n",
    "plt.scatter(xtest,ypred2,marker=\"*\",color=\"red\")\n",
    "plt.subplot(1,2,2)\n",
    "\n",
    "plt.xlabel(\"Date\")\n",
    "plt.scatter(xtest,ytest,marker=\"+\",color=\"blue\")"
   ]
  },
  {
   "cell_type": "code",
   "execution_count": 41,
   "metadata": {},
   "outputs": [
    {
     "data": {
      "text/plain": [
       "0.9999154486921963"
      ]
     },
     "execution_count": 41,
     "metadata": {},
     "output_type": "execute_result"
    }
   ],
   "source": [
    "m2score=model2.score(x,y)\n",
    "m2score"
   ]
  },
  {
   "cell_type": "code",
   "execution_count": 42,
   "metadata": {},
   "outputs": [
    {
     "data": {
      "text/plain": [
       "0.003804555180409608"
      ]
     },
     "execution_count": 42,
     "metadata": {},
     "output_type": "execute_result"
    }
   ],
   "source": [
    "mse2=mean_squared_error(ytest,ypred2)\n",
    "mse2"
   ]
  },
  {
   "cell_type": "code",
   "execution_count": 43,
   "metadata": {},
   "outputs": [
    {
     "data": {
      "text/plain": [
       "0.06168107635579658"
      ]
     },
     "execution_count": 43,
     "metadata": {},
     "output_type": "execute_result"
    }
   ],
   "source": [
    "rmse2=math.sqrt(mse2)\n",
    "rmse2"
   ]
  },
  {
   "cell_type": "code",
   "execution_count": 44,
   "metadata": {},
   "outputs": [
    {
     "data": {
      "text/plain": [
       "0.050681002258543884"
      ]
     },
     "execution_count": 44,
     "metadata": {},
     "output_type": "execute_result"
    }
   ],
   "source": [
    "mae2=mean_absolute_error(ytest,ypred2)\n",
    "mae2"
   ]
  },
  {
   "cell_type": "code",
   "execution_count": 45,
   "metadata": {},
   "outputs": [
    {
     "data": {
      "text/plain": [
       "array([10.80460373, 10.00545733, 11.43950495,  8.50228258, 12.02879833,\n",
       "       11.3026858 ,  7.16549348,  9.55329157,  5.83773045,  9.33565056,\n",
       "        7.75276481, 11.06259896,  6.11368218,  8.02975852,  3.29583687,\n",
       "        8.35655485,  1.94591015,  8.22389538,  7.51914996, 12.44183623,\n",
       "       10.15801349,  9.18327745, 11.21115799,  3.61091791, 11.63848265,\n",
       "        8.35655485,  1.94591015,  9.71679646, 12.19292661, 12.11424788,\n",
       "       11.78876013,  9.44272113, 11.06259896,  8.55159462,  8.12355784,\n",
       "        7.91644286,  7.69757535, 10.34676212, 10.92572263])"
      ]
     },
     "execution_count": 45,
     "metadata": {},
     "output_type": "execute_result"
    }
   ],
   "source": [
    "ypredf2=np.exp(ypred2)\n",
    "ypred2"
   ]
  },
  {
   "cell_type": "code",
   "execution_count": 46,
   "metadata": {},
   "outputs": [
    {
     "data": {
      "text/plain": [
       "<matplotlib.collections.PathCollection at 0x20902feb850>"
      ]
     },
     "execution_count": 46,
     "metadata": {},
     "output_type": "execute_result"
    },
    {
     "data": {
      "image/png": "[encoded data removed]",
      "text/plain": [
       "<Figure size 1800x1440 with 1 Axes>"
      ]
     },
     "metadata": {},
     "output_type": "display_data"
    }
   ],
   "source": [
    "plt.title(\"Plot of predicted v/s actual set for Model2\")\n",
    "plt.xlabel(\"Date\")\n",
    "plt.ylabel(\"estimated cases\")\n",
    "plt.scatter(xtest,ypredf2,marker=\"*\",color=\"red\")\n",
    "plt.scatter(xtest,ytestf,marker=\"+\",color=\"blue\")"
   ]
  },
  {
   "cell_type": "code",
   "execution_count": 47,
   "metadata": {},
   "outputs": [
    {
     "data": {
      "text/plain": [
       "6397144.487179349"
      ]
     },
     "execution_count": 47,
     "metadata": {},
     "output_type": "execute_result"
    }
   ],
   "source": [
    "mean_squared_error(ytestf,ypredf2)"
   ]
  },
  {
   "cell_type": "code",
   "execution_count": 48,
   "metadata": {},
   "outputs": [
    {
     "data": {
      "text/plain": [
       "1585.56410256409"
      ]
     },
     "execution_count": 48,
     "metadata": {},
     "output_type": "execute_result"
    }
   ],
   "source": [
    "mean_absolute_error(ytestf,ypredf2)"
   ]
  },
  {
   "cell_type": "code",
   "execution_count": 49,
   "metadata": {},
   "outputs": [],
   "source": [
    "from sklearn.svm import SVR"
   ]
  },
  {
   "cell_type": "code",
   "execution_count": 50,
   "metadata": {},
   "outputs": [],
   "source": [
    "model3=SVR(C=150,epsilon=0.001)"
   ]
  },
  {
   "cell_type": "code",
   "execution_count": 51,
   "metadata": {},
   "outputs": [
    {
     "name": "stderr",
     "output_type": "stream",
     "text": [
      "c:\\users\\dell\\appdata\\local\\programs\\python\\python38\\lib\\site-packages\\sklearn\\utils\\validation.py:73: DataConversionWarning: A column-vector y was passed when a 1d array was expected. Please change the shape of y to (n_samples, ), for example using ravel().\n",
      "  return f(**kwargs)\n"
     ]
    },
    {
     "data": {
      "text/plain": [
       "SVR(C=150, epsilon=0.001)"
      ]
     },
     "execution_count": 51,
     "metadata": {},
     "output_type": "execute_result"
    }
   ],
   "source": [
    "model3.fit(xtrain,ytrain)"
   ]
  },
  {
   "cell_type": "code",
   "execution_count": 52,
   "metadata": {},
   "outputs": [
    {
     "data": {
      "text/plain": [
       "array([10.84951051, 10.0296907 , 11.38949556,  8.45482925, 12.06563439,\n",
       "       11.34597542,  7.22913896,  9.6270465 ,  5.88516645,  9.36912642,\n",
       "        7.86619318, 11.03089843,  6.37312799,  8.10122977,  3.44699577,\n",
       "        8.41863193,  1.86505868,  8.31225163,  7.56437997, 12.4651289 ,\n",
       "       10.20148583,  9.25121685, 11.25744235,  3.87404084, 11.6746403 ,\n",
       "        8.34740853,  1.90199975,  9.76423972, 12.22293605, 12.14642429,\n",
       "       11.81889595,  9.40750224, 11.12201759,  8.56624527,  8.17243712,\n",
       "        7.94967026,  7.77531882, 10.38646265, 10.98532825])"
      ]
     },
     "execution_count": 52,
     "metadata": {},
     "output_type": "execute_result"
    }
   ],
   "source": [
    "ypred3=model3.predict(xtest)\n",
    "ypred3"
   ]
  },
  {
   "cell_type": "code",
   "execution_count": 53,
   "metadata": {},
   "outputs": [
    {
     "data": {
      "text/plain": [
       "0.9996568145945454"
      ]
     },
     "execution_count": 53,
     "metadata": {},
     "output_type": "execute_result"
    }
   ],
   "source": [
    "m3score=model3.score(x,y)\n",
    "m3score"
   ]
  },
  {
   "cell_type": "code",
   "execution_count": 54,
   "metadata": {},
   "outputs": [
    {
     "data": {
      "text/plain": [
       "0.0027167540794165324"
      ]
     },
     "execution_count": 54,
     "metadata": {},
     "output_type": "execute_result"
    }
   ],
   "source": [
    "mse3=mean_squared_error(ytest,ypred3)\n",
    "mse3"
   ]
  },
  {
   "cell_type": "code",
   "execution_count": 55,
   "metadata": {},
   "outputs": [
    {
     "data": {
      "text/plain": [
       "0.05212249110908392"
      ]
     },
     "execution_count": 55,
     "metadata": {},
     "output_type": "execute_result"
    }
   ],
   "source": [
    "rmse3=math.sqrt(mse3)\n",
    "rmse3"
   ]
  },
  {
   "cell_type": "code",
   "execution_count": 56,
   "metadata": {},
   "outputs": [
    {
     "data": {
      "text/plain": [
       "0.03017243242094038"
      ]
     },
     "execution_count": 56,
     "metadata": {},
     "output_type": "execute_result"
    }
   ],
   "source": [
    "mae3=mean_absolute_error(ytest,ypred3)\n",
    "mae3"
   ]
  },
  {
   "cell_type": "code",
   "execution_count": 57,
   "metadata": {},
   "outputs": [
    {
     "data": {
      "text/plain": [
       "<matplotlib.collections.PathCollection at 0x209030a4550>"
      ]
     },
     "execution_count": 57,
     "metadata": {},
     "output_type": "execute_result"
    },
    {
     "data": {
      "image/png": "[encoded data removed]",
      "text/plain": [
       "<Figure size 1800x1440 with 2 Axes>"
      ]
     },
     "metadata": {},
     "output_type": "display_data"
    }
   ],
   "source": [
    "plt.subplot(1,2,1)\n",
    "plt.title(\"Plot of predicted v/s actual set for Model3\")\n",
    "plt.xlabel(\"Date\")\n",
    "plt.ylabel(\"estimated and actual cases\")\n",
    "plt.scatter(xtest,ypred3,marker=\"*\",color=\"red\")\n",
    "plt.subplot(1,2,2)\n",
    "plt.xlabel(\"Date\")\n",
    "plt.scatter(xtest,ytest,marker=\"+\",color=\"blue\")"
   ]
  },
  {
   "cell_type": "code",
   "execution_count": 58,
   "metadata": {},
   "outputs": [
    {
     "data": {
      "text/plain": [
       "array([5.15089320e+04, 2.26902523e+04, 8.83883596e+04, 4.69770442e+03,\n",
       "       1.73795463e+05, 8.46241887e+04, 1.37903459e+03, 1.51695665e+04,\n",
       "       3.59662629e+02, 1.17208714e+04, 2.60761993e+03, 6.17530366e+04,\n",
       "       5.85887614e+02, 3.29852202e+03, 3.14058999e+01, 4.53070089e+03,\n",
       "       6.45631472e+00, 4.07347461e+03, 1.92827282e+03, 2.59141339e+05,\n",
       "       2.69431893e+04, 1.04172343e+04, 7.74542218e+04, 4.81365057e+01,\n",
       "       1.17552498e+05, 4.21923257e+03, 6.69927796e+00, 1.74002477e+04,\n",
       "       2.03401278e+05, 1.88419152e+05, 1.35794222e+05, 1.21794117e+04,\n",
       "       6.76442471e+04, 5.25137526e+03, 3.54196565e+03, 2.83464011e+03,\n",
       "       2.38110233e+03, 3.24177907e+04, 5.90020960e+04])"
      ]
     },
     "execution_count": 58,
     "metadata": {},
     "output_type": "execute_result"
    }
   ],
   "source": [
    "ypredf3=np.exp(ypred3)\n",
    "ypredf3"
   ]
  },
  {
   "cell_type": "code",
   "execution_count": 59,
   "metadata": {},
   "outputs": [
    {
     "data": {
      "text/plain": [
       "<matplotlib.collections.PathCollection at 0x20903148c70>"
      ]
     },
     "execution_count": 59,
     "metadata": {},
     "output_type": "execute_result"
    },
    {
     "data": {
      "image/png": "[encoded data removed]",
      "text/plain": [
       "<Figure size 1800x1440 with 2 Axes>"
      ]
     },
     "metadata": {},
     "output_type": "display_data"
    }
   ],
   "source": [
    "plt.subplot(1,2,1)\n",
    "plt.title(\"Plot of predicted v/s actual set for Model3\")\n",
    "plt.xlabel(\"Date\")\n",
    "plt.ylabel(\"estimated and actual cases\")\n",
    "plt.scatter(xtest,ypredf3,marker=\"*\",color=\"red\")\n",
    "plt.subplot(1,2,2)\n",
    "plt.xlabel(\"Date\")\n",
    "plt.scatter(xtest,ytestf,marker=\"+\",color=\"blue\")"
   ]
  },
  {
   "cell_type": "code",
   "execution_count": 60,
   "metadata": {},
   "outputs": [
    {
     "data": {
      "text/plain": [
       "201743.30966985133"
      ]
     },
     "execution_count": 60,
     "metadata": {},
     "output_type": "execute_result"
    }
   ],
   "source": [
    "mean_squared_error(ytestf,ypredf3)"
   ]
  },
  {
   "cell_type": "code",
   "execution_count": 61,
   "metadata": {},
   "outputs": [
    {
     "data": {
      "text/plain": [
       "303.05861719538984"
      ]
     },
     "execution_count": 61,
     "metadata": {},
     "output_type": "execute_result"
    }
   ],
   "source": [
    "mean_absolute_error(ytestf,ypredf3)"
   ]
  },
  {
   "cell_type": "code",
   "execution_count": 62,
   "metadata": {},
   "outputs": [
    {
     "data": {
      "text/plain": [
       "array([[10.88696918],\n",
       "       [ 9.77699247],\n",
       "       [11.52124158],\n",
       "       [ 7.55703906],\n",
       "       [12.52550622],\n",
       "       [11.46838555],\n",
       "       [ 6.12992616],\n",
       "       [ 9.14272007],\n",
       "       [ 5.44279772],\n",
       "       [ 8.77272783],\n",
       "       [ 6.71134253],\n",
       "       [11.09839331],\n",
       "       [ 5.65422186],\n",
       "       [ 7.02847873],\n",
       "       [ 4.54424515],\n",
       "       [ 7.50418303],\n",
       "       [ 3.64569258],\n",
       "       [ 7.34561493],\n",
       "       [ 6.39420632],\n",
       "       [13.37120275],\n",
       "       [10.04127264],\n",
       "       [ 8.61415973],\n",
       "       [11.36267348],\n",
       "       [ 4.70281325],\n",
       "       [11.89123381],\n",
       "       [ 7.39847096],\n",
       "       [ 3.69854861],\n",
       "       [ 9.3541442 ],\n",
       "       [12.84264242],\n",
       "       [12.68407432],\n",
       "       [12.10265795],\n",
       "       [ 8.82558387],\n",
       "       [11.20410538],\n",
       "       [ 7.71560716],\n",
       "       [ 7.13419079],\n",
       "       [ 6.81705459],\n",
       "       [ 6.60563046],\n",
       "       [10.30555281],\n",
       "       [11.04553728]])"
      ]
     },
     "execution_count": 62,
     "metadata": {},
     "output_type": "execute_result"
    }
   ],
   "source": [
    "ypred1\n",
    "a1=np.array(ypred1)\n",
    "a1"
   ]
  },
  {
   "cell_type": "code",
   "execution_count": 63,
   "metadata": {},
   "outputs": [
    {
     "data": {
      "text/plain": [
       "array([10.80460373, 10.00545733, 11.43950495,  8.50228258, 12.02879833,\n",
       "       11.3026858 ,  7.16549348,  9.55329157,  5.83773045,  9.33565056,\n",
       "        7.75276481, 11.06259896,  6.11368218,  8.02975852,  3.29583687,\n",
       "        8.35655485,  1.94591015,  8.22389538,  7.51914996, 12.44183623,\n",
       "       10.15801349,  9.18327745, 11.21115799,  3.61091791, 11.63848265,\n",
       "        8.35655485,  1.94591015,  9.71679646, 12.19292661, 12.11424788,\n",
       "       11.78876013,  9.44272113, 11.06259896,  8.55159462,  8.12355784,\n",
       "        7.91644286,  7.69757535, 10.34676212, 10.92572263])"
      ]
     },
     "execution_count": 63,
     "metadata": {},
     "output_type": "execute_result"
    }
   ],
   "source": [
    "ypred2\n",
    "a2=np.array(ypred2)\n",
    "a2"
   ]
  },
  {
   "cell_type": "code",
   "execution_count": 64,
   "metadata": {},
   "outputs": [
    {
     "data": {
      "text/plain": [
       "array([10.84951051, 10.0296907 , 11.38949556,  8.45482925, 12.06563439,\n",
       "       11.34597542,  7.22913896,  9.6270465 ,  5.88516645,  9.36912642,\n",
       "        7.86619318, 11.03089843,  6.37312799,  8.10122977,  3.44699577,\n",
       "        8.41863193,  1.86505868,  8.31225163,  7.56437997, 12.4651289 ,\n",
       "       10.20148583,  9.25121685, 11.25744235,  3.87404084, 11.6746403 ,\n",
       "        8.34740853,  1.90199975,  9.76423972, 12.22293605, 12.14642429,\n",
       "       11.81889595,  9.40750224, 11.12201759,  8.56624527,  8.17243712,\n",
       "        7.94967026,  7.77531882, 10.38646265, 10.98532825])"
      ]
     },
     "execution_count": 64,
     "metadata": {},
     "output_type": "execute_result"
    }
   ],
   "source": [
    "ypred3"
   ]
  },
  {
   "cell_type": "code",
   "execution_count": 65,
   "metadata": {},
   "outputs": [
    {
     "data": {
      "text/plain": [
       "array([[21.69157291],\n",
       "       [19.7824498 ],\n",
       "       [22.96074653],\n",
       "       [16.05932164],\n",
       "       [24.55430455],\n",
       "       [22.77107134],\n",
       "       [13.29541963],\n",
       "       [18.69601164],\n",
       "       [11.28052817],\n",
       "       [18.1083784 ],\n",
       "       [14.46410734],\n",
       "       [22.16099228],\n",
       "       [11.76790404],\n",
       "       [15.05823725],\n",
       "       [ 7.84008202],\n",
       "       [15.86073787],\n",
       "       [ 5.59160273],\n",
       "       [15.56951031],\n",
       "       [13.91335628],\n",
       "       [25.81303898],\n",
       "       [20.19928612],\n",
       "       [17.79743719],\n",
       "       [22.57383147],\n",
       "       [ 8.31373116],\n",
       "       [23.52971646],\n",
       "       [15.75502581],\n",
       "       [ 5.64445876],\n",
       "       [19.07094067],\n",
       "       [25.03556903],\n",
       "       [24.7983222 ],\n",
       "       [23.89141808],\n",
       "       [18.268305  ],\n",
       "       [22.26670434],\n",
       "       [16.26720178],\n",
       "       [15.25774863],\n",
       "       [14.73349745],\n",
       "       [14.30320581],\n",
       "       [20.65231493],\n",
       "       [21.97125991]])"
      ]
     },
     "execution_count": 65,
     "metadata": {},
     "output_type": "execute_result"
    }
   ],
   "source": [
    "a=np.add(a1.reshape(-1,1),a2.reshape(-1,1))\n",
    "a"
   ]
  },
  {
   "cell_type": "code",
   "execution_count": 66,
   "metadata": {},
   "outputs": [
    {
     "name": "stdout",
     "output_type": "stream",
     "text": [
      "39\n",
      "39\n",
      "2\n",
      "2\n",
      "39\n",
      "39\n"
     ]
    }
   ],
   "source": [
    "print(len(a))\n",
    "print(len(ypred1))\n",
    "print(np.ndim(a))\n",
    "print(np.ndim(ypred1))\n",
    "print(np.size(a))\n",
    "print(np.size(ypred1))"
   ]
  },
  {
   "cell_type": "code",
   "execution_count": 67,
   "metadata": {},
   "outputs": [
    {
     "data": {
      "text/plain": [
       "array([[32.54108342],\n",
       "       [29.8121405 ],\n",
       "       [34.35024209],\n",
       "       [24.51415089],\n",
       "       [36.61993893],\n",
       "       [34.11704677],\n",
       "       [20.52455859],\n",
       "       [28.32305814],\n",
       "       [17.16569462],\n",
       "       [27.47750481],\n",
       "       [22.33030052],\n",
       "       [33.1918907 ],\n",
       "       [18.14103202],\n",
       "       [23.15946702],\n",
       "       [11.28707779],\n",
       "       [24.2793698 ],\n",
       "       [ 7.45666141],\n",
       "       [23.88176193],\n",
       "       [21.47773625],\n",
       "       [38.27816788],\n",
       "       [30.40077195],\n",
       "       [27.04865404],\n",
       "       [33.83127382],\n",
       "       [12.18777201],\n",
       "       [35.20435676],\n",
       "       [24.10243434],\n",
       "       [ 7.54645852],\n",
       "       [28.83518038],\n",
       "       [37.25850508],\n",
       "       [36.94474649],\n",
       "       [35.71031403],\n",
       "       [27.67580723],\n",
       "       [33.38872193],\n",
       "       [24.83344706],\n",
       "       [23.43018575],\n",
       "       [22.68316772],\n",
       "       [22.07852463],\n",
       "       [31.03877758],\n",
       "       [32.95658815]])"
      ]
     },
     "execution_count": 67,
     "metadata": {},
     "output_type": "execute_result"
    }
   ],
   "source": [
    "a3=np.add(ypred3.reshape(-1,1),a.reshape(-1,1))\n",
    "a3"
   ]
  },
  {
   "cell_type": "code",
   "execution_count": 68,
   "metadata": {},
   "outputs": [
    {
     "data": {
      "text/plain": [
       "array([[10.84702781],\n",
       "       [ 9.93738017],\n",
       "       [11.4500807 ],\n",
       "       [ 8.17138363],\n",
       "       [12.20664631],\n",
       "       [11.37234892],\n",
       "       [ 6.84151953],\n",
       "       [ 9.44101938],\n",
       "       [ 5.72189821],\n",
       "       [ 9.15916827],\n",
       "       [ 7.44343351],\n",
       "       [11.06396357],\n",
       "       [ 6.04701067],\n",
       "       [ 7.71982234],\n",
       "       [ 3.76235926],\n",
       "       [ 8.09312327],\n",
       "       [ 2.4855538 ],\n",
       "       [ 7.96058731],\n",
       "       [ 7.15924542],\n",
       "       [12.75938929],\n",
       "       [10.13359065],\n",
       "       [ 9.01621801],\n",
       "       [11.27709127],\n",
       "       [ 4.06259067],\n",
       "       [11.73478559],\n",
       "       [ 8.03414478],\n",
       "       [ 2.51548617],\n",
       "       [ 9.61172679],\n",
       "       [12.41950169],\n",
       "       [12.3149155 ],\n",
       "       [11.90343801],\n",
       "       [ 9.22526908],\n",
       "       [11.12957398],\n",
       "       [ 8.27781569],\n",
       "       [ 7.81006192],\n",
       "       [ 7.56105591],\n",
       "       [ 7.35950821],\n",
       "       [10.34625919],\n",
       "       [10.98552938]])"
      ]
     },
     "execution_count": 68,
     "metadata": {},
     "output_type": "execute_result"
    }
   ],
   "source": [
    "a3=a3/3\n",
    "a3"
   ]
  },
  {
   "cell_type": "code",
   "execution_count": 69,
   "metadata": {},
   "outputs": [
    {
     "data": {
      "text/plain": [
       "0.0725808387468213"
      ]
     },
     "execution_count": 69,
     "metadata": {},
     "output_type": "execute_result"
    }
   ],
   "source": [
    "mean_squared_error(ytest,a3)"
   ]
  },
  {
   "cell_type": "code",
   "execution_count": 70,
   "metadata": {},
   "outputs": [
    {
     "data": {
      "text/plain": [
       "<matplotlib.collections.PathCollection at 0x20903ed0550>"
      ]
     },
     "execution_count": 70,
     "metadata": {},
     "output_type": "execute_result"
    },
    {
     "data": {
      "image/png": "[encoded data removed]",
      "text/plain": [
       "<Figure size 1800x1440 with 1 Axes>"
      ]
     },
     "metadata": {},
     "output_type": "display_data"
    }
   ],
   "source": [
    "plt.scatter(xtest,ytest,marker=\"+\",color=\"g\")\n",
    "plt.scatter(xtest,a3,color=\"r\")"
   ]
  },
  {
   "cell_type": "code",
   "execution_count": 71,
   "metadata": {},
   "outputs": [
    {
     "data": {
      "text/html": [
       "<div>\n",
       "<style scoped>\n",
       "    .dataframe tbody tr th:only-of-type {\n",
       "        vertical-align: middle;\n",
       "    }\n",
       "\n",
       "    .dataframe tbody tr th {\n",
       "        vertical-align: top;\n",
       "    }\n",
       "\n",
       "    .dataframe thead th {\n",
       "        text-align: right;\n",
       "    }\n",
       "</style>\n",
       "<table border=\"1\" class=\"dataframe\">\n",
       "  <thead>\n",
       "    <tr style=\"text-align: right;\">\n",
       "      <th></th>\n",
       "      <th>Transconf</th>\n",
       "    </tr>\n",
       "  </thead>\n",
       "  <tbody>\n",
       "    <tr>\n",
       "      <th>4354</th>\n",
       "      <td>51160.0</td>\n",
       "    </tr>\n",
       "    <tr>\n",
       "      <th>3600</th>\n",
       "      <td>22828.0</td>\n",
       "    </tr>\n",
       "    <tr>\n",
       "      <th>4774</th>\n",
       "      <td>89048.0</td>\n",
       "    </tr>\n",
       "    <tr>\n",
       "      <th>2098</th>\n",
       "      <td>4605.0</td>\n",
       "    </tr>\n",
       "    <tr>\n",
       "      <th>5439</th>\n",
       "      <td>172334.0</td>\n",
       "    </tr>\n",
       "    <tr>\n",
       "      <th>4739</th>\n",
       "      <td>85461.0</td>\n",
       "    </tr>\n",
       "    <tr>\n",
       "      <th>1220</th>\n",
       "      <td>1412.0</td>\n",
       "    </tr>\n",
       "    <tr>\n",
       "      <th>3168</th>\n",
       "      <td>14598.0</td>\n",
       "    </tr>\n",
       "    <tr>\n",
       "      <th>799</th>\n",
       "      <td>410.0</td>\n",
       "    </tr>\n",
       "    <tr>\n",
       "      <th>2916</th>\n",
       "      <td>11610.0</td>\n",
       "    </tr>\n",
       "    <tr>\n",
       "      <th>1572</th>\n",
       "      <td>2626.0</td>\n",
       "    </tr>\n",
       "    <tr>\n",
       "      <th>4494</th>\n",
       "      <td>60771.0</td>\n",
       "    </tr>\n",
       "    <tr>\n",
       "      <th>924</th>\n",
       "      <td>483.0</td>\n",
       "    </tr>\n",
       "    <tr>\n",
       "      <th>1768</th>\n",
       "      <td>3214.0</td>\n",
       "    </tr>\n",
       "    <tr>\n",
       "      <th>313</th>\n",
       "      <td>31.0</td>\n",
       "    </tr>\n",
       "    <tr>\n",
       "      <th>2065</th>\n",
       "      <td>4259.0</td>\n",
       "    </tr>\n",
       "    <tr>\n",
       "      <th>55</th>\n",
       "      <td>7.0</td>\n",
       "    </tr>\n",
       "    <tr>\n",
       "      <th>1966</th>\n",
       "      <td>3902.0</td>\n",
       "    </tr>\n",
       "    <tr>\n",
       "      <th>1380</th>\n",
       "      <td>1955.0</td>\n",
       "    </tr>\n",
       "    <tr>\n",
       "      <th>5999</th>\n",
       "      <td>259765.0</td>\n",
       "    </tr>\n",
       "    <tr>\n",
       "      <th>3780</th>\n",
       "      <td>26554.0</td>\n",
       "    </tr>\n",
       "    <tr>\n",
       "      <th>2807</th>\n",
       "      <td>10536.0</td>\n",
       "    </tr>\n",
       "    <tr>\n",
       "      <th>4669</th>\n",
       "      <td>77334.0</td>\n",
       "    </tr>\n",
       "    <tr>\n",
       "      <th>390</th>\n",
       "      <td>41.0</td>\n",
       "    </tr>\n",
       "    <tr>\n",
       "      <th>5019</th>\n",
       "      <td>118038.0</td>\n",
       "    </tr>\n",
       "    <tr>\n",
       "      <th>1999</th>\n",
       "      <td>4057.0</td>\n",
       "    </tr>\n",
       "    <tr>\n",
       "      <th>58</th>\n",
       "      <td>7.0</td>\n",
       "    </tr>\n",
       "    <tr>\n",
       "      <th>3312</th>\n",
       "      <td>17731.0</td>\n",
       "    </tr>\n",
       "    <tr>\n",
       "      <th>5649</th>\n",
       "      <td>203028.0</td>\n",
       "    </tr>\n",
       "    <tr>\n",
       "      <th>5544</th>\n",
       "      <td>187781.0</td>\n",
       "    </tr>\n",
       "    <tr>\n",
       "      <th>5159</th>\n",
       "      <td>136238.0</td>\n",
       "    </tr>\n",
       "    <tr>\n",
       "      <th>2952</th>\n",
       "      <td>12088.0</td>\n",
       "    </tr>\n",
       "    <tr>\n",
       "      <th>4564</th>\n",
       "      <td>66988.0</td>\n",
       "    </tr>\n",
       "    <tr>\n",
       "      <th>2199</th>\n",
       "      <td>5515.0</td>\n",
       "    </tr>\n",
       "    <tr>\n",
       "      <th>1834</th>\n",
       "      <td>3467.0</td>\n",
       "    </tr>\n",
       "    <tr>\n",
       "      <th>1636</th>\n",
       "      <td>2859.0</td>\n",
       "    </tr>\n",
       "    <tr>\n",
       "      <th>1508</th>\n",
       "      <td>2281.0</td>\n",
       "    </tr>\n",
       "    <tr>\n",
       "      <th>3960</th>\n",
       "      <td>32362.0</td>\n",
       "    </tr>\n",
       "    <tr>\n",
       "      <th>4459</th>\n",
       "      <td>58104.0</td>\n",
       "    </tr>\n",
       "  </tbody>\n",
       "</table>\n",
       "</div>"
      ],
      "text/plain": [
       "      Transconf\n",
       "4354    51160.0\n",
       "3600    22828.0\n",
       "4774    89048.0\n",
       "2098     4605.0\n",
       "5439   172334.0\n",
       "4739    85461.0\n",
       "1220     1412.0\n",
       "3168    14598.0\n",
       "799       410.0\n",
       "2916    11610.0\n",
       "1572     2626.0\n",
       "4494    60771.0\n",
       "924       483.0\n",
       "1768     3214.0\n",
       "313        31.0\n",
       "2065     4259.0\n",
       "55          7.0\n",
       "1966     3902.0\n",
       "1380     1955.0\n",
       "5999   259765.0\n",
       "3780    26554.0\n",
       "2807    10536.0\n",
       "4669    77334.0\n",
       "390        41.0\n",
       "5019   118038.0\n",
       "1999     4057.0\n",
       "58          7.0\n",
       "3312    17731.0\n",
       "5649   203028.0\n",
       "5544   187781.0\n",
       "5159   136238.0\n",
       "2952    12088.0\n",
       "4564    66988.0\n",
       "2199     5515.0\n",
       "1834     3467.0\n",
       "1636     2859.0\n",
       "1508     2281.0\n",
       "3960    32362.0\n",
       "4459    58104.0"
      ]
     },
     "execution_count": 71,
     "metadata": {},
     "output_type": "execute_result"
    }
   ],
   "source": [
    "ytestf"
   ]
  },
  {
   "cell_type": "code",
   "execution_count": 72,
   "metadata": {},
   "outputs": [
    {
     "data": {
      "text/plain": [
       "39"
      ]
     },
     "execution_count": 72,
     "metadata": {},
     "output_type": "execute_result"
    }
   ],
   "source": [
    "len(ytest)"
   ]
  },
  {
   "cell_type": "code",
   "execution_count": 73,
   "metadata": {},
   "outputs": [
    {
     "data": {
      "text/plain": [
       "array([[5.13812092e+04],\n",
       "       [2.06894702e+04],\n",
       "       [9.39089238e+04],\n",
       "       [3.53823619e+03],\n",
       "       [2.00114766e+05],\n",
       "       [8.68857158e+04],\n",
       "       [9.35910199e+02],\n",
       "       [1.25945490e+04],\n",
       "       [3.05484245e+02],\n",
       "       [9.50115141e+03],\n",
       "       [1.70860667e+03],\n",
       "       [6.38290419e+04],\n",
       "       [4.22847111e+02],\n",
       "       [2.25255936e+03],\n",
       "       [4.30498722e+01],\n",
       "       [3.27189062e+03],\n",
       "       [1.20077683e+01],\n",
       "       [2.86575555e+03],\n",
       "       [1.28594022e+03],\n",
       "       [3.47802231e+05],\n",
       "       [2.51745955e+04],\n",
       "       [8.23557129e+03],\n",
       "       [7.89911638e+04],\n",
       "       [5.81246981e+01],\n",
       "       [1.24839674e+05],\n",
       "       [3.08449979e+03],\n",
       "       [1.23726225e+01],\n",
       "       [1.49389443e+04],\n",
       "       [2.47583132e+05],\n",
       "       [2.22997424e+05],\n",
       "       [1.47773801e+05],\n",
       "       [1.01504070e+04],\n",
       "       [6.81573293e+04],\n",
       "       [3.93558842e+03],\n",
       "       [2.46528307e+03],\n",
       "       [1.92187376e+03],\n",
       "       [1.57106374e+03],\n",
       "       [3.11403346e+04],\n",
       "       [5.90139647e+04]])"
      ]
     },
     "execution_count": 73,
     "metadata": {},
     "output_type": "execute_result"
    }
   ],
   "source": [
    "a3f=np.exp(a3)\n",
    "a3f"
   ]
  },
  {
   "cell_type": "code",
   "execution_count": 74,
   "metadata": {},
   "outputs": [
    {
     "data": {
      "text/plain": [
       "<matplotlib.collections.PathCollection at 0x20903075670>"
      ]
     },
     "execution_count": 74,
     "metadata": {},
     "output_type": "execute_result"
    },
    {
     "data": {
      "image/png": "[encoded data removed]",
      "text/plain": [
       "<Figure size 1800x1440 with 1 Axes>"
      ]
     },
     "metadata": {},
     "output_type": "display_data"
    }
   ],
   "source": [
    "plt.scatter(xtest,ytestf,marker=\"+\",color=\"r\")\n",
    "plt.scatter(xtest,a3f,color=\"b\")"
   ]
  },
  {
   "cell_type": "code",
   "execution_count": 75,
   "metadata": {},
   "outputs": [
    {
     "data": {
      "text/plain": [
       "307993796.9066901"
      ]
     },
     "execution_count": 75,
     "metadata": {},
     "output_type": "execute_result"
    }
   ],
   "source": [
    "m1=mean_squared_error(ytestf,a3f)\n",
    "m1"
   ]
  },
  {
   "cell_type": "code",
   "execution_count": 76,
   "metadata": {},
   "outputs": [
    {
     "data": {
      "text/plain": [
       "17549.75204687206"
      ]
     },
     "execution_count": 76,
     "metadata": {},
     "output_type": "execute_result"
    }
   ],
   "source": [
    "m2=math.sqrt(m1)\n",
    "m2"
   ]
  },
  {
   "cell_type": "code",
   "execution_count": 77,
   "metadata": {},
   "outputs": [
    {
     "data": {
      "text/plain": [
       "6528.958174254862"
      ]
     },
     "execution_count": 77,
     "metadata": {},
     "output_type": "execute_result"
    }
   ],
   "source": [
    "m3=mean_absolute_error(ytestf,a3f)\n",
    "m3"
   ]
  },
  {
   "cell_type": "code",
   "execution_count": 78,
   "metadata": {},
   "outputs": [
    {
     "data": {
      "text/html": [
       "<div>\n",
       "<style scoped>\n",
       "    .dataframe tbody tr th:only-of-type {\n",
       "        vertical-align: middle;\n",
       "    }\n",
       "\n",
       "    .dataframe tbody tr th {\n",
       "        vertical-align: top;\n",
       "    }\n",
       "\n",
       "    .dataframe thead th {\n",
       "        text-align: right;\n",
       "    }\n",
       "</style>\n",
       "<table border=\"1\" class=\"dataframe\">\n",
       "  <thead>\n",
       "    <tr style=\"text-align: right;\">\n",
       "      <th></th>\n",
       "      <th>Mean Squared Error</th>\n",
       "      <th>Root MeanSquared Error</th>\n",
       "      <th>Mean Absolute Error</th>\n",
       "    </tr>\n",
       "  </thead>\n",
       "  <tbody>\n",
       "    <tr>\n",
       "      <th>1</th>\n",
       "      <td>3.079938e+08</td>\n",
       "      <td>17549.752047</td>\n",
       "      <td>6528.958174</td>\n",
       "    </tr>\n",
       "  </tbody>\n",
       "</table>\n",
       "</div>"
      ],
      "text/plain": [
       "   Mean Squared Error  Root MeanSquared Error  Mean Absolute Error\n",
       "1        3.079938e+08            17549.752047          6528.958174"
      ]
     },
     "execution_count": 78,
     "metadata": {},
     "output_type": "execute_result"
    }
   ],
   "source": [
    "Finres=pd.DataFrame({\"Mean Squared Error\":[m1],\"Root MeanSquared Error\":[m2],\"Mean Absolute Error\":[m3]},index=[1])\n",
    "Finres"
   ]
  },
  {
   "cell_type": "code",
   "execution_count": 79,
   "metadata": {},
   "outputs": [
    {
     "name": "stdout",
     "output_type": "stream",
     "text": [
      "2\n"
     ]
    }
   ],
   "source": [
    "a4=ypred3.reshape(-1,1)\n",
    "a4\n",
    "print(np.ndim(a4))"
   ]
  },
  {
   "cell_type": "code",
   "execution_count": 80,
   "metadata": {},
   "outputs": [
    {
     "data": {
      "text/html": [
       "<div>\n",
       "<style scoped>\n",
       "    .dataframe tbody tr th:only-of-type {\n",
       "        vertical-align: middle;\n",
       "    }\n",
       "\n",
       "    .dataframe tbody tr th {\n",
       "        vertical-align: top;\n",
       "    }\n",
       "\n",
       "    .dataframe thead th {\n",
       "        text-align: right;\n",
       "    }\n",
       "</style>\n",
       "<table border=\"1\" class=\"dataframe\">\n",
       "  <thead>\n",
       "    <tr style=\"text-align: right;\">\n",
       "      <th></th>\n",
       "      <th>Model</th>\n",
       "      <th>Accuracy_Score</th>\n",
       "      <th>Mean_Squared_Error</th>\n",
       "      <th>Rootmean_Squared_error</th>\n",
       "      <th>Mean_Absolute_Error</th>\n",
       "    </tr>\n",
       "  </thead>\n",
       "  <tbody>\n",
       "    <tr>\n",
       "      <th>1</th>\n",
       "      <td>Linear Regression</td>\n",
       "      <td>0.926581</td>\n",
       "      <td>0.639808</td>\n",
       "      <td>0.799880</td>\n",
       "      <td>0.660236</td>\n",
       "    </tr>\n",
       "    <tr>\n",
       "      <th>2</th>\n",
       "      <td>Decision Tree Regression</td>\n",
       "      <td>0.999915</td>\n",
       "      <td>0.003805</td>\n",
       "      <td>0.061681</td>\n",
       "      <td>0.050681</td>\n",
       "    </tr>\n",
       "    <tr>\n",
       "      <th>3</th>\n",
       "      <td>Support vector Regression</td>\n",
       "      <td>0.999657</td>\n",
       "      <td>0.002717</td>\n",
       "      <td>0.052122</td>\n",
       "      <td>0.030172</td>\n",
       "    </tr>\n",
       "  </tbody>\n",
       "</table>\n",
       "</div>"
      ],
      "text/plain": [
       "                       Model  Accuracy_Score  Mean_Squared_Error  \\\n",
       "1          Linear Regression        0.926581            0.639808   \n",
       "2   Decision Tree Regression        0.999915            0.003805   \n",
       "3  Support vector Regression        0.999657            0.002717   \n",
       "\n",
       "   Rootmean_Squared_error  Mean_Absolute_Error  \n",
       "1                0.799880             0.660236  \n",
       "2                0.061681             0.050681  \n",
       "3                0.052122             0.030172  "
      ]
     },
     "execution_count": 80,
     "metadata": {},
     "output_type": "execute_result"
    }
   ],
   "source": [
    "newdf=pd.DataFrame({\"Model\":[\"Linear Regression\",\"Decision Tree Regression\",\"Support vector Regression\"],\"Accuracy_Score\":[m1score,m2score,m3score],\"Mean_Squared_Error\":[mse1,mse2,mse3],\"Rootmean_Squared_error\":[rmse1,rmse2,rmse3],\"Mean_Absolute_Error\":[mae1,mae2,mae3]},index=[1,2,3])\n",
    "newdf"
   ]
  },
  {
   "cell_type": "code",
   "execution_count": 81,
   "metadata": {},
   "outputs": [],
   "source": [
    "newdf.to_csv(\"Results for FinalRegressionUPModels.csv\",index=False)"
   ]
  },
  {
   "cell_type": "code",
   "execution_count": 82,
   "metadata": {},
   "outputs": [
    {
     "data": {
      "text/html": [
       "<div>\n",
       "<style scoped>\n",
       "    .dataframe tbody tr th:only-of-type {\n",
       "        vertical-align: middle;\n",
       "    }\n",
       "\n",
       "    .dataframe tbody tr th {\n",
       "        vertical-align: top;\n",
       "    }\n",
       "\n",
       "    .dataframe thead th {\n",
       "        text-align: right;\n",
       "    }\n",
       "</style>\n",
       "<table border=\"1\" class=\"dataframe\">\n",
       "  <thead>\n",
       "    <tr style=\"text-align: right;\">\n",
       "      <th></th>\n",
       "      <th>Model</th>\n",
       "      <th>Accuracy_Score</th>\n",
       "      <th>Mean_Squared_Error</th>\n",
       "      <th>Rootmean_Squared_error</th>\n",
       "      <th>Mean_Absolute_Error</th>\n",
       "    </tr>\n",
       "  </thead>\n",
       "  <tbody>\n",
       "    <tr>\n",
       "      <th>0</th>\n",
       "      <td>Linear Regression</td>\n",
       "      <td>0.926581</td>\n",
       "      <td>0.639808</td>\n",
       "      <td>0.799880</td>\n",
       "      <td>0.660236</td>\n",
       "    </tr>\n",
       "    <tr>\n",
       "      <th>1</th>\n",
       "      <td>Decision Tree Regression</td>\n",
       "      <td>0.999915</td>\n",
       "      <td>0.003805</td>\n",
       "      <td>0.061681</td>\n",
       "      <td>0.050681</td>\n",
       "    </tr>\n",
       "    <tr>\n",
       "      <th>2</th>\n",
       "      <td>Support vector Regression</td>\n",
       "      <td>0.999657</td>\n",
       "      <td>0.002717</td>\n",
       "      <td>0.052122</td>\n",
       "      <td>0.030172</td>\n",
       "    </tr>\n",
       "  </tbody>\n",
       "</table>\n",
       "</div>"
      ],
      "text/plain": [
       "                       Model  Accuracy_Score  Mean_Squared_Error  \\\n",
       "0          Linear Regression        0.926581            0.639808   \n",
       "1   Decision Tree Regression        0.999915            0.003805   \n",
       "2  Support vector Regression        0.999657            0.002717   \n",
       "\n",
       "   Rootmean_Squared_error  Mean_Absolute_Error  \n",
       "0                0.799880             0.660236  \n",
       "1                0.061681             0.050681  \n",
       "2                0.052122             0.030172  "
      ]
     },
     "execution_count": 82,
     "metadata": {},
     "output_type": "execute_result"
    }
   ],
   "source": [
    "d2=pd.read_csv(\"Results for FinalRegressionUPModels.csv\")\n",
    "d2"
   ]
  },
  {
   "cell_type": "code",
   "execution_count": null,
   "metadata": {},
   "outputs": [],
   "source": []
  }
 ],
 "metadata": {
  "kernelspec": {
   "display_name": "Python 3",
   "language": "python",
   "name": "python3"
  },
  "language_info": {
   "codemirror_mode": {
    "name": "ipython",
    "version": 3
   },
   "file_extension": ".py",
   "mimetype": "text/x-python",
   "name": "python",
   "nbconvert_exporter": "python",
   "pygments_lexer": "ipython3",
   "version": "3.8.3rc1"
  }
 },
 "nbformat": 4,
 "nbformat_minor": 4
}
